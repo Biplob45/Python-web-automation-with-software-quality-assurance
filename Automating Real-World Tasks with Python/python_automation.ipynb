{
 "cells": [
  {
   "cell_type": "code",
   "execution_count": 1,
   "metadata": {},
   "outputs": [
    {
     "name": "stdout",
     "output_type": "stream",
     "text": [
      "Requirement already satisfied: pillow in d:\\anacona\\envs\\tensorflow\\lib\\site-packages (7.2.0)\n",
      "Note: you may need to restart the kernel to use updated packages.\n"
     ]
    }
   ],
   "source": [
    "pip install pillow"
   ]
  },
  {
   "cell_type": "code",
   "execution_count": 2,
   "metadata": {},
   "outputs": [],
   "source": [
    "import PIL"
   ]
  },
  {
   "cell_type": "code",
   "execution_count": 3,
   "metadata": {},
   "outputs": [
    {
     "name": "stdout",
     "output_type": "stream",
     "text": [
      "Help on package PIL:\n",
      "\n",
      "NAME\n",
      "    PIL - Pillow (Fork of the Python Imaging Library)\n",
      "\n",
      "DESCRIPTION\n",
      "    Pillow is the friendly PIL fork by Alex Clark and Contributors.\n",
      "        https://github.com/python-pillow/Pillow/\n",
      "    \n",
      "    Pillow is forked from PIL 1.1.7.\n",
      "    \n",
      "    PIL is the Python Imaging Library by Fredrik Lundh and Contributors.\n",
      "    Copyright (c) 1999 by Secret Labs AB.\n",
      "    \n",
      "    Use PIL.__version__ for this Pillow version.\n",
      "    \n",
      "    ;-)\n",
      "\n",
      "PACKAGE CONTENTS\n",
      "    BdfFontFile\n",
      "    BlpImagePlugin\n",
      "    BmpImagePlugin\n",
      "    BufrStubImagePlugin\n",
      "    ContainerIO\n",
      "    CurImagePlugin\n",
      "    DcxImagePlugin\n",
      "    DdsImagePlugin\n",
      "    EpsImagePlugin\n",
      "    ExifTags\n",
      "    FitsStubImagePlugin\n",
      "    FliImagePlugin\n",
      "    FontFile\n",
      "    FpxImagePlugin\n",
      "    FtexImagePlugin\n",
      "    GbrImagePlugin\n",
      "    GdImageFile\n",
      "    GifImagePlugin\n",
      "    GimpGradientFile\n",
      "    GimpPaletteFile\n",
      "    GribStubImagePlugin\n",
      "    Hdf5StubImagePlugin\n",
      "    IcnsImagePlugin\n",
      "    IcoImagePlugin\n",
      "    ImImagePlugin\n",
      "    Image\n",
      "    ImageChops\n",
      "    ImageCms\n",
      "    ImageColor\n",
      "    ImageDraw\n",
      "    ImageDraw2\n",
      "    ImageEnhance\n",
      "    ImageFile\n",
      "    ImageFilter\n",
      "    ImageFont\n",
      "    ImageGrab\n",
      "    ImageMath\n",
      "    ImageMode\n",
      "    ImageMorph\n",
      "    ImageOps\n",
      "    ImagePalette\n",
      "    ImagePath\n",
      "    ImageQt\n",
      "    ImageSequence\n",
      "    ImageShow\n",
      "    ImageStat\n",
      "    ImageTk\n",
      "    ImageTransform\n",
      "    ImageWin\n",
      "    ImtImagePlugin\n",
      "    IptcImagePlugin\n",
      "    Jpeg2KImagePlugin\n",
      "    JpegImagePlugin\n",
      "    JpegPresets\n",
      "    McIdasImagePlugin\n",
      "    MicImagePlugin\n",
      "    MpegImagePlugin\n",
      "    MpoImagePlugin\n",
      "    MspImagePlugin\n",
      "    PSDraw\n",
      "    PaletteFile\n",
      "    PalmImagePlugin\n",
      "    PcdImagePlugin\n",
      "    PcfFontFile\n",
      "    PcxImagePlugin\n",
      "    PdfImagePlugin\n",
      "    PdfParser\n",
      "    PixarImagePlugin\n",
      "    PngImagePlugin\n",
      "    PpmImagePlugin\n",
      "    PsdImagePlugin\n",
      "    PyAccess\n",
      "    SgiImagePlugin\n",
      "    SpiderImagePlugin\n",
      "    SunImagePlugin\n",
      "    TarIO\n",
      "    TgaImagePlugin\n",
      "    TiffImagePlugin\n",
      "    TiffTags\n",
      "    WalImageFile\n",
      "    WebPImagePlugin\n",
      "    WmfImagePlugin\n",
      "    XVThumbImagePlugin\n",
      "    XbmImagePlugin\n",
      "    XpmImagePlugin\n",
      "    __main__\n",
      "    _binary\n",
      "    _imaging\n",
      "    _imagingft\n",
      "    _imagingmath\n",
      "    _imagingmorph\n",
      "    _imagingtk\n",
      "    _tkinter_finder\n",
      "    _util\n",
      "    _version\n",
      "    features\n",
      "\n",
      "CLASSES\n",
      "    builtins.OSError(builtins.Exception)\n",
      "        UnidentifiedImageError\n",
      "    \n",
      "    class UnidentifiedImageError(builtins.OSError)\n",
      "     |  Raised in :py:meth:`PIL.Image.open` if an image cannot be opened and identified.\n",
      "     |  \n",
      "     |  Method resolution order:\n",
      "     |      UnidentifiedImageError\n",
      "     |      builtins.OSError\n",
      "     |      builtins.Exception\n",
      "     |      builtins.BaseException\n",
      "     |      builtins.object\n",
      "     |  \n",
      "     |  Data descriptors defined here:\n",
      "     |  \n",
      "     |  __weakref__\n",
      "     |      list of weak references to the object (if defined)\n",
      "     |  \n",
      "     |  ----------------------------------------------------------------------\n",
      "     |  Methods inherited from builtins.OSError:\n",
      "     |  \n",
      "     |  __init__(self, /, *args, **kwargs)\n",
      "     |      Initialize self.  See help(type(self)) for accurate signature.\n",
      "     |  \n",
      "     |  __reduce__(...)\n",
      "     |      Helper for pickle.\n",
      "     |  \n",
      "     |  __str__(self, /)\n",
      "     |      Return str(self).\n",
      "     |  \n",
      "     |  ----------------------------------------------------------------------\n",
      "     |  Static methods inherited from builtins.OSError:\n",
      "     |  \n",
      "     |  __new__(*args, **kwargs) from builtins.type\n",
      "     |      Create and return a new object.  See help(type) for accurate signature.\n",
      "     |  \n",
      "     |  ----------------------------------------------------------------------\n",
      "     |  Data descriptors inherited from builtins.OSError:\n",
      "     |  \n",
      "     |  characters_written\n",
      "     |  \n",
      "     |  errno\n",
      "     |      POSIX exception code\n",
      "     |  \n",
      "     |  filename\n",
      "     |      exception filename\n",
      "     |  \n",
      "     |  filename2\n",
      "     |      second exception filename\n",
      "     |  \n",
      "     |  strerror\n",
      "     |      exception strerror\n",
      "     |  \n",
      "     |  winerror\n",
      "     |      Win32 exception code\n",
      "     |  \n",
      "     |  ----------------------------------------------------------------------\n",
      "     |  Methods inherited from builtins.BaseException:\n",
      "     |  \n",
      "     |  __delattr__(self, name, /)\n",
      "     |      Implement delattr(self, name).\n",
      "     |  \n",
      "     |  __getattribute__(self, name, /)\n",
      "     |      Return getattr(self, name).\n",
      "     |  \n",
      "     |  __repr__(self, /)\n",
      "     |      Return repr(self).\n",
      "     |  \n",
      "     |  __setattr__(self, name, value, /)\n",
      "     |      Implement setattr(self, name, value).\n",
      "     |  \n",
      "     |  __setstate__(...)\n",
      "     |  \n",
      "     |  with_traceback(...)\n",
      "     |      Exception.with_traceback(tb) --\n",
      "     |      set self.__traceback__ to tb and return self.\n",
      "     |  \n",
      "     |  ----------------------------------------------------------------------\n",
      "     |  Data descriptors inherited from builtins.BaseException:\n",
      "     |  \n",
      "     |  __cause__\n",
      "     |      exception cause\n",
      "     |  \n",
      "     |  __context__\n",
      "     |      exception context\n",
      "     |  \n",
      "     |  __dict__\n",
      "     |  \n",
      "     |  __suppress_context__\n",
      "     |  \n",
      "     |  __traceback__\n",
      "     |  \n",
      "     |  args\n",
      "\n",
      "FUNCTIONS\n",
      "    __getattr__(name)\n",
      "\n",
      "VERSION\n",
      "    7.2.0\n",
      "\n",
      "FILE\n",
      "    d:\\anacona\\envs\\tensorflow\\lib\\site-packages\\pil\\__init__.py\n",
      "\n",
      "\n"
     ]
    }
   ],
   "source": [
    "\n",
    "help(PIL)"
   ]
  },
  {
   "cell_type": "code",
   "execution_count": 7,
   "metadata": {},
   "outputs": [],
   "source": [
    "# if we wanted to resize an image and save the new image with a new name, we could do it with:\n",
    "#https://stackoverflow.com/questions/273946/how-do-i-resize-an-image-using-pil-and-maintain-its-aspect-ratio\n",
    "\n",
    "\n",
    "from PIL import Image\n",
    "im = Image.open(\"example.png\")\n",
    "new_im = im.resize((640,480))\n",
    "new_im.save(\"example_resized.png\")\n",
    "\n",
    "\n",
    "\n",
    "\n",
    "#from PIL import Image\n",
    "\n",
    "#basewidth = 300\n",
    "#img = Image.open('example.png')\n",
    "#wpercent = (basewidth/float(img.size[0]))\n",
    "#hsize = int((float(img.size[1])*float(wpercent)))\n",
    "#img = img.resize((basewidth,hsize), Image.ANTIALIAS)\n",
    "#img.save('example1.png') \n",
    "\n"
   ]
  },
  {
   "cell_type": "code",
   "execution_count": null,
   "metadata": {},
   "outputs": [],
   "source": []
  },
  {
   "cell_type": "code",
   "execution_count": 8,
   "metadata": {},
   "outputs": [
    {
     "name": "stdout",
     "output_type": "stream",
     "text": [
      "PNG (1365, 767) P\n"
     ]
    }
   ],
   "source": [
    "from PIL import Image\n",
    "im = Image.open(\"example.png\")\n",
    "print(im.format, im.size, im.mode)"
   ]
  },
  {
   "cell_type": "code",
   "execution_count": 5,
   "metadata": {},
   "outputs": [],
   "source": [
    "im.show()"
   ]
  },
  {
   "cell_type": "code",
   "execution_count": 11,
   "metadata": {},
   "outputs": [],
   "source": [
    "#In this case, we're using the resize method that returns a new image with the new size, and then we save it into a different file. Or, if we want to rotate an image, we can use code like this:\n",
    "\n",
    "from PIL import Image\n",
    "im = Image.open(\"example.png\")\n",
    "new_im = im.rotate(45)\n",
    "new_im.save(\"example_rotated.png\")"
   ]
  },
  {
   "cell_type": "code",
   "execution_count": null,
   "metadata": {},
   "outputs": [],
   "source": []
  },
  {
   "cell_type": "code",
   "execution_count": 17,
   "metadata": {},
   "outputs": [],
   "source": [
    "#This method also returns a new image that we can then use to create the new rotated file. Because the methods return a new object, we can even combine these operations into just one line that rotates, resizes, and saves:\n",
    "from PIL import Image\n",
    "im = Image.open(\"example.png\")\n",
    "im.rotate(180).resize((640,480)).save(\"flipped_and_resized.png\")"
   ]
  },
  {
   "cell_type": "code",
   "execution_count": 15,
   "metadata": {},
   "outputs": [],
   "source": [
    "#There's a ton more that you can do with the PIL library. Have a look at the docs(https://pillow.readthedocs.io/en/stable/handbook/tutorial.html) and try it on your computer!"
   ]
  },
  {
   "cell_type": "markdown",
   "metadata": {},
   "source": []
  },
  {
   "cell_type": "code",
   "execution_count": 23,
   "metadata": {},
   "outputs": [
    {
     "name": "stdout",
     "output_type": "stream",
     "text": [
      "cannot convert -f\n",
      "cannot convert C:\\Users\\Biplob\\AppData\\Roaming\\jupyter\\runtime\\kernel-87629902-543c-4133-b584-0c80ca7bec1f.json\n"
     ]
    }
   ],
   "source": [
    "import os, sys\n",
    "from PIL import Image\n",
    "\n",
    "for infile in sys.argv[1:]:\n",
    "    f, e = os.path.splitext(infile)\n",
    "    outfile = f + \".jpg\"\n",
    "    if infile != outfile:\n",
    "        try:\n",
    "            with Image.open(infile) as im:\n",
    "                im.save(outfile)\n",
    "        except OSError:\n",
    "            print(\"cannot convert\", infile)\n"
   ]
  },
  {
   "cell_type": "code",
   "execution_count": 3,
   "metadata": {},
   "outputs": [
    {
     "name": "stdout",
     "output_type": "stream",
     "text": [
      "cannot create thumbnail for -f\n",
      "cannot create thumbnail for C:\\Users\\Biplob\\AppData\\Roaming\\jupyter\\runtime\\kernel-d56c7262-d253-43b4-b164-c14116cd84d1.json\n"
     ]
    }
   ],
   "source": [
    "import os, sys\n",
    "from PIL import Image\n",
    "\n",
    "size = (128, 128)\n",
    "\n",
    "for infile in sys.argv[1:]:\n",
    "    outfile = os.path.splitext(infile)[0] + \".thumbnail\"\n",
    "    if infile != outfile:\n",
    "        try:\n",
    "            with Image.open(infile) as im:\n",
    "                im.thumbnail(size)\n",
    "                im.save(outfile, \"JPEG\")\n",
    "        except OSError:\n",
    "            print(\"cannot create thumbnail for\", infile)"
   ]
  },
  {
   "cell_type": "code",
   "execution_count": 27,
   "metadata": {},
   "outputs": [],
   "source": [
    "\n",
    "\n",
    "# importing Image class from PIL package \n",
    "from PIL import Image \n",
    "\n",
    "# creating a object \n",
    "image = Image.open(\"example.png\") \n",
    "MAX_SIZE = (500, 500) \n",
    "\n",
    "image.thumbnail(MAX_SIZE) \n",
    "\n",
    "# creating thumbnail \n",
    "image.save('pythonthumb.png') \n",
    "image.show() \n"
   ]
  },
  {
   "cell_type": "markdown",
   "metadata": {},
   "source": [
    "#  Week 2"
   ]
  },
  {
   "cell_type": "markdown",
   "metadata": {},
   "source": [
    "## 1. Web Applications and Services\n",
    "1. https://www.json.org/json-en.html\n",
    "\n",
    "2. https://docs.python.org/3/library/json.html"
   ]
  },
  {
   "cell_type": "code",
   "execution_count": 3,
   "metadata": {},
   "outputs": [],
   "source": [
    "#More About JSON\n",
    "\n",
    "import json"
   ]
  },
  {
   "cell_type": "code",
   "execution_count": 4,
   "metadata": {},
   "outputs": [],
   "source": [
    "import json\n",
    "\n",
    "people = [\n",
    "  {\n",
    "    \"name\": \"Sabrina Green\",\n",
    "    \"username\": \"sgreen\",\n",
    "    \"phone\": {\n",
    "      \"office\": \"802-867-5309\",\n",
    "      \"cell\": \"802-867-5310\"\n",
    "    },\n",
    "    \"department\": \"IT Infrastructure\",\n",
    "    \"role\": \"Systems Administrator\"\n",
    "  },\n",
    "  {\n",
    "    \"name\": \"Eli Jones\",\n",
    "    \"username\": \"ejones\",\n",
    "    \"phone\": {\n",
    "      \"office\": \"684-348-1127\"\n",
    "    },\n",
    "    \"department\": \"IT Infrastructure\",\n",
    "    \"role\": \"IT Specialist\"\n",
    "  }\n",
    "]\n",
    "\n",
    "with open('people.json', 'w') as people_json:\n",
    "    json.dump(people, people_json)"
   ]
  },
  {
   "cell_type": "code",
   "execution_count": 22,
   "metadata": {},
   "outputs": [],
   "source": [
    "#JSON doesn't need to contain multiple lines, but it sure can be hard to read the result if it's formatted this way! Let's use the indent parameter for json.dump() to make it a bit easier to read.\n",
    "with open('people.json', 'w') as people_json:\n",
    "    json.dump(people, people_json, indent=2)"
   ]
  },
  {
   "cell_type": "code",
   "execution_count": 23,
   "metadata": {},
   "outputs": [
    {
     "name": "stdout",
     "output_type": "stream",
     "text": [
      "[{\"name\": \"Sabrina Green\", \"username\": \"sgreen\", \"phone\": {\"office\": \"802-867-5309\", \"cell\": \"802-867-5310\"}, \"department\": \"IT Infrastructure\", \"role\": \"Systems Administrator\"}, {\"name\": \"Eli Jones\", \"username\": \"ejones\", \"phone\": {\"office\": \"684-348-1127\"}, \"department\": \"IT Infrastructure\", \"role\": \"IT Specialist\"}]\n"
     ]
    }
   ],
   "source": [
    "#Another option is to use the dumps() method, which also serializes Python objects, but returns a string instead of writing directly to a file.\n",
    "import json\n",
    "\n",
    "people = [\n",
    "  {\n",
    "    \"name\": \"Sabrina Green\",\n",
    "    \"username\": \"sgreen\",\n",
    "    \"phone\": {\n",
    "      \"office\": \"802-867-5309\",\n",
    "      \"cell\": \"802-867-5310\"\n",
    "    },\n",
    "    \"department\": \"IT Infrastructure\",\n",
    "    \"role\": \"Systems Administrator\"\n",
    "  },\n",
    "  {\n",
    "    \"name\": \"Eli Jones\",\n",
    "    \"username\": \"ejones\",\n",
    "    \"phone\": {\n",
    "      \"office\": \"684-348-1127\"\n",
    "    },\n",
    "    \"department\": \"IT Infrastructure\",\n",
    "    \"role\": \"IT Specialist\"\n",
    "  }\n",
    "]\n",
    "\n",
    "people_json = json.dumps(people)\n",
    "print(people_json)"
   ]
  },
  {
   "cell_type": "code",
   "execution_count": null,
   "metadata": {},
   "outputs": [],
   "source": []
  },
  {
   "cell_type": "code",
   "execution_count": 24,
   "metadata": {},
   "outputs": [],
   "source": [
    "#The load() method does the inverse of the dump() method. It deserializes JSON from a file into basic Python objects. The loads() method also deserializes JSON into basic Python objects, but parses a string instead of a file.\n",
    "\n",
    "import json\n",
    "with open('people.json', 'r') as people_json:\n",
    "    people = json.load(people_json)"
   ]
  },
  {
   "cell_type": "code",
   "execution_count": 25,
   "metadata": {},
   "outputs": [
    {
     "name": "stdout",
     "output_type": "stream",
     "text": [
      "[{'name': 'Sabrina Green', 'username': 'sgreen', 'phone': {'office': '802-867-5309', 'cell': '802-867-5310'}, 'department': 'IT Infrastructure', 'role': 'Systems Administrator'}, {'name': 'Eli Jones', 'username': 'ejones', 'phone': {'office': '684-348-1127'}, 'department': 'IT Infrastructure', 'role': 'IT Specialist'}]\n"
     ]
    }
   ],
   "source": [
    "print(people)"
   ]
  },
  {
   "cell_type": "code",
   "execution_count": null,
   "metadata": {},
   "outputs": [],
   "source": [
    "\n"
   ]
  },
  {
   "cell_type": "code",
   "execution_count": 14,
   "metadata": {},
   "outputs": [],
   "source": [
    "#JSON (JavaScript Object Notation), specified by RFC 7159 (which obsoletes RFC 4627) and by ECMA-404, is a lightweight data interchange format inspired by JavaScript object literal syntax (although it is not a strict subset of JavaScript 1 ).\n",
    "\n",
    "#json exposes an API familiar to users of the standard library marshal and pickle modules.\n",
    "\n",
    "##Encoding basic Python object hierarchies:"
   ]
  },
  {
   "cell_type": "code",
   "execution_count": 15,
   "metadata": {},
   "outputs": [
    {
     "data": {
      "text/plain": [
       "'[\"foo\", {\"bar\": [\"baz\", null, 1.0, 2]}]'"
      ]
     },
     "execution_count": 15,
     "metadata": {},
     "output_type": "execute_result"
    }
   ],
   "source": [
    "json.dumps(['foo', {'bar': ('baz', None, 1.0, 2)}])"
   ]
  },
  {
   "cell_type": "code",
   "execution_count": 16,
   "metadata": {},
   "outputs": [
    {
     "name": "stdout",
     "output_type": "stream",
     "text": [
      "\"\\\"foo\\bar\"\n"
     ]
    }
   ],
   "source": [
    "print(json.dumps(\"\\\"foo\\bar\"))"
   ]
  },
  {
   "cell_type": "code",
   "execution_count": 17,
   "metadata": {},
   "outputs": [
    {
     "name": "stdout",
     "output_type": "stream",
     "text": [
      "{\"a\": 0, \"b\": 0, \"c\": 0}\n"
     ]
    }
   ],
   "source": [
    "print(json.dumps({\"c\": 0, \"b\": 0, \"a\": 0}, sort_keys=True))"
   ]
  },
  {
   "cell_type": "code",
   "execution_count": 18,
   "metadata": {},
   "outputs": [],
   "source": [
    "from io import StringIO"
   ]
  },
  {
   "cell_type": "code",
   "execution_count": 19,
   "metadata": {},
   "outputs": [],
   "source": [
    "io = StringIO()"
   ]
  },
  {
   "cell_type": "code",
   "execution_count": 20,
   "metadata": {},
   "outputs": [],
   "source": [
    "json.dump(['streaming API'], io)"
   ]
  },
  {
   "cell_type": "code",
   "execution_count": 21,
   "metadata": {},
   "outputs": [
    {
     "data": {
      "text/plain": [
       "'[\"streaming API\"]'"
      ]
     },
     "execution_count": 21,
     "metadata": {},
     "output_type": "execute_result"
    }
   ],
   "source": [
    "io.getvalue()"
   ]
  },
  {
   "cell_type": "code",
   "execution_count": null,
   "metadata": {},
   "outputs": [],
   "source": []
  },
  {
   "cell_type": "markdown",
   "metadata": {},
   "source": [
    "# 2. Python Requests\n",
    "\n",
    "1. The Python Requests Library"
   ]
  },
  {
   "cell_type": "markdown",
   "metadata": {},
   "source": [
    "The Python Requests library(https://requests.readthedocs.io/en/master/) makes it super easy to write programs that send and receive HTTP. Instead of having to understand the HTTP protocol in great detail, you can just make very simple HTTP connections using Python objects, and then send and receive messages using the methods of those objects. Let's look at an example:\n"
   ]
  },
  {
   "cell_type": "code",
   "execution_count": 27,
   "metadata": {},
   "outputs": [],
   "source": [
    "\n",
    "import requests\n",
    "response = requests.get('https://www.google.com')"
   ]
  },
  {
   "cell_type": "code",
   "execution_count": 30,
   "metadata": {
    "scrolled": true
   },
   "outputs": [
    {
     "name": "stdout",
     "output_type": "stream",
     "text": [
      "<!doctype html><html itemscope=\"\" itemtype=\"http://schema.org/WebPage\" lang=\"bn\"><head><meta content=\"text/html; charset=UTF-8\" http-equiv=\"Content-Type\"><meta content=\"/images/branding/googleg/1x/googleg_standard_color_128dp.png\" itemprop=\"image\"><title>Google</title><script nonce=\"9bcP7i24rYgBGWwa\n"
     ]
    }
   ],
   "source": [
    "print(response.text[:300])"
   ]
  },
  {
   "cell_type": "markdown",
   "metadata": {},
   "source": [
    "Now, it might be hard for you to read the HTML (HyperText Markup Language)(https://html.spec.whatwg.org/multipage/) that was returned in this response, but your web browser knows just how to turn that into a familiar-looking web page.\n",
    "\n",
    "Even with this simple example, the Requests module has done a whole lot of work for us! We didn't have to write any code to find the web server, make a network connection, construct an HTTP message, wait for a response, or decode the response. Not that HTML can't be messy enough on its own, but let's look at the first bytes of the raw(https://requests.readthedocs.io/en/master/api/#requests.Response.raw) message that we received from the server:\n"
   ]
  },
  {
   "cell_type": "code",
   "execution_count": 41,
   "metadata": {},
   "outputs": [],
   "source": [
    "response = requests.get('https://www.google.com', stream=True)"
   ]
  },
  {
   "cell_type": "code",
   "execution_count": 42,
   "metadata": {},
   "outputs": [
    {
     "name": "stdout",
     "output_type": "stream",
     "text": [
      "b\"\\x1f\\x8b\\x08\\x00\\x00\\x00\\x00\\x00\\x02\\xff\\xc5[\\xfbw\\x9b\\xc6\\xb6\\xfe=\\x7f\\x05&\\xab\\xb6t\\x8d%@ \\x90\\x08\\xc9q]\\xa7IO\\xda\\xa4'i\\x93&\\xcd\\xf1\\x1a`$Q#\\xc0\\x80\\xfc\\x88\\xad\\xff\\xfd~{x\\x08d\\xe5qO\\xd7]'\\x891\\xf3\\xda\\xb3\\x1f\\xdf\\xec\\xd9{\\x86<\\xda\\x0b\\x12\\xbf\\xb8I\\xb9\\xb4(\\x96\\xd1\\xe3G\\xf4\\x94\\xc2\\x82/s?\"\n"
     ]
    }
   ],
   "source": [
    "print(response.raw.read()[:100])"
   ]
  },
  {
   "cell_type": "markdown",
   "metadata": {},
   "source": [
    "What's all that? The response was compressed with gzip(https://www.gzip.org/), so it had to be decompressed before we could even read the text of the HTML. One more thing that the Requests library handled for us!\n",
    "\n",
    "The requests.Response(https://requests.readthedocs.io/en/master/api/#requests.Response) object also contains the exact request that was created for us. We can check out the headers stored in our object to see that the Requests module told the web server that it was okay to compress the content:"
   ]
  },
  {
   "cell_type": "code",
   "execution_count": 43,
   "metadata": {},
   "outputs": [
    {
     "data": {
      "text/plain": [
       "'gzip, deflate'"
      ]
     },
     "execution_count": 43,
     "metadata": {},
     "output_type": "execute_result"
    }
   ],
   "source": [
    "response.request.headers['Accept-Encoding']"
   ]
  },
  {
   "cell_type": "markdown",
   "metadata": {},
   "source": [
    "And then the server told us that the content had actually been compressed."
   ]
  },
  {
   "cell_type": "code",
   "execution_count": 46,
   "metadata": {},
   "outputs": [
    {
     "data": {
      "text/plain": [
       "'gzip'"
      ]
     },
     "execution_count": 46,
     "metadata": {},
     "output_type": "execute_result"
    }
   ],
   "source": [
    "response.headers['Content-Encoding']"
   ]
  },
  {
   "cell_type": "markdown",
   "metadata": {},
   "source": [
    "2 Useful Operations for Python Requests"
   ]
  },
  {
   "cell_type": "markdown",
   "metadata": {},
   "source": [
    "Useful Operations for Python Requests\n",
    "\n",
    "There's a ton of things that we can do with Python Requests.  We'll cover some of the most important features here and give you pointers for more information at the end.\n",
    "\n",
    "First, how do we know if a request we made got a successful response? You can check out the value of Response.ok(https://requests.readthedocs.io/en/master/api/#requests.Response.ok), which will be True if the response was good, and False if it wasn't."
   ]
  },
  {
   "cell_type": "code",
   "execution_count": 47,
   "metadata": {},
   "outputs": [
    {
     "data": {
      "text/plain": [
       "True"
      ]
     },
     "execution_count": 47,
     "metadata": {},
     "output_type": "execute_result"
    }
   ],
   "source": [
    "response.ok"
   ]
  },
  {
   "cell_type": "markdown",
   "metadata": {},
   "source": [
    "Now, keep in mind that this will only tell you if the web server says that the response successfully fulfilled the request. The response module can’t determine if that data that you got back is the kind of data that you were expecting. You'll need to do your own checking for that!\n",
    "\n",
    "If the boolean isn’t specific enough for your needs, you can get the HTTP response code(https://www.iana.org/assignments/http-status-codes/http-status-codes.xhtml) that was returned by looking at Response.status_code(https://requests.readthedocs.io/en/master/api/#requests.Response.ok):"
   ]
  },
  {
   "cell_type": "code",
   "execution_count": 66,
   "metadata": {},
   "outputs": [
    {
     "name": "stdout",
     "output_type": "stream",
     "text": [
      "<PreparedRequest [GET]>\n"
     ]
    },
    {
     "data": {
      "text/plain": [
       "<Response [200]>"
      ]
     },
     "execution_count": 66,
     "metadata": {},
     "output_type": "execute_result"
    }
   ],
   "source": [
    "#https://requests.readthedocs.io/en/master/\n",
    "import requests\n",
    "req = requests.Request('GET', 'https://httpbin.org/get')\n",
    "r = req.prepare()\n",
    "print(r)\n",
    "\n",
    "\n",
    "s = requests.Session()\n",
    "s.send(r)"
   ]
  },
  {
   "cell_type": "code",
   "execution_count": 69,
   "metadata": {},
   "outputs": [
    {
     "data": {
      "text/plain": [
       "{'message': 'Maximum number of login attempts exceeded. Please try again later.',\n",
       " 'documentation_url': 'https://docs.github.com/rest'}"
      ]
     },
     "execution_count": 69,
     "metadata": {},
     "output_type": "execute_result"
    }
   ],
   "source": [
    "#https://requests.readthedocs.io/en/master/\n",
    "r = requests.get('https://api.github.com/user', auth=('user', 'pass'))\n",
    "r.status_code\n",
    "\n",
    "r.headers['content-type']\n",
    "'application/json; charset=utf8'\n",
    "r.encoding\n",
    "\n",
    "r.text\n",
    "\n",
    "r.json()\n"
   ]
  },
  {
   "cell_type": "code",
   "execution_count": null,
   "metadata": {},
   "outputs": [],
   "source": []
  },
  {
   "cell_type": "markdown",
   "metadata": {},
   "source": [
    "response.status_code"
   ]
  },
  {
   "cell_type": "markdown",
   "metadata": {},
   "source": [
    "Excellent! To write maintainable, stable code, you’ll always want to check your responses to make sure they succeeded before trying to process them further. For example, you could do something like this:"
   ]
  },
  {
   "cell_type": "code",
   "execution_count": 57,
   "metadata": {},
   "outputs": [],
   "source": [
    "response = requests.get(\"https://www.google.com\")\n",
    "if not response.ok:\n",
    "    raise Exception(\"GET failed with status code {}\".format(response.status_code))"
   ]
  },
  {
   "cell_type": "markdown",
   "metadata": {},
   "source": [
    "But you don't really need to do that. Requests has us covered here, too! We can use the Response.raise_for_status() (https://requests.readthedocs.io/en/master/api/#requests.Response.raise_for_status) method, which will raise an HTTPError exception only if the response wasn’t successful."
   ]
  },
  {
   "cell_type": "code",
   "execution_count": 62,
   "metadata": {},
   "outputs": [],
   "source": [
    "response = requests.get(\"https://www.google.com\")\n",
    "response.raise_for_status()"
   ]
  },
  {
   "cell_type": "markdown",
   "metadata": {},
   "source": [
    "3  HTTP GET and POST Methods"
   ]
  },
  {
   "cell_type": "markdown",
   "metadata": {},
   "source": [
    "HTTP GET and POST Methods\n",
    "\n",
    "HTTP supports several HTTP methods (https://tools.ietf.org/html/rfc7231#section-4.3), like GET, POST, PUT, and DELETE. We're going to spend time on the two most common HTTP requests: GET and POST.\n",
    "\n",
    "The HTTP GET method (https://tools.ietf.org/html/rfc7231#section-4.3.1), of course, retrieves or gets the resource specified in the URL. By sending a GET request to the web server, you’re asking for the server to GET the resource for you. When you’re browsing the web, most of what you’re doing is using your web browser to issue a whole bunch of GET requests for the text, images, videos, and so forth that your browser will display to you.\n",
    "\n",
    "A GET request can have parameters. Have you ever seen a URL that looked like this?\n",
    "\n",
    "https://example.com/path/to/api/cat_pictures?search=grey+kitten&max_results=15"
   ]
  },
  {
   "cell_type": "markdown",
   "metadata": {},
   "source": [
    "The question mark separates the URL resource from the resource's parameters. These parameters are one or more key-value pairs, formatted as a query string(https://en.wikipedia.org/wiki/Query_string). In the example above, the search parameter is set to \"grey+kitten\", and the max_results parameter is set to 15.\n",
    "\n",
    "But you don't have to write your own code to create an URL like that one. With requests.get()  (https://requests.readthedocs.io/en/master/api/#requests.get), you can provide a dictionary of parameters, and the Requests module will construct the correct URL for you!"
   ]
  },
  {
   "cell_type": "code",
   "execution_count": 72,
   "metadata": {},
   "outputs": [],
   "source": [
    "p = {\"search\": \"grey kitten\", \"max_results\": 15}\n"
   ]
  },
  {
   "cell_type": "code",
   "execution_count": 73,
   "metadata": {},
   "outputs": [],
   "source": [
    "response = requests.get(\"https://example.com/path/to/api\", params=p)"
   ]
  },
  {
   "cell_type": "code",
   "execution_count": 74,
   "metadata": {},
   "outputs": [
    {
     "data": {
      "text/plain": [
       "'https://example.com/path/to/api?search=grey+kitten&max_results=15'"
      ]
     },
     "execution_count": 74,
     "metadata": {},
     "output_type": "execute_result"
    }
   ],
   "source": [
    "response.request.url"
   ]
  },
  {
   "cell_type": "markdown",
   "metadata": {},
   "source": [
    "You might notice that using parameters in Requests is yet another form of data serialization. Query strings are handy when we want to send small bits of information, but as our data becomes more complex, it can get hard to represent it using query strings. \n",
    "\n",
    "An alternative in that case is using the HTTP POST method (https://tools.ietf.org/html/rfc7231#section-4.3.3). This method sends, or posts, data to a web service. Whenever you fill a web form and press a button to submit, you're using the POST method to send that data back to the web server. This method tends to be used when there's a bunch of data to transmit.\n",
    "\n",
    "In our scripts, a POST request looks very similar to a GET request. Instead of setting the params attribute, which gets turned into a query string and appended to the URL, we use the data attribute, which contains the data that will be sent as part of the POST request."
   ]
  },
  {
   "cell_type": "code",
   "execution_count": 75,
   "metadata": {},
   "outputs": [],
   "source": [
    "p = {\"description\": \"white kitten\",\"name\": \"Snowball\",\"age_months\": 6}\n"
   ]
  },
  {
   "cell_type": "code",
   "execution_count": 76,
   "metadata": {},
   "outputs": [],
   "source": [
    "response = requests.post(\"https://example.com/path/to/api\", data=p)"
   ]
  },
  {
   "cell_type": "code",
   "execution_count": 77,
   "metadata": {},
   "outputs": [
    {
     "data": {
      "text/plain": [
       "'https://example.com/path/to/api'"
      ]
     },
     "execution_count": 77,
     "metadata": {},
     "output_type": "execute_result"
    }
   ],
   "source": [
    "response.request.url\n"
   ]
  },
  {
   "cell_type": "markdown",
   "metadata": {},
   "source": [
    "See how much simpler the URL is on this POST now? Where did all of the parameters go? They’re part of the body of the HTTP message. We can see them by checking out the body attribute.\n"
   ]
  },
  {
   "cell_type": "code",
   "execution_count": 78,
   "metadata": {},
   "outputs": [
    {
     "data": {
      "text/plain": [
       "'description=white+kitten&name=Snowball&age_months=6'"
      ]
     },
     "execution_count": 78,
     "metadata": {},
     "output_type": "execute_result"
    }
   ],
   "source": [
    "response.request.body"
   ]
  },
  {
   "cell_type": "markdown",
   "metadata": {},
   "source": [
    "Ah, ha! There they are!\n",
    "\n",
    "So, if we need to send and receive data from a web service, we can turn our data into dictionaries and then pass that as the data attribute of a POST request.\n",
    "\n",
    "Today, it's super common to send and receive data specifically in JSON format, so the Requests module can do the conversion directly for us, using the json parameter."
   ]
  },
  {
   "cell_type": "code",
   "execution_count": 79,
   "metadata": {},
   "outputs": [],
   "source": [
    "response = requests.post(\"https://example.com/path/to/api\", json=p)"
   ]
  },
  {
   "cell_type": "code",
   "execution_count": 80,
   "metadata": {},
   "outputs": [
    {
     "data": {
      "text/plain": [
       "'https://example.com/path/to/api'"
      ]
     },
     "execution_count": 80,
     "metadata": {},
     "output_type": "execute_result"
    }
   ],
   "source": [
    "response.request.url"
   ]
  },
  {
   "cell_type": "code",
   "execution_count": 81,
   "metadata": {},
   "outputs": [
    {
     "data": {
      "text/plain": [
       "b'{\"description\": \"white kitten\", \"name\": \"Snowball\", \"age_months\": 6}'"
      ]
     },
     "execution_count": 81,
     "metadata": {},
     "output_type": "execute_result"
    }
   ],
   "source": [
    "response.request.body"
   ]
  },
  {
   "cell_type": "markdown",
   "metadata": {},
   "source": [
    "And that's it for our brief introduction to the Requests module. If you want to learn more, feel free to work through the Requests Quickstart (https://requests.readthedocs.io/en/master/user/quickstart/).\n",
    "\n",
    "In the project at the end of this module, you’ll use the Requests module to interact with a web application. This simple application was created using the Django web framework. So, what's that, exactly? Read on to learn more!"
   ]
  },
  {
   "cell_type": "code",
   "execution_count": 82,
   "metadata": {},
   "outputs": [],
   "source": [
    "r = requests.get('https://api.github.com/events')\n"
   ]
  },
  {
   "cell_type": "code",
   "execution_count": 83,
   "metadata": {},
   "outputs": [
    {
     "data": {
      "text/plain": [
       "'[{\"id\":\"13350424803\",\"type\":\"CreateEvent\",\"actor\":{\"id\":3991984,\"login\":\"maranqz\",\"display_login\":\"maranqz\",\"gravatar_id\":\"\",\"url\":\"https://api.github.com/users/maranqz\",\"avatar_url\":\"https://avatars.githubusercontent.com/u/3991984?\"},\"repo\":{\"id\":290155769,\"name\":\"maranqz/scrapy\",\"url\":\"https://api.github.com/repos/maranqz/scrapy\"},\"payload\":{\"ref\":\"feature/4606-exporter-from-FEEDS\",\"ref_type\":\"branch\",\"master_branch\":\"master\",\"description\":\"Scrapy, a fast high-level web crawling & scraping framework for Python.\",\"pusher_type\":\"user\"},\"public\":true,\"created_at\":\"2020-08-30T07:58:00Z\"},{\"id\":\"13350424801\",\"type\":\"PushEvent\",\"actor\":{\"id\":66354099,\"login\":\"Ritivik\",\"display_login\":\"Ritivik\",\"gravatar_id\":\"\",\"url\":\"https://api.github.com/users/Ritivik\",\"avatar_url\":\"https://avatars.githubusercontent.com/u/66354099?\"},\"repo\":{\"id\":287346674,\"name\":\"Ritivik/coursera-test\",\"url\":\"https://api.github.com/repos/Ritivik/coursera-test\"},\"payload\":{\"push_id\":5606096057,\"size\":1,\"distinct_size\":1,\"ref\":\"refs/heads/master\",\"head\":\"faf4a72d3915b131aa73b0bb46ac530dfabe5a4b\",\"before\":\"ec8d95b560fecbe9392cc2217d29bdfaff06004e\",\"commits\":[{\"sha\":\"faf4a72d3915b131aa73b0bb46ac530dfabe5a4b\",\"author\":{\"email\":\"66354099+Ritivik@users.noreply.github.com\",\"name\":\"Ritivik\"},\"message\":\"Create index.html\",\"distinct\":true,\"url\":\"https://api.github.com/repos/Ritivik/coursera-test/commits/faf4a72d3915b131aa73b0bb46ac530dfabe5a4b\"}]},\"public\":true,\"created_at\":\"2020-08-30T07:58:00Z\"},{\"id\":\"13350424800\",\"type\":\"WatchEvent\",\"actor\":{\"id\":40373468,\"login\":\"shavz\",\"display_login\":\"shavz\",\"gravatar_id\":\"\",\"url\":\"https://api.github.com/users/shavz\",\"avatar_url\":\"https://avatars.githubusercontent.com/u/40373468?\"},\"repo\":{\"id\":290356845,\"name\":\"kornelski/cavif\",\"url\":\"https://api.github.com/repos/kornelski/cavif\"},\"payload\":{\"action\":\"started\"},\"public\":true,\"created_at\":\"2020-08-30T07:58:00Z\"},{\"id\":\"13350424794\",\"type\":\"PushEvent\",\"actor\":{\"id\":18119047,\"login\":\"ziyaointl\",\"display_login\":\"ziyaointl\",\"gravatar_id\":\"\",\"url\":\"https://api.github.com/users/ziyaointl\",\"avatar_url\":\"https://avatars.githubusercontent.com/u/18119047?\"},\"repo\":{\"id\":85054150,\"name\":\"p5py/p5\",\"url\":\"https://api.github.com/repos/p5py/p5\"},\"payload\":{\"push_id\":5606096050,\"size\":2,\"distinct_size\":2,\"ref\":\"refs/heads/master\",\"head\":\"5e18c21d0f1f98df4613ae1bd59df362b99267a3\",\"before\":\"e83c0a81b87b8de5f2ec84b523b9e2fcf2cb9783\",\"commits\":[{\"sha\":\"bd9700770e41f8de7804e34be77554de85806608\",\"author\":{\"email\":\"codingid6@gmail.com\",\"name\":\"Tushar\"},\"message\":\"fixed docs error\",\"distinct\":true,\"url\":\"https://api.github.com/repos/p5py/p5/commits/bd9700770e41f8de7804e34be77554de85806608\"},{\"sha\":\"5e18c21d0f1f98df4613ae1bd59df362b99267a3\",\"author\":{\"email\":\"ziyaointl@gmail.com\",\"name\":\"Mark Zhang\"},\"message\":\"Merge pull request #251 from tushar5526/smallErrors\\\\n\\\\nfixed docs error\",\"distinct\":true,\"url\":\"https://api.github.com/repos/p5py/p5/commits/5e18c21d0f1f98df4613ae1bd59df362b99267a3\"}]},\"public\":true,\"created_at\":\"2020-08-30T07:58:00Z\",\"org\":{\"id\":29533818,\"login\":\"p5py\",\"gravatar_id\":\"\",\"url\":\"https://api.github.com/orgs/p5py\",\"avatar_url\":\"https://avatars.githubusercontent.com/u/29533818?\"}},{\"id\":\"13350424789\",\"type\":\"PushEvent\",\"actor\":{\"id\":16454736,\"login\":\"itssidhere\",\"display_login\":\"itssidhere\",\"gravatar_id\":\"\",\"url\":\"https://api.github.com/users/itssidhere\",\"avatar_url\":\"https://avatars.githubusercontent.com/u/16454736?\"},\"repo\":{\"id\":291260016,\"name\":\"itssidhere/awesome_notifications\",\"url\":\"https://api.github.com/repos/itssidhere/awesome_notifications\"},\"payload\":{\"push_id\":5606096046,\"size\":1,\"distinct_size\":1,\"ref\":\"refs/heads/master\",\"head\":\"1e2ae7bef56fb508b3b61af5761bf1d3fe4c2de3\",\"before\":\"44acfc1ba89c33abea78b8e73724d77644e093cc\",\"commits\":[{\"sha\":\"1e2ae7bef56fb508b3b61af5761bf1d3fe4c2de3\",\"author\":{\"email\":\"sidjha0001@gmail.com\",\"name\":\"itssidhere\"},\"message\":\"n\",\"distinct\":true,\"url\":\"https://api.github.com/repos/itssidhere/awesome_notifications/commits/1e2ae7bef56fb508b3b61af5761bf1d3fe4c2de3\"}]},\"public\":true,\"created_at\":\"2020-08-30T07:58:00Z\"},{\"id\":\"13350424788\",\"type\":\"CreateEvent\",\"actor\":{\"id\":59406058,\"login\":\"sirishabhupathi\",\"display_login\":\"sirishabhupathi\",\"gravatar_id\":\"\",\"url\":\"https://api.github.com/users/sirishabhupathi\",\"avatar_url\":\"https://avatars.githubusercontent.com/u/59406058?\"},\"repo\":{\"id\":291425942,\"name\":\"sirishabhupathi/2048-Game-The-Terminal-Way\",\"url\":\"https://api.github.com/repos/sirishabhupathi/2048-Game-The-Terminal-Way\"},\"payload\":{\"ref\":null,\"ref_type\":\"repository\",\"master_branch\":\"master\",\"description\":\"Popular 2048 game built to be played entirely on terminal with user choices\",\"pusher_type\":\"user\"},\"public\":true,\"created_at\":\"2020-08-30T07:58:00Z\"},{\"id\":\"13350424783\",\"type\":\"PushEvent\",\"actor\":{\"id\":227350,\"login\":\"jimregan\",\"display_login\":\"jimregan\",\"gravatar_id\":\"\",\"url\":\"https://api.github.com/users/jimregan\",\"avatar_url\":\"https://avatars.githubusercontent.com/u/227350?\"},\"repo\":{\"id\":102900936,\"name\":\"jimregan/wolnelektury-speech-corpus\",\"url\":\"https://api.github.com/repos/jimregan/wolnelektury-speech-corpus\"},\"payload\":{\"push_id\":5606096044,\"size\":11,\"distinct_size\":11,\"ref\":\"refs/heads/next-set\",\"head\":\"5f3c71cbe5bd435ea3e75e1e586a87be21894d4e\",\"before\":\"ffe6f0afb530f1ab951d7ded64314204f5b063db\",\"commits\":[{\"sha\":\"55d10a0c9bdcc1f6e4c8a2040972171248f7be9a\",\"author\":{\"email\":\"jaoregan@tcd.ie\",\"name\":\"Jim O\\'Regan\"},\"message\":\"more\",\"distinct\":true,\"url\":\"https://api.github.com/repos/jimregan/wolnelektury-speech-corpus/commits/55d10a0c9bdcc1f6e4c8a2040972171248f7be9a\"},{\"sha\":\"8725e717844e4be173ac30a0fd4dcdfabdf7d03e\",\"author\":{\"email\":\"jaoregan@tcd.ie\",\"name\":\"Jim O\\'Regan\"},\"message\":\"more\",\"distinct\":true,\"url\":\"https://api.github.com/repos/jimregan/wolnelektury-speech-corpus/commits/8725e717844e4be173ac30a0fd4dcdfabdf7d03e\"},{\"sha\":\"273f00fbe3d9c9def59181aed2258f58749424ba\",\"author\":{\"email\":\"jaoregan@tcd.ie\",\"name\":\"Jim O\\'Regan\"},\"message\":\"more\",\"distinct\":true,\"url\":\"https://api.github.com/repos/jimregan/wolnelektury-speech-corpus/commits/273f00fbe3d9c9def59181aed2258f58749424ba\"},{\"sha\":\"1133934dead6eadd66ecab3185cbfdd3b4c116e2\",\"author\":{\"email\":\"jaoregan@tcd.ie\",\"name\":\"Jim O\\'Regan\"},\"message\":\"aha\",\"distinct\":true,\"url\":\"https://api.github.com/repos/jimregan/wolnelektury-speech-corpus/commits/1133934dead6eadd66ecab3185cbfdd3b4c116e2\"},{\"sha\":\"977ca45243d4e99720f6993d7b6a81af65f4d979\",\"author\":{\"email\":\"jaoregan@tcd.ie\",\"name\":\"Jim O\\'Regan\"},\"message\":\"more\",\"distinct\":true,\"url\":\"https://api.github.com/repos/jimregan/wolnelektury-speech-corpus/commits/977ca45243d4e99720f6993d7b6a81af65f4d979\"},{\"sha\":\"0caaee416b4ad857c37ac905945ccb1675fa02f5\",\"author\":{\"email\":\"jaoregan@tcd.ie\",\"name\":\"Jim O\\'Regan\"},\"message\":\"more\",\"distinct\":true,\"url\":\"https://api.github.com/repos/jimregan/wolnelektury-speech-corpus/commits/0caaee416b4ad857c37ac905945ccb1675fa02f5\"},{\"sha\":\"f170846e166ca20013dc25895c5fddb21eeb14f4\",\"author\":{\"email\":\"jaoregan@tcd.ie\",\"name\":\"Jim O\\'Regan\"},\"message\":\"more\",\"distinct\":true,\"url\":\"https://api.github.com/repos/jimregan/wolnelektury-speech-corpus/commits/f170846e166ca20013dc25895c5fddb21eeb14f4\"},{\"sha\":\"2b1cc0648d5b80a084d5b0a021c524f6c1cdaa04\",\"author\":{\"email\":\"jaoregan@tcd.ie\",\"name\":\"Jim O\\'Regan\"},\"message\":\"infinite loop\",\"distinct\":true,\"url\":\"https://api.github.com/repos/jimregan/wolnelektury-speech-corpus/commits/2b1cc0648d5b80a084d5b0a021c524f6c1cdaa04\"},{\"sha\":\"b10b11ae09f36329ffb22ed4ebce5a42bb77aa6f\",\"author\":{\"email\":\"jaoregan@tcd.ie\",\"name\":\"Jim O\\'Regan\"},\"message\":\"fix\",\"distinct\":true,\"url\":\"https://api.github.com/repos/jimregan/wolnelektury-speech-corpus/commits/b10b11ae09f36329ffb22ed4ebce5a42bb77aa6f\"},{\"sha\":\"42ccae825bc95170a14700f7710465ecf60cc8ff\",\"author\":{\"email\":\"jaoregan@tcd.ie\",\"name\":\"Jim O\\'Regan\"},\"message\":\"more\",\"distinct\":true,\"url\":\"https://api.github.com/repos/jimregan/wolnelektury-speech-corpus/commits/42ccae825bc95170a14700f7710465ecf60cc8ff\"},{\"sha\":\"5f3c71cbe5bd435ea3e75e1e586a87be21894d4e\",\"author\":{\"email\":\"jaoregan@tcd.ie\",\"name\":\"Jim O\\'Regan\"},\"message\":\"update\",\"distinct\":true,\"url\":\"https://api.github.com/repos/jimregan/wolnelektury-speech-corpus/commits/5f3c71cbe5bd435ea3e75e1e586a87be21894d4e\"}]},\"public\":true,\"created_at\":\"2020-08-30T07:58:00Z\"},{\"id\":\"13350424780\",\"type\":\"CreateEvent\",\"actor\":{\"id\":19607623,\"login\":\"15608447849\",\"display_login\":\"15608447849\",\"gravatar_id\":\"\",\"url\":\"https://api.github.com/users/15608447849\",\"avatar_url\":\"https://avatars.githubusercontent.com/u/19607623?\"},\"repo\":{\"id\":291425940,\"name\":\"15608447849/FM-CORE\",\"url\":\"https://api.github.com/repos/15608447849/FM-CORE\"},\"payload\":{\"ref\":null,\"ref_type\":\"repository\",\"master_branch\":\"master\",\"description\":null,\"pusher_type\":\"user\"},\"public\":true,\"created_at\":\"2020-08-30T07:58:00Z\"},{\"id\":\"13350424778\",\"type\":\"DeleteEvent\",\"actor\":{\"id\":50493355,\"login\":\"nanaka0012\",\"display_login\":\"nanaka0012\",\"gravatar_id\":\"\",\"url\":\"https://api.github.com/users/nanaka0012\",\"avatar_url\":\"https://avatars.githubusercontent.com/u/50493355?\"},\"repo\":{\"id\":285801693,\"name\":\"mei28/Deeesign_patteeern\",\"url\":\"https://api.github.com/repos/mei28/Deeesign_patteeern\"},\"payload\":{\"ref\":\"mei/Composite\",\"ref_type\":\"branch\",\"pusher_type\":\"user\"},\"public\":true,\"created_at\":\"2020-08-30T07:58:00Z\"},{\"id\":\"13350424776\",\"type\":\"PushEvent\",\"actor\":{\"id\":69895263,\"login\":\"russellshaq\",\"display_login\":\"russellshaq\",\"gravatar_id\":\"\",\"url\":\"https://api.github.com/users/russellshaq\",\"avatar_url\":\"https://avatars.githubusercontent.com/u/69895263?\"},\"repo\":{\"id\":291338972,\"name\":\"russellshaq/travis\",\"url\":\"https://api.github.com/repos/russellshaq/travis\"},\"payload\":{\"push_id\":5606096040,\"size\":1,\"distinct_size\":1,\"ref\":\"refs/heads/master\",\"head\":\"e1d260d7d7bdc12e8352347e2c64502ace97ad19\",\"before\":\"aa8ae307c1f2a641bb44f2faa5b1bfe1a2c366b0\",\"commits\":[{\"sha\":\"e1d260d7d7bdc12e8352347e2c64502ace97ad19\",\"author\":{\"email\":\"shakirovusa@gmail.com\",\"name\":\"Ruslan\"},\"message\":\"add deploy to .travis.yml\",\"distinct\":true,\"url\":\"https://api.github.com/repos/russellshaq/travis/commits/e1d260d7d7bdc12e8352347e2c64502ace97ad19\"}]},\"public\":true,\"created_at\":\"2020-08-30T07:58:00Z\"},{\"id\":\"13350424768\",\"type\":\"PushEvent\",\"actor\":{\"id\":60325547,\"login\":\"draxyjay\",\"display_login\":\"draxyjay\",\"gravatar_id\":\"\",\"url\":\"https://api.github.com/users/draxyjay\",\"avatar_url\":\"https://avatars.githubusercontent.com/u/60325547?\"},\"repo\":{\"id\":291420047,\"name\":\"draxyjay/carboatmedia-ct\",\"url\":\"https://api.github.com/repos/draxyjay/carboatmedia-ct\"},\"payload\":{\"push_id\":5606096038,\"size\":1,\"distinct_size\":1,\"ref\":\"refs/heads/master\",\"head\":\"d30e31aeeb6963efd055ad5adf32fb83dd914612\",\"before\":\"eb44f23505a9c14ef34cd1336fc14901d94b37ca\",\"commits\":[{\"sha\":\"d30e31aeeb6963efd055ad5adf32fb83dd914612\",\"author\":{\"email\":\"draxyjay@gmail.com\",\"name\":\"Jay Patel\"},\"message\":\"Done\",\"distinct\":true,\"url\":\"https://api.github.com/repos/draxyjay/carboatmedia-ct/commits/d30e31aeeb6963efd055ad5adf32fb83dd914612\"}]},\"public\":true,\"created_at\":\"2020-08-30T07:58:00Z\"},{\"id\":\"13350424770\",\"type\":\"PullRequestEvent\",\"actor\":{\"id\":33162969,\"login\":\"ArashZich\",\"display_login\":\"ArashZich\",\"gravatar_id\":\"\",\"url\":\"https://api.github.com/users/ArashZich\",\"avatar_url\":\"https://avatars.githubusercontent.com/u/33162969?\"},\"repo\":{\"id\":290864272,\"name\":\"ArashZich/react-formik-test\",\"url\":\"https://api.github.com/repos/ArashZich/react-formik-test\"},\"payload\":{\"action\":\"opened\",\"number\":6,\"pull_request\":{\"url\":\"https://api.github.com/repos/ArashZich/react-formik-test/pulls/6\",\"id\":475878452,\"node_id\":\"MDExOlB1bGxSZXF1ZXN0NDc1ODc4NDUy\",\"html_url\":\"https://github.com/ArashZich/react-formik-test/pull/6\",\"diff_url\":\"https://github.com/ArashZich/react-formik-test/pull/6.diff\",\"patch_url\":\"https://github.com/ArashZich/react-formik-test/pull/6.patch\",\"issue_url\":\"https://api.github.com/repos/ArashZich/react-formik-test/issues/6\",\"number\":6,\"state\":\"open\",\"locked\":false,\"title\":\"Public\",\"user\":{\"login\":\"ArashZich\",\"id\":33162969,\"node_id\":\"MDQ6VXNlcjMzMTYyOTY5\",\"avatar_url\":\"https://avatars3.githubusercontent.com/u/33162969?v=4\",\"gravatar_id\":\"\",\"url\":\"https://api.github.com/users/ArashZich\",\"html_url\":\"https://github.com/ArashZich\",\"followers_url\":\"https://api.github.com/users/ArashZich/followers\",\"following_url\":\"https://api.github.com/users/ArashZich/following{/other_user}\",\"gists_url\":\"https://api.github.com/users/ArashZich/gists{/gist_id}\",\"starred_url\":\"https://api.github.com/users/ArashZich/starred{/owner}{/repo}\",\"subscriptions_url\":\"https://api.github.com/users/ArashZich/subscriptions\",\"organizations_url\":\"https://api.github.com/users/ArashZich/orgs\",\"repos_url\":\"https://api.github.com/users/ArashZich/repos\",\"events_url\":\"https://api.github.com/users/ArashZich/events{/privacy}\",\"received_events_url\":\"https://api.github.com/users/ArashZich/received_events\",\"type\":\"User\",\"site_admin\":false},\"body\":\"\",\"created_at\":\"2020-08-30T07:57:59Z\",\"updated_at\":\"2020-08-30T07:57:59Z\",\"closed_at\":null,\"merged_at\":null,\"merge_commit_sha\":null,\"assignee\":null,\"assignees\":[],\"requested_reviewers\":[],\"requested_teams\":[],\"labels\":[],\"milestone\":null,\"draft\":false,\"commits_url\":\"https://api.github.com/repos/ArashZich/react-formik-test/pulls/6/commits\",\"review_comments_url\":\"https://api.github.com/repos/ArashZich/react-formik-test/pulls/6/comments\",\"review_comment_url\":\"https://api.github.com/repos/ArashZich/react-formik-test/pulls/comments{/number}\",\"comments_url\":\"https://api.github.com/repos/ArashZich/react-formik-test/issues/6/comments\",\"statuses_url\":\"https://api.github.com/repos/ArashZich/react-formik-test/statuses/ecb55ae72e50104852660452265df0823e5138fb\",\"head\":{\"label\":\"ArashZich:public\",\"ref\":\"public\",\"sha\":\"ecb55ae72e50104852660452265df0823e5138fb\",\"user\":{\"login\":\"ArashZich\",\"id\":33162969,\"node_id\":\"MDQ6VXNlcjMzMTYyOTY5\",\"avatar_url\":\"https://avatars3.githubusercontent.com/u/33162969?v=4\",\"gravatar_id\":\"\",\"url\":\"https://api.github.com/users/ArashZich\",\"html_url\":\"https://github.com/ArashZich\",\"followers_url\":\"https://api.github.com/users/ArashZich/followers\",\"following_url\":\"https://api.github.com/users/ArashZich/following{/other_user}\",\"gists_url\":\"https://api.github.com/users/ArashZich/gists{/gist_id}\",\"starred_url\":\"https://api.github.com/users/ArashZich/starred{/owner}{/repo}\",\"subscriptions_url\":\"https://api.github.com/users/ArashZich/subscriptions\",\"organizations_url\":\"https://api.github.com/users/ArashZich/orgs\",\"repos_url\":\"https://api.github.com/users/ArashZich/repos\",\"events_url\":\"https://api.github.com/users/ArashZich/events{/privacy}\",\"received_events_url\":\"https://api.github.com/users/ArashZich/received_events\",\"type\":\"User\",\"site_admin\":false},\"repo\":{\"id\":290864272,\"node_id\":\"MDEwOlJlcG9zaXRvcnkyOTA4NjQyNzI=\",\"name\":\"react-formik-test\",\"full_name\":\"ArashZich/react-formik-test\",\"private\":false,\"owner\":{\"login\":\"ArashZich\",\"id\":33162969,\"node_id\":\"MDQ6VXNlcjMzMTYyOTY5\",\"avatar_url\":\"https://avatars3.githubusercontent.com/u/33162969?v=4\",\"gravatar_id\":\"\",\"url\":\"https://api.github.com/users/ArashZich\",\"html_url\":\"https://github.com/ArashZich\",\"followers_url\":\"https://api.github.com/users/ArashZich/followers\",\"following_url\":\"https://api.github.com/users/ArashZich/following{/other_user}\",\"gists_url\":\"https://api.github.com/users/ArashZich/gists{/gist_id}\",\"starred_url\":\"https://api.github.com/users/ArashZich/starred{/owner}{/repo}\",\"subscriptions_url\":\"https://api.github.com/users/ArashZich/subscriptions\",\"organizations_url\":\"https://api.github.com/users/ArashZich/orgs\",\"repos_url\":\"https://api.github.com/users/ArashZich/repos\",\"events_url\":\"https://api.github.com/users/ArashZich/events{/privacy}\",\"received_events_url\":\"https://api.github.com/users/ArashZich/received_events\",\"type\":\"User\",\"site_admin\":false},\"html_url\":\"https://github.com/ArashZich/react-formik-test\",\"description\":null,\"fork\":false,\"url\":\"https://api.github.com/repos/ArashZich/react-formik-test\",\"forks_url\":\"https://api.github.com/repos/ArashZich/react-formik-test/forks\",\"keys_url\":\"https://api.github.com/repos/ArashZich/react-formik-test/keys{/key_id}\",\"collaborators_url\":\"https://api.github.com/repos/ArashZich/react-formik-test/collaborators{/collaborator}\",\"teams_url\":\"https://api.github.com/repos/ArashZich/react-formik-test/teams\",\"hooks_url\":\"https://api.github.com/repos/ArashZich/react-formik-test/hooks\",\"issue_events_url\":\"https://api.github.com/repos/ArashZich/react-formik-test/issues/events{/number}\",\"events_url\":\"https://api.github.com/repos/ArashZich/react-formik-test/events\",\"assignees_url\":\"https://api.github.com/repos/ArashZich/react-formik-test/assignees{/user}\",\"branches_url\":\"https://api.github.com/repos/ArashZich/react-formik-test/branches{/branch}\",\"tags_url\":\"https://api.github.com/repos/ArashZich/react-formik-test/tags\",\"blobs_url\":\"https://api.github.com/repos/ArashZich/react-formik-test/git/blobs{/sha}\",\"git_tags_url\":\"https://api.github.com/repos/ArashZich/react-formik-test/git/tags{/sha}\",\"git_refs_url\":\"https://api.github.com/repos/ArashZich/react-formik-test/git/refs{/sha}\",\"trees_url\":\"https://api.github.com/repos/ArashZich/react-formik-test/git/trees{/sha}\",\"statuses_url\":\"https://api.github.com/repos/ArashZich/react-formik-test/statuses/{sha}\",\"languages_url\":\"https://api.github.com/repos/ArashZich/react-formik-test/languages\",\"stargazers_url\":\"https://api.github.com/repos/ArashZich/react-formik-test/stargazers\",\"contributors_url\":\"https://api.github.com/repos/ArashZich/react-formik-test/contributors\",\"subscribers_url\":\"https://api.github.com/repos/ArashZich/react-formik-test/subscribers\",\"subscription_url\":\"https://api.github.com/repos/ArashZich/react-formik-test/subscription\",\"commits_url\":\"https://api.github.com/repos/ArashZich/react-formik-test/commits{/sha}\",\"git_commits_url\":\"https://api.github.com/repos/ArashZich/react-formik-test/git/commits{/sha}\",\"comments_url\":\"https://api.github.com/repos/ArashZich/react-formik-test/comments{/number}\",\"issue_comment_url\":\"https://api.github.com/repos/ArashZich/react-formik-test/issues/comments{/number}\",\"contents_url\":\"https://api.github.com/repos/ArashZich/react-formik-test/contents/{+path}\",\"compare_url\":\"https://api.github.com/repos/ArashZich/react-formik-test/compare/{base}...{head}\",\"merges_url\":\"https://api.github.com/repos/ArashZich/react-formik-test/merges\",\"archive_url\":\"https://api.github.com/repos/ArashZich/react-formik-test/{archive_format}{/ref}\",\"downloads_url\":\"https://api.github.com/repos/ArashZich/react-formik-test/downloads\",\"issues_url\":\"https://api.github.com/repos/ArashZich/react-formik-test/issues{/number}\",\"pulls_url\":\"https://api.github.com/repos/ArashZich/react-formik-test/pulls{/number}\",\"milestones_url\":\"https://api.github.com/repos/ArashZich/react-formik-test/milestones{/number}\",\"notifications_url\":\"https://api.github.com/repos/ArashZich/react-formik-test/notifications{?since,all,participating}\",\"labels_url\":\"https://api.github.com/repos/ArashZich/react-formik-test/labels{/name}\",\"releases_url\":\"https://api.github.com/repos/ArashZich/react-formik-test/releases{/id}\",\"deployments_url\":\"https://api.github.com/repos/ArashZich/react-formik-test/deployments\",\"created_at\":\"2020-08-27T19:31:17Z\",\"updated_at\":\"2020-08-30T07:57:48Z\",\"pushed_at\":\"2020-08-30T07:55:34Z\",\"git_url\":\"git://github.com/ArashZich/react-formik-test.git\",\"ssh_url\":\"git@github.com:ArashZich/react-formik-test.git\",\"clone_url\":\"https://github.com/ArashZich/react-formik-test.git\",\"svn_url\":\"https://github.com/ArashZich/react-formik-test\",\"homepage\":null,\"size\":216,\"stargazers_count\":1,\"watchers_count\":1,\"language\":\"JavaScript\",\"has_issues\":true,\"has_projects\":true,\"has_downloads\":true,\"has_wiki\":true,\"has_pages\":false,\"forks_count\":0,\"mirror_url\":null,\"archived\":false,\"disabled\":false,\"open_issues_count\":1,\"license\":null,\"forks\":0,\"open_issues\":1,\"watchers\":1,\"default_branch\":\"master\"}},\"base\":{\"label\":\"ArashZich:master\",\"ref\":\"master\",\"sha\":\"397deb9fd3ee401185d1a1ffcb7f2d4c8f69afec\",\"user\":{\"login\":\"ArashZich\",\"id\":33162969,\"node_id\":\"MDQ6VXNlcjMzMTYyOTY5\",\"avatar_url\":\"https://avatars3.githubusercontent.com/u/33162969?v=4\",\"gravatar_id\":\"\",\"url\":\"https://api.github.com/users/ArashZich\",\"html_url\":\"https://github.com/ArashZich\",\"followers_url\":\"https://api.github.com/users/ArashZich/followers\",\"following_url\":\"https://api.github.com/users/ArashZich/following{/other_user}\",\"gists_url\":\"https://api.github.com/users/ArashZich/gists{/gist_id}\",\"starred_url\":\"https://api.github.com/users/ArashZich/starred{/owner}{/repo}\",\"subscriptions_url\":\"https://api.github.com/users/ArashZich/subscriptions\",\"organizations_url\":\"https://api.github.com/users/ArashZich/orgs\",\"repos_url\":\"https://api.github.com/users/ArashZich/repos\",\"events_url\":\"https://api.github.com/users/ArashZich/events{/privacy}\",\"received_events_url\":\"https://api.github.com/users/ArashZich/received_events\",\"type\":\"User\",\"site_admin\":false},\"repo\":{\"id\":290864272,\"node_id\":\"MDEwOlJlcG9zaXRvcnkyOTA4NjQyNzI=\",\"name\":\"react-formik-test\",\"full_name\":\"ArashZich/react-formik-test\",\"private\":false,\"owner\":{\"login\":\"ArashZich\",\"id\":33162969,\"node_id\":\"MDQ6VXNlcjMzMTYyOTY5\",\"avatar_url\":\"https://avatars3.githubusercontent.com/u/33162969?v=4\",\"gravatar_id\":\"\",\"url\":\"https://api.github.com/users/ArashZich\",\"html_url\":\"https://github.com/ArashZich\",\"followers_url\":\"https://api.github.com/users/ArashZich/followers\",\"following_url\":\"https://api.github.com/users/ArashZich/following{/other_user}\",\"gists_url\":\"https://api.github.com/users/ArashZich/gists{/gist_id}\",\"starred_url\":\"https://api.github.com/users/ArashZich/starred{/owner}{/repo}\",\"subscriptions_url\":\"https://api.github.com/users/ArashZich/subscriptions\",\"organizations_url\":\"https://api.github.com/users/ArashZich/orgs\",\"repos_url\":\"https://api.github.com/users/ArashZich/repos\",\"events_url\":\"https://api.github.com/users/ArashZich/events{/privacy}\",\"received_events_url\":\"https://api.github.com/users/ArashZich/received_events\",\"type\":\"User\",\"site_admin\":false},\"html_url\":\"https://github.com/ArashZich/react-formik-test\",\"description\":null,\"fork\":false,\"url\":\"https://api.github.com/repos/ArashZich/react-formik-test\",\"forks_url\":\"https://api.github.com/repos/ArashZich/react-formik-test/forks\",\"keys_url\":\"https://api.github.com/repos/ArashZich/react-formik-test/keys{/key_id}\",\"collaborators_url\":\"https://api.github.com/repos/ArashZich/react-formik-test/collaborators{/collaborator}\",\"teams_url\":\"https://api.github.com/repos/ArashZich/react-formik-test/teams\",\"hooks_url\":\"https://api.github.com/repos/ArashZich/react-formik-test/hooks\",\"issue_events_url\":\"https://api.github.com/repos/ArashZich/react-formik-test/issues/events{/number}\",\"events_url\":\"https://api.github.com/repos/ArashZich/react-formik-test/events\",\"assignees_url\":\"https://api.github.com/repos/ArashZich/react-formik-test/assignees{/user}\",\"branches_url\":\"https://api.github.com/repos/ArashZich/react-formik-test/branches{/branch}\",\"tags_url\":\"https://api.github.com/repos/ArashZich/react-formik-test/tags\",\"blobs_url\":\"https://api.github.com/repos/ArashZich/react-formik-test/git/blobs{/sha}\",\"git_tags_url\":\"https://api.github.com/repos/ArashZich/react-formik-test/git/tags{/sha}\",\"git_refs_url\":\"https://api.github.com/repos/ArashZich/react-formik-test/git/refs{/sha}\",\"trees_url\":\"https://api.github.com/repos/ArashZich/react-formik-test/git/trees{/sha}\",\"statuses_url\":\"https://api.github.com/repos/ArashZich/react-formik-test/statuses/{sha}\",\"languages_url\":\"https://api.github.com/repos/ArashZich/react-formik-test/languages\",\"stargazers_url\":\"https://api.github.com/repos/ArashZich/react-formik-test/stargazers\",\"contributors_url\":\"https://api.github.com/repos/ArashZich/react-formik-test/contributors\",\"subscribers_url\":\"https://api.github.com/repos/ArashZich/react-formik-test/subscribers\",\"subscription_url\":\"https://api.github.com/repos/ArashZich/react-formik-test/subscription\",\"commits_url\":\"https://api.github.com/repos/ArashZich/react-formik-test/commits{/sha}\",\"git_commits_url\":\"https://api.github.com/repos/ArashZich/react-formik-test/git/commits{/sha}\",\"comments_url\":\"https://api.github.com/repos/ArashZich/react-formik-test/comments{/number}\",\"issue_comment_url\":\"https://api.github.com/repos/ArashZich/react-formik-test/issues/comments{/number}\",\"contents_url\":\"https://api.github.com/repos/ArashZich/react-formik-test/contents/{+path}\",\"compare_url\":\"https://api.github.com/repos/ArashZich/react-formik-test/compare/{base}...{head}\",\"merges_url\":\"https://api.github.com/repos/ArashZich/react-formik-test/merges\",\"archive_url\":\"https://api.github.com/repos/ArashZich/react-formik-test/{archive_format}{/ref}\",\"downloads_url\":\"https://api.github.com/repos/ArashZich/react-formik-test/downloads\",\"issues_url\":\"https://api.github.com/repos/ArashZich/react-formik-test/issues{/number}\",\"pulls_url\":\"https://api.github.com/repos/ArashZich/react-formik-test/pulls{/number}\",\"milestones_url\":\"https://api.github.com/repos/ArashZich/react-formik-test/milestones{/number}\",\"notifications_url\":\"https://api.github.com/repos/ArashZich/react-formik-test/notifications{?since,all,participating}\",\"labels_url\":\"https://api.github.com/repos/ArashZich/react-formik-test/labels{/name}\",\"releases_url\":\"https://api.github.com/repos/ArashZich/react-formik-test/releases{/id}\",\"deployments_url\":\"https://api.github.com/repos/ArashZich/react-formik-test/deployments\",\"created_at\":\"2020-08-27T19:31:17Z\",\"updated_at\":\"2020-08-30T07:57:48Z\",\"pushed_at\":\"2020-08-30T07:55:34Z\",\"git_url\":\"git://github.com/ArashZich/react-formik-test.git\",\"ssh_url\":\"git@github.com:ArashZich/react-formik-test.git\",\"clone_url\":\"https://github.com/ArashZich/react-formik-test.git\",\"svn_url\":\"https://github.com/ArashZich/react-formik-test\",\"homepage\":null,\"size\":216,\"stargazers_count\":1,\"watchers_count\":1,\"language\":\"JavaScript\",\"has_issues\":true,\"has_projects\":true,\"has_downloads\":true,\"has_wiki\":true,\"has_pages\":false,\"forks_count\":0,\"mirror_url\":null,\"archived\":false,\"disabled\":false,\"open_issues_count\":1,\"license\":null,\"forks\":0,\"open_issues\":1,\"watchers\":1,\"default_branch\":\"master\"}},\"_links\":{\"self\":{\"href\":\"https://api.github.com/repos/ArashZich/react-formik-test/pulls/6\"},\"html\":{\"href\":\"https://github.com/ArashZich/react-formik-test/pull/6\"},\"issue\":{\"href\":\"https://api.github.com/repos/ArashZich/react-formik-test/issues/6\"},\"comments\":{\"href\":\"https://api.github.com/repos/ArashZich/react-formik-test/issues/6/comments\"},\"review_comments\":{\"href\":\"https://api.github.com/repos/ArashZich/react-formik-test/pulls/6/comments\"},\"review_comment\":{\"href\":\"https://api.github.com/repos/ArashZich/react-formik-test/pulls/comments{/number}\"},\"commits\":{\"href\":\"https://api.github.com/repos/ArashZich/react-formik-test/pulls/6/commits\"},\"statuses\":{\"href\":\"https://api.github.com/repos/ArashZich/react-formik-test/statuses/ecb55ae72e50104852660452265df0823e5138fb\"}},\"author_association\":\"OWNER\",\"active_lock_reason\":null,\"merged\":false,\"mergeable\":null,\"rebaseable\":null,\"mergeable_state\":\"unknown\",\"merged_by\":null,\"comments\":0,\"review_comments\":0,\"maintainer_can_modify\":false,\"commits\":3,\"additions\":366,\"deletions\":106,\"changed_files\":3}},\"public\":true,\"created_at\":\"2020-08-30T07:58:00Z\"},{\"id\":\"13350424767\",\"type\":\"PushEvent\",\"actor\":{\"id\":35803064,\"login\":\"SahilSonar\",\"display_login\":\"SahilSonar\",\"gravatar_id\":\"\",\"url\":\"https://api.github.com/users/SahilSonar\",\"avatar_url\":\"https://avatars.githubusercontent.com/u/35803064?\"},\"repo\":{\"id\":264233627,\"name\":\"Cesium-Devices/device_redmi_begonia\",\"url\":\"https://api.github.com/repos/Cesium-Devices/device_redmi_begonia\"},\"payload\":{\"push_id\":5606096035,\"size\":1,\"distinct_size\":1,\"ref\":\"refs/heads/ten\",\"head\":\"8827c3a2aa9380caef07ac12e0d5ec61c5dbd84d\",\"before\":\"714d08597a6812bfee523571d9f007b3db69b2a9\",\"commits\":[{\"sha\":\"8827c3a2aa9380caef07ac12e0d5ec61c5dbd84d\",\"author\":{\"email\":\"sss.sonar2003@gmail.com\",\"name\":\"SahilSonar\"},\"message\":\"TEST\\\\n\\\\nSigned-off-by: SahilSonar <sss.sonar2003@gmail.com>\",\"distinct\":true,\"url\":\"https://api.github.com/repos/Cesium-Devices/device_redmi_begonia/commits/8827c3a2aa9380caef07ac12e0d5ec61c5dbd84d\"}]},\"public\":true,\"created_at\":\"2020-08-30T07:58:00Z\",\"org\":{\"id\":65028310,\"login\":\"Cesium-Devices\",\"gravatar_id\":\"\",\"url\":\"https://api.github.com/orgs/Cesium-Devices\",\"avatar_url\":\"https://avatars.githubusercontent.com/u/65028310?\"}},{\"id\":\"13350424765\",\"type\":\"PushEvent\",\"actor\":{\"id\":13273787,\"login\":\"tzsk\",\"display_login\":\"tzsk\",\"gravatar_id\":\"\",\"url\":\"https://api.github.com/users/tzsk\",\"avatar_url\":\"https://avatars.githubusercontent.com/u/13273787?\"},\"repo\":{\"id\":258973393,\"name\":\"tzsk/butisk\",\"url\":\"https://api.github.com/repos/tzsk/butisk\"},\"payload\":{\"push_id\":5606096036,\"size\":1,\"distinct_size\":1,\"ref\":\"refs/heads/master\",\"head\":\"9b6cff41f3474ea072a430d2fedaccb57cd23ee1\",\"before\":\"cd822183347592d486ddeb249c6f7bc1d6b5ec29\",\"commits\":[{\"sha\":\"9b6cff41f3474ea072a430d2fedaccb57cd23ee1\",\"author\":{\"email\":\"27856297+dependabot-preview[bot]@users.noreply.github.com\",\"name\":\"dependabot-preview[bot]\"},\"message\":\"Bump nunomaduro/collision from 4.2.0 to 5.0.2\\\\n\\\\nBumps [nunomaduro/collision](https://github.com/nunomaduro/collision) from 4.2.0 to 5.0.2.\\\\n- [Release notes](https://github.com/nunomaduro/collision/releases)\\\\n- [Changelog](https://github.com/nunomaduro/collision/blob/stable/CHANGELOG.md)\\\\n- [Commits](https://github.com/nunomaduro/collision/compare/v4.2.0...v5.0.2)\\\\n\\\\nSigned-off-by: dependabot-preview[bot] <support@dependabot.com>\",\"distinct\":true,\"url\":\"https://api.github.com/repos/tzsk/butisk/commits/9b6cff41f3474ea072a430d2fedaccb57cd23ee1\"}]},\"public\":true,\"created_at\":\"2020-08-30T07:58:00Z\"},{\"id\":\"13350424763\",\"type\":\"PushEvent\",\"actor\":{\"id\":32705910,\"login\":\"Nitro1231\",\"display_login\":\"Nitro1231\",\"gravatar_id\":\"\",\"url\":\"https://api.github.com/users/Nitro1231\",\"avatar_url\":\"https://avatars.githubusercontent.com/u/32705910?\"},\"repo\":{\"id\":282674374,\"name\":\"TeamAvo/Cafeteria\",\"url\":\"https://api.github.com/repos/TeamAvo/Cafeteria\"},\"payload\":{\"push_id\":5606096033,\"size\":1,\"distinct_size\":1,\"ref\":\"refs/heads/gh-pages\",\"head\":\"7e5ed917d95b3b07898a1e9e87009a8b61a75020\",\"before\":\"6e62cbf098cf7c698c4b2e9ba74b0e576b63f40f\",\"commits\":[{\"sha\":\"7e5ed917d95b3b07898a1e9e87009a8b61a75020\",\"author\":{\"email\":\"nitro0@naver.com\",\"name\":\"Nitro\"},\"message\":\"Updates\",\"distinct\":true,\"url\":\"https://api.github.com/repos/TeamAvo/Cafeteria/commits/7e5ed917d95b3b07898a1e9e87009a8b61a75020\"}]},\"public\":true,\"created_at\":\"2020-08-30T07:58:00Z\",\"org\":{\"id\":64539556,\"login\":\"TeamAvo\",\"gravatar_id\":\"\",\"url\":\"https://api.github.com/orgs/TeamAvo\",\"avatar_url\":\"https://avatars.githubusercontent.com/u/64539556?\"}},{\"id\":\"13350424766\",\"type\":\"DeleteEvent\",\"actor\":{\"id\":13273787,\"login\":\"tzsk\",\"display_login\":\"tzsk\",\"gravatar_id\":\"\",\"url\":\"https://api.github.com/users/tzsk\",\"avatar_url\":\"https://avatars.githubusercontent.com/u/13273787?\"},\"repo\":{\"id\":258973393,\"name\":\"tzsk/butisk\",\"url\":\"https://api.github.com/repos/tzsk/butisk\"},\"payload\":{\"ref\":\"dependabot/composer/nunomaduro/collision-5.0.2\",\"ref_type\":\"branch\",\"pusher_type\":\"user\"},\"public\":true,\"created_at\":\"2020-08-30T07:58:00Z\"},{\"id\":\"13350424754\",\"type\":\"PushEvent\",\"actor\":{\"id\":53967490,\"login\":\"sakusaku3939\",\"display_login\":\"sakusaku3939\",\"gravatar_id\":\"\",\"url\":\"https://api.github.com/users/sakusaku3939\",\"avatar_url\":\"https://avatars.githubusercontent.com/u/53967490?\"},\"repo\":{\"id\":287876162,\"name\":\"frcbww/Website\",\"url\":\"https://api.github.com/repos/frcbww/Website\"},\"payload\":{\"push_id\":5606096030,\"size\":1,\"distinct_size\":1,\"ref\":\"refs/heads/master\",\"head\":\"959118131207bb5a8d97d2808be138c74410c1c9\",\"before\":\"d2002da405a9e44f0e56b2153c6ab9a1efeac7c4\",\"commits\":[{\"sha\":\"959118131207bb5a8d97d2808be138c74410c1c9\",\"author\":{\"email\":\"yuukiyuuki223@gmail.com\",\"name\":\"AokiYuki\"},\"message\":\"webp画像をフォルダに移動\",\"distinct\":true,\"url\":\"https://api.github.com/repos/frcbww/Website/commits/959118131207bb5a8d97d2808be138c74410c1c9\"}]},\"public\":true,\"created_at\":\"2020-08-30T07:57:59Z\",\"org\":{\"id\":61374726,\"login\":\"frcbww\",\"gravatar_id\":\"\",\"url\":\"https://api.github.com/orgs/frcbww\",\"avatar_url\":\"https://avatars.githubusercontent.com/u/61374726?\"}},{\"id\":\"13350424759\",\"type\":\"CreateEvent\",\"actor\":{\"id\":60088955,\"login\":\"myohStudent\",\"display_login\":\"myohStudent\",\"gravatar_id\":\"\",\"url\":\"https://api.github.com/users/myohStudent\",\"avatar_url\":\"https://avatars.githubusercontent.com/u/60088955?\"},\"repo\":{\"id\":286919788,\"name\":\"DuckBap/Duckbap-frontend\",\"url\":\"https://api.github.com/repos/DuckBap/Duckbap-frontend\"},\"payload\":{\"ref\":\"feature/login-api\",\"ref_type\":\"branch\",\"master_branch\":\"develop\",\"description\":\"Duckbap-frontend\",\"pusher_type\":\"user\"},\"public\":true,\"created_at\":\"2020-08-30T07:58:00Z\",\"org\":{\"id\":68383267,\"login\":\"DuckBap\",\"gravatar_id\":\"\",\"url\":\"https://api.github.com/orgs/DuckBap\",\"avatar_url\":\"https://avatars.githubusercontent.com/u/68383267?\"}},{\"id\":\"13350424757\",\"type\":\"PushEvent\",\"actor\":{\"id\":69281800,\"login\":\"weather-now\",\"display_login\":\"weather-now\",\"gravatar_id\":\"\",\"url\":\"https://api.github.com/users/weather-now\",\"avatar_url\":\"https://avatars.githubusercontent.com/u/69281800?\"},\"repo\":{\"id\":285769351,\"name\":\"weather-now/weather-now.github.io\",\"url\":\"https://api.github.com/repos/weather-now/weather-now.github.io\"},\"payload\":{\"push_id\":5606096031,\"size\":1,\"distinct_size\":1,\"ref\":\"refs/heads/master\",\"head\":\"7f146bd44c5a1cc3fac6789eead336e4a1b30711\",\"before\":\"a0dcb6daa9cd11fc0ed64efbd9b668c571690898\",\"commits\":[{\"sha\":\"7f146bd44c5a1cc3fac6789eead336e4a1b30711\",\"author\":{\"email\":\"69281800+weather-now@users.noreply.github.com\",\"name\":\"weather-now\"},\"message\":\"aws data added\",\"distinct\":true,\"url\":\"https://api.github.com/repos/weather-now/weather-now.github.io/commits/7f146bd44c5a1cc3fac6789eead336e4a1b30711\"}]},\"public\":true,\"created_at\":\"2020-08-30T07:57:59Z\"},{\"id\":\"13350424758\",\"type\":\"ForkEvent\",\"actor\":{\"id\":14733859,\"login\":\"JinpengWang\",\"display_login\":\"JinpengWang\",\"gravatar_id\":\"\",\"url\":\"https://api.github.com/users/JinpengWang\",\"avatar_url\":\"https://avatars.githubusercontent.com/u/14733859?\"},\"repo\":{\"id\":68831738,\"name\":\"typora/typora-theme-gallery\",\"url\":\"https://api.github.com/repos/typora/typora-theme-gallery\"},\"payload\":{\"forkee\":{\"id\":291425939,\"node_id\":\"MDEwOlJlcG9zaXRvcnkyOTE0MjU5Mzk=\",\"name\":\"typora-theme-gallery\",\"full_name\":\"JinpengWang/typora-theme-gallery\",\"private\":false,\"owner\":{\"login\":\"JinpengWang\",\"id\":14733859,\"node_id\":\"MDQ6VXNlcjE0NzMzODU5\",\"avatar_url\":\"https://avatars3.githubusercontent.com/u/14733859?v=4\",\"gravatar_id\":\"\",\"url\":\"https://api.github.com/users/JinpengWang\",\"html_url\":\"https://github.com/JinpengWang\",\"followers_url\":\"https://api.github.com/users/JinpengWang/followers\",\"following_url\":\"https://api.github.com/users/JinpengWang/following{/other_user}\",\"gists_url\":\"https://api.github.com/users/JinpengWang/gists{/gist_id}\",\"starred_url\":\"https://api.github.com/users/JinpengWang/starred{/owner}{/repo}\",\"subscriptions_url\":\"https://api.github.com/users/JinpengWang/subscriptions\",\"organizations_url\":\"https://api.github.com/users/JinpengWang/orgs\",\"repos_url\":\"https://api.github.com/users/JinpengWang/repos\",\"events_url\":\"https://api.github.com/users/JinpengWang/events{/privacy}\",\"received_events_url\":\"https://api.github.com/users/JinpengWang/received_events\",\"type\":\"User\",\"site_admin\":false},\"html_url\":\"https://github.com/JinpengWang/typora-theme-gallery\",\"description\":\"Website for Typora themes\",\"fork\":true,\"url\":\"https://api.github.com/repos/JinpengWang/typora-theme-gallery\",\"forks_url\":\"https://api.github.com/repos/JinpengWang/typora-theme-gallery/forks\",\"keys_url\":\"https://api.github.com/repos/JinpengWang/typora-theme-gallery/keys{/key_id}\",\"collaborators_url\":\"https://api.github.com/repos/JinpengWang/typora-theme-gallery/collaborators{/collaborator}\",\"teams_url\":\"https://api.github.com/repos/JinpengWang/typora-theme-gallery/teams\",\"hooks_url\":\"https://api.github.com/repos/JinpengWang/typora-theme-gallery/hooks\",\"issue_events_url\":\"https://api.github.com/repos/JinpengWang/typora-theme-gallery/issues/events{/number}\",\"events_url\":\"https://api.github.com/repos/JinpengWang/typora-theme-gallery/events\",\"assignees_url\":\"https://api.github.com/repos/JinpengWang/typora-theme-gallery/assignees{/user}\",\"branches_url\":\"https://api.github.com/repos/JinpengWang/typora-theme-gallery/branches{/branch}\",\"tags_url\":\"https://api.github.com/repos/JinpengWang/typora-theme-gallery/tags\",\"blobs_url\":\"https://api.github.com/repos/JinpengWang/typora-theme-gallery/git/blobs{/sha}\",\"git_tags_url\":\"https://api.github.com/repos/JinpengWang/typora-theme-gallery/git/tags{/sha}\",\"git_refs_url\":\"https://api.github.com/repos/JinpengWang/typora-theme-gallery/git/refs{/sha}\",\"trees_url\":\"https://api.github.com/repos/JinpengWang/typora-theme-gallery/git/trees{/sha}\",\"statuses_url\":\"https://api.github.com/repos/JinpengWang/typora-theme-gallery/statuses/{sha}\",\"languages_url\":\"https://api.github.com/repos/JinpengWang/typora-theme-gallery/languages\",\"stargazers_url\":\"https://api.github.com/repos/JinpengWang/typora-theme-gallery/stargazers\",\"contributors_url\":\"https://api.github.com/repos/JinpengWang/typora-theme-gallery/contributors\",\"subscribers_url\":\"https://api.github.com/repos/JinpengWang/typora-theme-gallery/subscribers\",\"subscription_url\":\"https://api.github.com/repos/JinpengWang/typora-theme-gallery/subscription\",\"commits_url\":\"https://api.github.com/repos/JinpengWang/typora-theme-gallery/commits{/sha}\",\"git_commits_url\":\"https://api.github.com/repos/JinpengWang/typora-theme-gallery/git/commits{/sha}\",\"comments_url\":\"https://api.github.com/repos/JinpengWang/typora-theme-gallery/comments{/number}\",\"issue_comment_url\":\"https://api.github.com/repos/JinpengWang/typora-theme-gallery/issues/comments{/number}\",\"contents_url\":\"https://api.github.com/repos/JinpengWang/typora-theme-gallery/contents/{+path}\",\"compare_url\":\"https://api.github.com/repos/JinpengWang/typora-theme-gallery/compare/{base}...{head}\",\"merges_url\":\"https://api.github.com/repos/JinpengWang/typora-theme-gallery/merges\",\"archive_url\":\"https://api.github.com/repos/JinpengWang/typora-theme-gallery/{archive_format}{/ref}\",\"downloads_url\":\"https://api.github.com/repos/JinpengWang/typora-theme-gallery/downloads\",\"issues_url\":\"https://api.github.com/repos/JinpengWang/typora-theme-gallery/issues{/number}\",\"pulls_url\":\"https://api.github.com/repos/JinpengWang/typora-theme-gallery/pulls{/number}\",\"milestones_url\":\"https://api.github.com/repos/JinpengWang/typora-theme-gallery/milestones{/number}\",\"notifications_url\":\"https://api.github.com/repos/JinpengWang/typora-theme-gallery/notifications{?since,all,participating}\",\"labels_url\":\"https://api.github.com/repos/JinpengWang/typora-theme-gallery/labels{/name}\",\"releases_url\":\"https://api.github.com/repos/JinpengWang/typora-theme-gallery/releases{/id}\",\"deployments_url\":\"https://api.github.com/repos/JinpengWang/typora-theme-gallery/deployments\",\"created_at\":\"2020-08-30T07:57:59Z\",\"updated_at\":\"2020-08-30T03:36:14Z\",\"pushed_at\":\"2020-08-30T03:36:11Z\",\"git_url\":\"git://github.com/JinpengWang/typora-theme-gallery.git\",\"ssh_url\":\"git@github.com:JinpengWang/typora-theme-gallery.git\",\"clone_url\":\"https://github.com/JinpengWang/typora-theme-gallery.git\",\"svn_url\":\"https://github.com/JinpengWang/typora-theme-gallery\",\"homepage\":\"http://theme.typora.io\",\"size\":149677,\"stargazers_count\":0,\"watchers_count\":0,\"language\":null,\"has_issues\":false,\"has_projects\":true,\"has_downloads\":true,\"has_wiki\":false,\"has_pages\":false,\"forks_count\":0,\"mirror_url\":null,\"archived\":false,\"disabled\":false,\"open_issues_count\":0,\"license\":null,\"forks\":0,\"open_issues\":0,\"watchers\":0,\"default_branch\":\"master\",\"public\":true}},\"public\":true,\"created_at\":\"2020-08-30T07:57:59Z\",\"org\":{\"id\":12959900,\"login\":\"typora\",\"gravatar_id\":\"\",\"url\":\"https://api.github.com/orgs/typora\",\"avatar_url\":\"https://avatars.githubusercontent.com/u/12959900?\"}},{\"id\":\"13350424756\",\"type\":\"PushEvent\",\"actor\":{\"id\":28653235,\"login\":\"Dobby233Liu\",\"display_login\":\"Dobby233Liu\",\"gravatar_id\":\"\",\"url\":\"https://api.github.com/users/Dobby233Liu\",\"avatar_url\":\"https://avatars.githubusercontent.com/u/28653235?\"},\"repo\":{\"id\":251171908,\"name\":\"d2lmirrors/blastem-hg\",\"url\":\"https://api.github.com/repos/d2lmirrors/blastem-hg\"},\"payload\":{\"push_id\":5606096024,\"size\":0,\"distinct_size\":0,\"ref\":\"refs/heads/segacd\",\"head\":\"d2100e30f150a0ca039b0367acbd1575ec6bb327\",\"before\":\"d2100e30f150a0ca039b0367acbd1575ec6bb327\",\"commits\":[]},\"public\":true,\"created_at\":\"2020-08-30T07:57:59Z\",\"org\":{\"id\":63226830,\"login\":\"d2lmirrors\",\"gravatar_id\":\"\",\"url\":\"https://api.github.com/orgs/d2lmirrors\",\"avatar_url\":\"https://avatars.githubusercontent.com/u/63226830?\"}},{\"id\":\"13350424750\",\"type\":\"PushEvent\",\"actor\":{\"id\":2608559,\"login\":\"SebastienGllmt\",\"display_login\":\"SebastienGllmt\",\"gravatar_id\":\"\",\"url\":\"https://api.github.com/users/SebastienGllmt\",\"avatar_url\":\"https://avatars.githubusercontent.com/u/2608559?\"},\"repo\":{\"id\":144911693,\"name\":\"Emurgo/yoroi-frontend\",\"url\":\"https://api.github.com/repos/Emurgo/yoroi-frontend\"},\"payload\":{\"push_id\":5606096027,\"size\":1,\"distinct_size\":1,\"ref\":\"refs/heads/more-detailed-verification\",\"head\":\"2117267908c46f370bdafc029f440c985f420d76\",\"before\":\"eab3945fbed3c4d886a9fa36d8149d3525786340\",\"commits\":[{\"sha\":\"2117267908c46f370bdafc029f440c985f420d76\",\"author\":{\"email\":\"sebastiengllmt@gmail.com\",\"name\":\"Sebastien Guillemot\"},\"message\":\"more accurate string\",\"distinct\":true,\"url\":\"https://api.github.com/repos/Emurgo/yoroi-frontend/commits/2117267908c46f370bdafc029f440c985f420d76\"}]},\"public\":true,\"created_at\":\"2020-08-30T07:57:59Z\",\"org\":{\"id\":36142236,\"login\":\"Emurgo\",\"gravatar_id\":\"\",\"url\":\"https://api.github.com/orgs/Emurgo\",\"avatar_url\":\"https://avatars.githubusercontent.com/u/36142236?\"}},{\"id\":\"13350424749\",\"type\":\"PushEvent\",\"actor\":{\"id\":49591133,\"login\":\"mahoneyt944\",\"display_login\":\"mahoneyt944\",\"gravatar_id\":\"\",\"url\":\"https://api.github.com/users/mahoneyt944\",\"avatar_url\":\"https://avatars.githubusercontent.com/u/49591133?\"},\"repo\":{\"id\":6478144,\"name\":\"libretro/mame2003-libretro\",\"url\":\"https://api.github.com/repos/libretro/mame2003-libretro\"},\"payload\":{\"push_id\":5606096028,\"size\":1,\"distinct_size\":1,\"ref\":\"refs/heads/master\",\"head\":\"778ad150ac87a08199209491e3eef37fa6414c79\",\"before\":\"f3e3ec5a3fc725f1ae3c74c16b423b0d9af6afc9\",\"commits\":[{\"sha\":\"778ad150ac87a08199209491e3eef37fa6414c79\",\"author\":{\"email\":\"49591133+mahoneyt944@users.noreply.github.com\",\"name\":\"mahoneyt944\"},\"message\":\"Lgtm\",\"distinct\":true,\"url\":\"https://api.github.com/repos/libretro/mame2003-libretro/commits/778ad150ac87a08199209491e3eef37fa6414c79\"}]},\"public\":true,\"created_at\":\"2020-08-30T07:57:59Z\",\"org\":{\"id\":1812827,\"login\":\"libretro\",\"gravatar_id\":\"\",\"url\":\"https://api.github.com/orgs/libretro\",\"avatar_url\":\"https://avatars.githubusercontent.com/u/1812827?\"}},{\"id\":\"13350424748\",\"type\":\"CreateEvent\",\"actor\":{\"id\":14229837,\"login\":\"Hoofless\",\"display_login\":\"Hoofless\",\"gravatar_id\":\"\",\"url\":\"https://api.github.com/users/Hoofless\",\"avatar_url\":\"https://avatars.githubusercontent.com/u/14229837?\"},\"repo\":{\"id\":284864780,\"name\":\"LukasStanley/SWEN225-Group-Project-1\",\"url\":\"https://api.github.com/repos/LukasStanley/SWEN225-Group-Project-1\"},\"payload\":{\"ref\":\"Model\",\"ref_type\":\"branch\",\"master_branch\":\"master\",\"description\":\"Group Project\",\"pusher_type\":\"user\"},\"public\":true,\"created_at\":\"2020-08-30T07:57:59Z\"},{\"id\":\"13350424744\",\"type\":\"IssueCommentEvent\",\"actor\":{\"id\":5262628,\"login\":\"Matt75\",\"display_login\":\"Matt75\",\"gravatar_id\":\"\",\"url\":\"https://api.github.com/users/Matt75\",\"avatar_url\":\"https://avatars.githubusercontent.com/u/5262628?\"},\"repo\":{\"id\":6763587,\"name\":\"PrestaShop/PrestaShop\",\"url\":\"https://api.github.com/repos/PrestaShop/PrestaShop\"},\"payload\":{\"action\":\"created\",\"issue\":{\"url\":\"https://api.github.com/repos/PrestaShop/PrestaShop/issues/19971\",\"repository_url\":\"https://api.github.com/repos/PrestaShop/PrestaShop\",\"labels_url\":\"https://api.github.com/repos/PrestaShop/PrestaShop/issues/19971/labels{/name}\",\"comments_url\":\"https://api.github.com/repos/PrestaShop/PrestaShop/issues/19971/comments\",\"events_url\":\"https://api.github.com/repos/PrestaShop/PrestaShop/issues/19971/events\",\"html_url\":\"https://github.com/PrestaShop/PrestaShop/pull/19971\",\"id\":646573208,\"node_id\":\"MDExOlB1bGxSZXF1ZXN0NDQwODM1NDY2\",\"number\":19971,\"title\":\"Fix of carrier options in Shipping > Preferences + Minor fix on multiple options of carrier choice\",\"user\":{\"login\":\"Rolige\",\"id\":2866694,\"node_id\":\"MDQ6VXNlcjI4NjY2OTQ=\",\"avatar_url\":\"https://avatars1.githubusercontent.com/u/2866694?v=4\",\"gravatar_id\":\"\",\"url\":\"https://api.github.com/users/Rolige\",\"html_url\":\"https://github.com/Rolige\",\"followers_url\":\"https://api.github.com/users/Rolige/followers\",\"following_url\":\"https://api.github.com/users/Rolige/following{/other_user}\",\"gists_url\":\"https://api.github.com/users/Rolige/gists{/gist_id}\",\"starred_url\":\"https://api.github.com/users/Rolige/starred{/owner}{/repo}\",\"subscriptions_url\":\"https://api.github.com/users/Rolige/subscriptions\",\"organizations_url\":\"https://api.github.com/users/Rolige/orgs\",\"repos_url\":\"https://api.github.com/users/Rolige/repos\",\"events_url\":\"https://api.github.com/users/Rolige/events{/privacy}\",\"received_events_url\":\"https://api.github.com/users/Rolige/received_events\",\"type\":\"User\",\"site_admin\":false},\"labels\":[{\"id\":19737369,\"node_id\":\"MDU6TGFiZWwxOTczNzM2OQ==\",\"url\":\"https://api.github.com/repos/PrestaShop/PrestaShop/labels/Bug\",\"name\":\"Bug\",\"color\":\"d4c5f9\",\"default\":false,\"description\":\"Type: Bug\"},{\"id\":904910825,\"node_id\":\"MDU6TGFiZWw5MDQ5MTA4MjU=\",\"url\":\"https://api.github.com/repos/PrestaShop/PrestaShop/labels/develop\",\"name\":\"develop\",\"color\":\"6270ea\",\"default\":false,\"description\":\"Branch\"},{\"id\":186105912,\"node_id\":\"MDU6TGFiZWwxODYxMDU5MTI=\",\"url\":\"https://api.github.com/repos/PrestaShop/PrestaShop/labels/waiting%20for%20author\",\"name\":\"waiting for author\",\"color\":\"fbca04\",\"default\":false,\"description\":\"Status: Waiting for Author Feedback\"}],\"state\":\"open\",\"locked\":false,\"assignee\":null,\"assignees\":[],\"milestone\":null,\"comments\":2,\"created_at\":\"2020-06-27T00:34:59Z\",\"updated_at\":\"2020-08-30T07:57:59Z\",\"closed_at\":null,\"author_association\":\"CONTRIBUTOR\",\"active_lock_reason\":null,\"pull_request\":{\"url\":\"https://api.github.com/repos/PrestaShop/PrestaShop/pulls/19971\",\"html_url\":\"https://github.com/PrestaShop/PrestaShop/pull/19971\",\"diff_url\":\"https://github.com/PrestaShop/PrestaShop/pull/19971.diff\",\"patch_url\":\"https://github.com/PrestaShop/PrestaShop/pull/19971.patch\"},\"body\":\"<!-----------------------------------------------------------------------------\\\\r\\\\nThank you for contributing to the PrestaShop project! \\\\r\\\\n\\\\r\\\\nPlease take the time to edit the \\\\\"Answers\\\\\" rows below with the necessary information.\\\\r\\\\n\\\\r\\\\nCheck out our contribution guidelines to find out how to complete it:\\\\r\\\\nhttps://devdocs.prestashop.com/1.7/contribute/contribution-guidelines/#pull-requests\\\\r\\\\n------------------------------------------------------------------------------>\\\\r\\\\n\\\\r\\\\n| Questions     | Answers\\\\r\\\\n| ------------- | -------------------------------------------------------\\\\r\\\\n| Branch?       | develop / 1.7.7.x\\\\r\\\\n| Description?  | This is a complement fix of our previous PR https://github.com/PrestaShop/PrestaShop/pull/12379.\\\\r\\\\n| Type?         | bug fix\\\\r\\\\n| Category?     | BO\\\\r\\\\n| BC breaks?    | no\\\\r\\\\n| Deprecations? | no\\\\r\\\\n| Fixed ticket? | #20023\\\\r\\\\n| How to test?  | Create more than one carrier with the same name and in the carrier selection at **Shipping > Preferences > Carrier options > Default carrier** will display only one. \\\\r\\\\n<img width=\\\\\"1469\\\\\" alt=\\\\\"error-01\\\\\" src=\\\\\"https://user-images.githubusercontent.com/2866694/85910363-97292b80-b7db-11ea-9561-c364c141525e.png\\\\\"> \\\\r\\\\n<img width=\\\\\"1336\\\\\" alt=\\\\\"error-02\\\\\" src=\\\\\"https://user-images.githubusercontent.com/2866694/85910368-9d1f0c80-b7db-11ea-8ac2-069c516240d6.png\\\\\">\\\\r\\\\n\\\\r\\\\n\\\\r\\\\n\\\\r\\\\n<!-- Click the form\\'s \\\\\"Preview\\\\\" button to make sure the table is functional in GitHub. Thank you! -->\\\\r\\\\n\\\\r\\\\n<!-- Reviewable:start -->\\\\r\\\\n---\\\\r\\\\nThis change is\\u2002[<img src=\\\\\"https://reviewable.io/review_button.svg\\\\\" height=\\\\\"34\\\\\" align=\\\\\"absmiddle\\\\\" alt=\\\\\"Reviewable\\\\\"/>](https://reviewable.io/reviews/prestashop/prestashop/19971)\\\\r\\\\n<!-- Reviewable:end -->\\\\r\\\\n\",\"performed_via_github_app\":null},\"comment\":{\"url\":\"https://api.github.com/repos/PrestaShop/PrestaShop/issues/comments/683389426\",\"html_url\":\"https://github.com/PrestaShop/PrestaShop/pull/19971#issuecomment-683389426\",\"issue_url\":\"https://api.github.com/repos/PrestaShop/PrestaShop/issues/19971\",\"id\":683389426,\"node_id\":\"MDEyOklzc3VlQ29tbWVudDY4MzM4OTQyNg==\",\"user\":{\"login\":\"Matt75\",\"id\":5262628,\"node_id\":\"MDQ6VXNlcjUyNjI2Mjg=\",\"avatar_url\":\"https://avatars3.githubusercontent.com/u/5262628?v=4\",\"gravatar_id\":\"\",\"url\":\"https://api.github.com/users/Matt75\",\"html_url\":\"https://github.com/Matt75\",\"followers_url\":\"https://api.github.com/users/Matt75/followers\",\"following_url\":\"https://api.github.com/users/Matt75/following{/other_user}\",\"gists_url\":\"https://api.github.com/users/Matt75/gists{/gist_id}\",\"starred_url\":\"https://api.github.com/users/Matt75/starred{/owner}{/repo}\",\"subscriptions_url\":\"https://api.github.com/users/Matt75/subscriptions\",\"organizations_url\":\"https://api.github.com/users/Matt75/orgs\",\"repos_url\":\"https://api.github.com/users/Matt75/repos\",\"events_url\":\"https://api.github.com/users/Matt75/events{/privacy}\",\"received_events_url\":\"https://api.github.com/users/Matt75/received_events\",\"type\":\"User\",\"site_admin\":false},\"created_at\":\"2020-08-30T07:57:59Z\",\"updated_at\":\"2020-08-30T07:57:59Z\",\"author_association\":\"CONTRIBUTOR\",\"body\":\"Hi @Rolige here some commands to syncing your fork : https://devdocs.prestashop.com/1.7/contribute/contribute-pull-requests/create-pull-request/#syncing-your-fork\",\"performed_via_github_app\":null}},\"public\":true,\"created_at\":\"2020-08-30T07:57:59Z\",\"org\":{\"id\":2815696,\"login\":\"PrestaShop\",\"gravatar_id\":\"\",\"url\":\"https://api.github.com/orgs/PrestaShop\",\"avatar_url\":\"https://avatars.githubusercontent.com/u/2815696?\"}},{\"id\":\"13350424742\",\"type\":\"PushEvent\",\"actor\":{\"id\":49200585,\"login\":\"annkaliza\",\"display_login\":\"annkaliza\",\"gravatar_id\":\"\",\"url\":\"https://api.github.com/users/annkaliza\",\"avatar_url\":\"https://avatars.githubusercontent.com/u/49200585?\"},\"repo\":{\"id\":290578167,\"name\":\"annkaliza/snake-client\",\"url\":\"https://api.github.com/repos/annkaliza/snake-client\"},\"payload\":{\"push_id\":5606096022,\"size\":1,\"distinct_size\":1,\"ref\":\"refs/heads/master\",\"head\":\"3e3c5c94467048880ead319ec6871343693da160\",\"before\":\"302c1d95154f6e98800b368dabcbfda1cdf934a1\",\"commits\":[{\"sha\":\"3e3c5c94467048880ead319ec6871343693da160\",\"author\":{\"email\":\"annkaliza@gmail.com\",\"name\":\"Kaliza Anna\"},\"message\":\"added constants file\",\"distinct\":true,\"url\":\"https://api.github.com/repos/annkaliza/snake-client/commits/3e3c5c94467048880ead319ec6871343693da160\"}]},\"public\":true,\"created_at\":\"2020-08-30T07:57:59Z\"},{\"id\":\"13350424743\",\"type\":\"PullRequestEvent\",\"actor\":{\"id\":18119047,\"login\":\"ziyaointl\",\"display_login\":\"ziyaointl\",\"gravatar_id\":\"\",\"url\":\"https://api.github.com/users/ziyaointl\",\"avatar_url\":\"https://avatars.githubusercontent.com/u/18119047?\"},\"repo\":{\"id\":85054150,\"name\":\"p5py/p5\",\"url\":\"https://api.github.com/repos/p5py/p5\"},\"payload\":{\"action\":\"closed\",\"number\":251,\"pull_request\":{\"url\":\"https://api.github.com/repos/p5py/p5/pulls/251\",\"id\":475878327,\"node_id\":\"MDExOlB1bGxSZXF1ZXN0NDc1ODc4MzI3\",\"html_url\":\"https://github.com/p5py/p5/pull/251\",\"diff_url\":\"https://github.com/p5py/p5/pull/251.diff\",\"patch_url\":\"https://github.com/p5py/p5/pull/251.patch\",\"issue_url\":\"https://api.github.com/repos/p5py/p5/issues/251\",\"number\":251,\"state\":\"closed\",\"locked\":false,\"title\":\"fixed docs error\",\"user\":{\"login\":\"tushar5526\",\"id\":30565750,\"node_id\":\"MDQ6VXNlcjMwNTY1NzUw\",\"avatar_url\":\"https://avatars3.githubusercontent.com/u/30565750?v=4\",\"gravatar_id\":\"\",\"url\":\"https://api.github.com/users/tushar5526\",\"html_url\":\"https://github.com/tushar5526\",\"followers_url\":\"https://api.github.com/users/tushar5526/followers\",\"following_url\":\"https://api.github.com/users/tushar5526/following{/other_user}\",\"gists_url\":\"https://api.github.com/users/tushar5526/gists{/gist_id}\",\"starred_url\":\"https://api.github.com/users/tushar5526/starred{/owner}{/repo}\",\"subscriptions_url\":\"https://api.github.com/users/tushar5526/subscriptions\",\"organizations_url\":\"https://api.github.com/users/tushar5526/orgs\",\"repos_url\":\"https://api.github.com/users/tushar5526/repos\",\"events_url\":\"https://api.github.com/users/tushar5526/events{/privacy}\",\"received_events_url\":\"https://api.github.com/users/tushar5526/received_events\",\"type\":\"User\",\"site_admin\":false},\"body\":\"#244 \",\"created_at\":\"2020-08-30T07:56:47Z\",\"updated_at\":\"2020-08-30T07:57:59Z\",\"closed_at\":\"2020-08-30T07:57:59Z\",\"merged_at\":\"2020-08-30T07:57:59Z\",\"merge_commit_sha\":\"5e18c21d0f1f98df4613ae1bd59df362b99267a3\",\"assignee\":null,\"assignees\":[],\"requested_reviewers\":[],\"requested_teams\":[],\"labels\":[],\"milestone\":null,\"draft\":false,\"commits_url\":\"https://api.github.com/repos/p5py/p5/pulls/251/commits\",\"review_comments_url\":\"https://api.github.com/repos/p5py/p5/pulls/251/comments\",\"review_comment_url\":\"https://api.github.com/repos/p5py/p5/pulls/comments{/number}\",\"comments_url\":\"https://api.github.com/repos/p5py/p5/issues/251/comments\",\"statuses_url\":\"https://api.github.com/repos/p5py/p5/statuses/bd9700770e41f8de7804e34be77554de85806608\",\"head\":{\"label\":\"tushar5526:smallErrors\",\"ref\":\"smallErrors\",\"sha\":\"bd9700770e41f8de7804e34be77554de85806608\",\"user\":{\"login\":\"tushar5526\",\"id\":30565750,\"node_id\":\"MDQ6VXNlcjMwNTY1NzUw\",\"avatar_url\":\"https://avatars3.githubusercontent.com/u/30565750?v=4\",\"gravatar_id\":\"\",\"url\":\"https://api.github.com/users/tushar5526\",\"html_url\":\"https://github.com/tushar5526\",\"followers_url\":\"https://api.github.com/users/tushar5526/followers\",\"following_url\":\"https://api.github.com/users/tushar5526/following{/other_user}\",\"gists_url\":\"https://api.github.com/users/tushar5526/gists{/gist_id}\",\"starred_url\":\"https://api.github.com/users/tushar5526/starred{/owner}{/repo}\",\"subscriptions_url\":\"https://api.github.com/users/tushar5526/subscriptions\",\"organizations_url\":\"https://api.github.com/users/tushar5526/orgs\",\"repos_url\":\"https://api.github.com/users/tushar5526/repos\",\"events_url\":\"https://api.github.com/users/tushar5526/events{/privacy}\",\"received_events_url\":\"https://api.github.com/users/tushar5526/received_events\",\"type\":\"User\",\"site_admin\":false},\"repo\":{\"id\":263855933,\"node_id\":\"MDEwOlJlcG9zaXRvcnkyNjM4NTU5MzM=\",\"name\":\"p5\",\"full_name\":\"tushar5526/p5\",\"private\":false,\"owner\":{\"login\":\"tushar5526\",\"id\":30565750,\"node_id\":\"MDQ6VXNlcjMwNTY1NzUw\",\"avatar_url\":\"https://avatars3.githubusercontent.com/u/30565750?v=4\",\"gravatar_id\":\"\",\"url\":\"https://api.github.com/users/tushar5526\",\"html_url\":\"https://github.com/tushar5526\",\"followers_url\":\"https://api.github.com/users/tushar5526/followers\",\"following_url\":\"https://api.github.com/users/tushar5526/following{/other_user}\",\"gists_url\":\"https://api.github.com/users/tushar5526/gists{/gist_id}\",\"starred_url\":\"https://api.github.com/users/tushar5526/starred{/owner}{/repo}\",\"subscriptions_url\":\"https://api.github.com/users/tushar5526/subscriptions\",\"organizations_url\":\"https://api.github.com/users/tushar5526/orgs\",\"repos_url\":\"https://api.github.com/users/tushar5526/repos\",\"events_url\":\"https://api.github.com/users/tushar5526/events{/privacy}\",\"received_events_url\":\"https://api.github.com/users/tushar5526/received_events\",\"type\":\"User\",\"site_admin\":false},\"html_url\":\"https://github.com/tushar5526/p5\",\"description\":\"p5 is a Python package based on the core ideas of Processing.\",\"fork\":true,\"url\":\"https://api.github.com/repos/tushar5526/p5\",\"forks_url\":\"https://api.github.com/repos/tushar5526/p5/forks\",\"keys_url\":\"https://api.github.com/repos/tushar5526/p5/keys{/key_id}\",\"collaborators_url\":\"https://api.github.com/repos/tushar5526/p5/collaborators{/collaborator}\",\"teams_url\":\"https://api.github.com/repos/tushar5526/p5/teams\",\"hooks_url\":\"https://api.github.com/repos/tushar5526/p5/hooks\",\"issue_events_url\":\"https://api.github.com/repos/tushar5526/p5/issues/events{/number}\",\"events_url\":\"https://api.github.com/repos/tushar5526/p5/events\",\"assignees_url\":\"https://api.github.com/repos/tushar5526/p5/assignees{/user}\",\"branches_url\":\"https://api.github.com/repos/tushar5526/p5/branches{/branch}\",\"tags_url\":\"https://api.github.com/repos/tushar5526/p5/tags\",\"blobs_url\":\"https://api.github.com/repos/tushar5526/p5/git/blobs{/sha}\",\"git_tags_url\":\"https://api.github.com/repos/tushar5526/p5/git/tags{/sha}\",\"git_refs_url\":\"https://api.github.com/repos/tushar5526/p5/git/refs{/sha}\",\"trees_url\":\"https://api.github.com/repos/tushar5526/p5/git/trees{/sha}\",\"statuses_url\":\"https://api.github.com/repos/tushar5526/p5/statuses/{sha}\",\"languages_url\":\"https://api.github.com/repos/tushar5526/p5/languages\",\"stargazers_url\":\"https://api.github.com/repos/tushar5526/p5/stargazers\",\"contributors_url\":\"https://api.github.com/repos/tushar5526/p5/contributors\",\"subscribers_url\":\"https://api.github.com/repos/tushar5526/p5/subscribers\",\"subscription_url\":\"https://api.github.com/repos/tushar5526/p5/subscription\",\"commits_url\":\"https://api.github.com/repos/tushar5526/p5/commits{/sha}\",\"git_commits_url\":\"https://api.github.com/repos/tushar5526/p5/git/commits{/sha}\",\"comments_url\":\"https://api.github.com/repos/tushar5526/p5/comments{/number}\",\"issue_comment_url\":\"https://api.github.com/repos/tushar5526/p5/issues/comments{/number}\",\"contents_url\":\"https://api.github.com/repos/tushar5526/p5/contents/{+path}\",\"compare_url\":\"https://api.github.com/repos/tushar5526/p5/compare/{base}...{head}\",\"merges_url\":\"https://api.github.com/repos/tushar5526/p5/merges\",\"archive_url\":\"https://api.github.com/repos/tushar5526/p5/{archive_format}{/ref}\",\"downloads_url\":\"https://api.github.com/repos/tushar5526/p5/downloads\",\"issues_url\":\"https://api.github.com/repos/tushar5526/p5/issues{/number}\",\"pulls_url\":\"https://api.github.com/repos/tushar5526/p5/pulls{/number}\",\"milestones_url\":\"https://api.github.com/repos/tushar5526/p5/milestones{/number}\",\"notifications_url\":\"https://api.github.com/repos/tushar5526/p5/notifications{?since,all,participating}\",\"labels_url\":\"https://api.github.com/repos/tushar5526/p5/labels{/name}\",\"releases_url\":\"https://api.github.com/repos/tushar5526/p5/releases{/id}\",\"deployments_url\":\"https://api.github.com/repos/tushar5526/p5/deployments\",\"created_at\":\"2020-05-14T08:18:15Z\",\"updated_at\":\"2020-08-30T07:34:09Z\",\"pushed_at\":\"2020-08-30T07:55:46Z\",\"git_url\":\"git://github.com/tushar5526/p5.git\",\"ssh_url\":\"git@github.com:tushar5526/p5.git\",\"clone_url\":\"https://github.com/tushar5526/p5.git\",\"svn_url\":\"https://github.com/tushar5526/p5\",\"homepage\":\"\",\"size\":5080,\"stargazers_count\":0,\"watchers_count\":0,\"language\":\"Python\",\"has_issues\":false,\"has_projects\":true,\"has_downloads\":true,\"has_wiki\":true,\"has_pages\":false,\"forks_count\":0,\"mirror_url\":null,\"archived\":false,\"disabled\":false,\"open_issues_count\":1,\"license\":{\"key\":\"gpl-3.0\",\"name\":\"GNU General Public License v3.0\",\"spdx_id\":\"GPL-3.0\",\"url\":\"https://api.github.com/licenses/gpl-3.0\",\"node_id\":\"MDc6TGljZW5zZTk=\"},\"forks\":0,\"open_issues\":1,\"watchers\":0,\"default_branch\":\"master\"}},\"base\":{\"label\":\"p5py:master\",\"ref\":\"master\",\"sha\":\"e83c0a81b87b8de5f2ec84b523b9e2fcf2cb9783\",\"user\":{\"login\":\"p5py\",\"id\":29533818,\"node_id\":\"MDEyOk9yZ2FuaXphdGlvbjI5NTMzODE4\",\"avatar_url\":\"https://avatars3.githubusercontent.com/u/29533818?v=4\",\"gravatar_id\":\"\",\"url\":\"https://api.github.com/users/p5py\",\"html_url\":\"https://github.com/p5py\",\"followers_url\":\"https://api.github.com/users/p5py/followers\",\"following_url\":\"https://api.github.com/users/p5py/following{/other_user}\",\"gists_url\":\"https://api.github.com/users/p5py/gists{/gist_id}\",\"starred_url\":\"https://api.github.com/users/p5py/starred{/owner}{/repo}\",\"subscriptions_url\":\"https://api.github.com/users/p5py/subscriptions\",\"organizations_url\":\"https://api.github.com/users/p5py/orgs\",\"repos_url\":\"https://api.github.com/users/p5py/repos\",\"events_url\":\"https://api.github.com/users/p5py/events{/privacy}\",\"received_events_url\":\"https://api.github.com/users/p5py/received_events\",\"type\":\"Organization\",\"site_admin\":false},\"repo\":{\"id\":85054150,\"node_id\":\"MDEwOlJlcG9zaXRvcnk4NTA1NDE1MA==\",\"name\":\"p5\",\"full_name\":\"p5py/p5\",\"private\":false,\"owner\":{\"login\":\"p5py\",\"id\":29533818,\"node_id\":\"MDEyOk9yZ2FuaXphdGlvbjI5NTMzODE4\",\"avatar_url\":\"https://avatars3.githubusercontent.com/u/29533818?v=4\",\"gravatar_id\":\"\",\"url\":\"https://api.github.com/users/p5py\",\"html_url\":\"https://github.com/p5py\",\"followers_url\":\"https://api.github.com/users/p5py/followers\",\"following_url\":\"https://api.github.com/users/p5py/following{/other_user}\",\"gists_url\":\"https://api.github.com/users/p5py/gists{/gist_id}\",\"starred_url\":\"https://api.github.com/users/p5py/starred{/owner}{/repo}\",\"subscriptions_url\":\"https://api.github.com/users/p5py/subscriptions\",\"organizations_url\":\"https://api.github.com/users/p5py/orgs\",\"repos_url\":\"https://api.github.com/users/p5py/repos\",\"events_url\":\"https://api.github.com/users/p5py/events{/privacy}\",\"received_events_url\":\"https://api.github.com/users/p5py/received_events\",\"type\":\"Organization\",\"site_admin\":false},\"html_url\":\"https://github.com/p5py/p5\",\"description\":\"p5 is a Python package based on the core ideas of Processing.\",\"fork\":false,\"url\":\"https://api.github.com/repos/p5py/p5\",\"forks_url\":\"https://api.github.com/repos/p5py/p5/forks\",\"keys_url\":\"https://api.github.com/repos/p5py/p5/keys{/key_id}\",\"collaborators_url\":\"https://api.github.com/repos/p5py/p5/collaborators{/collaborator}\",\"teams_url\":\"https://api.github.com/repos/p5py/p5/teams\",\"hooks_url\":\"https://api.github.com/repos/p5py/p5/hooks\",\"issue_events_url\":\"https://api.github.com/repos/p5py/p5/issues/events{/number}\",\"events_url\":\"https://api.github.com/repos/p5py/p5/events\",\"assignees_url\":\"https://api.github.com/repos/p5py/p5/assignees{/user}\",\"branches_url\":\"https://api.github.com/repos/p5py/p5/branches{/branch}\",\"tags_url\":\"https://api.github.com/repos/p5py/p5/tags\",\"blobs_url\":\"https://api.github.com/repos/p5py/p5/git/blobs{/sha}\",\"git_tags_url\":\"https://api.github.com/repos/p5py/p5/git/tags{/sha}\",\"git_refs_url\":\"https://api.github.com/repos/p5py/p5/git/refs{/sha}\",\"trees_url\":\"https://api.github.com/repos/p5py/p5/git/trees{/sha}\",\"statuses_url\":\"https://api.github.com/repos/p5py/p5/statuses/{sha}\",\"languages_url\":\"https://api.github.com/repos/p5py/p5/languages\",\"stargazers_url\":\"https://api.github.com/repos/p5py/p5/stargazers\",\"contributors_url\":\"https://api.github.com/repos/p5py/p5/contributors\",\"subscribers_url\":\"https://api.github.com/repos/p5py/p5/subscribers\",\"subscription_url\":\"https://api.github.com/repos/p5py/p5/subscription\",\"commits_url\":\"https://api.github.com/repos/p5py/p5/commits{/sha}\",\"git_commits_url\":\"https://api.github.com/repos/p5py/p5/git/commits{/sha}\",\"comments_url\":\"https://api.github.com/repos/p5py/p5/comments{/number}\",\"issue_comment_url\":\"https://api.github.com/repos/p5py/p5/issues/comments{/number}\",\"contents_url\":\"https://api.github.com/repos/p5py/p5/contents/{+path}\",\"compare_url\":\"https://api.github.com/repos/p5py/p5/compare/{base}...{head}\",\"merges_url\":\"https://api.github.com/repos/p5py/p5/merges\",\"archive_url\":\"https://api.github.com/repos/p5py/p5/{archive_format}{/ref}\",\"downloads_url\":\"https://api.github.com/repos/p5py/p5/downloads\",\"issues_url\":\"https://api.github.com/repos/p5py/p5/issues{/number}\",\"pulls_url\":\"https://api.github.com/repos/p5py/p5/pulls{/number}\",\"milestones_url\":\"https://api.github.com/repos/p5py/p5/milestones{/number}\",\"notifications_url\":\"https://api.github.com/repos/p5py/p5/notifications{?since,all,participating}\",\"labels_url\":\"https://api.github.com/repos/p5py/p5/labels{/name}\",\"releases_url\":\"https://api.github.com/repos/p5py/p5/releases{/id}\",\"deployments_url\":\"https://api.github.com/repos/p5py/p5/deployments\",\"created_at\":\"2017-03-15T09:34:15Z\",\"updated_at\":\"2020-08-30T07:14:15Z\",\"pushed_at\":\"2020-08-30T07:57:59Z\",\"git_url\":\"git://github.com/p5py/p5.git\",\"ssh_url\":\"git@github.com:p5py/p5.git\",\"clone_url\":\"https://github.com/p5py/p5.git\",\"svn_url\":\"https://github.com/p5py/p5\",\"homepage\":\"\",\"size\":5149,\"stargazers_count\":365,\"watchers_count\":365,\"language\":\"Python\",\"has_issues\":true,\"has_projects\":false,\"has_downloads\":true,\"has_wiki\":true,\"has_pages\":false,\"forks_count\":66,\"mirror_url\":null,\"archived\":false,\"disabled\":false,\"open_issues_count\":55,\"license\":{\"key\":\"gpl-3.0\",\"name\":\"GNU General Public License v3.0\",\"spdx_id\":\"GPL-3.0\",\"url\":\"https://api.github.com/licenses/gpl-3.0\",\"node_id\":\"MDc6TGljZW5zZTk=\"},\"forks\":66,\"open_issues\":55,\"watchers\":365,\"default_branch\":\"master\"}},\"_links\":{\"self\":{\"href\":\"https://api.github.com/repos/p5py/p5/pulls/251\"},\"html\":{\"href\":\"https://github.com/p5py/p5/pull/251\"},\"issue\":{\"href\":\"https://api.github.com/repos/p5py/p5/issues/251\"},\"comments\":{\"href\":\"https://api.github.com/repos/p5py/p5/issues/251/comments\"},\"review_comments\":{\"href\":\"https://api.github.com/repos/p5py/p5/pulls/251/comments\"},\"review_comment\":{\"href\":\"https://api.github.com/repos/p5py/p5/pulls/comments{/number}\"},\"commits\":{\"href\":\"https://api.github.com/repos/p5py/p5/pulls/251/commits\"},\"statuses\":{\"href\":\"https://api.github.com/repos/p5py/p5/statuses/bd9700770e41f8de7804e34be77554de85806608\"}},\"author_association\":\"CONTRIBUTOR\",\"active_lock_reason\":null,\"merged\":true,\"mergeable\":null,\"rebaseable\":null,\"mergeable_state\":\"unknown\",\"merged_by\":{\"login\":\"ziyaointl\",\"id\":18119047,\"node_id\":\"MDQ6VXNlcjE4MTE5MDQ3\",\"avatar_url\":\"https://avatars2.githubusercontent.com/u/18119047?v=4\",\"gravatar_id\":\"\",\"url\":\"https://api.github.com/users/ziyaointl\",\"html_url\":\"https://github.com/ziyaointl\",\"followers_url\":\"https://api.github.com/users/ziyaointl/followers\",\"following_url\":\"https://api.github.com/users/ziyaointl/following{/other_user}\",\"gists_url\":\"https://api.github.com/users/ziyaointl/gists{/gist_id}\",\"starred_url\":\"https://api.github.com/users/ziyaointl/starred{/owner}{/repo}\",\"subscriptions_url\":\"https://api.github.com/users/ziyaointl/subscriptions\",\"organizations_url\":\"https://api.github.com/users/ziyaointl/orgs\",\"repos_url\":\"https://api.github.com/users/ziyaointl/repos\",\"events_url\":\"https://api.github.com/users/ziyaointl/events{/privacy}\",\"received_events_url\":\"https://api.github.com/users/ziyaointl/received_events\",\"type\":\"User\",\"site_admin\":false},\"comments\":1,\"review_comments\":0,\"maintainer_can_modify\":false,\"commits\":1,\"additions\":2,\"deletions\":2,\"changed_files\":1}},\"public\":true,\"created_at\":\"2020-08-30T07:57:59Z\",\"org\":{\"id\":29533818,\"login\":\"p5py\",\"gravatar_id\":\"\",\"url\":\"https://api.github.com/orgs/p5py\",\"avatar_url\":\"https://avatars.githubusercontent.com/u/29533818?\"}},{\"id\":\"13350424740\",\"type\":\"WatchEvent\",\"actor\":{\"id\":62930663,\"login\":\"azofficial\",\"display_login\":\"azofficial\",\"gravatar_id\":\"\",\"url\":\"https://api.github.com/users/azofficial\",\"avatar_url\":\"https://avatars.githubusercontent.com/u/62930663?\"},\"repo\":{\"id\":291419571,\"name\":\"azofficial/WolfUserbot\",\"url\":\"https://api.github.com/repos/azofficial/WolfUserbot\"},\"payload\":{\"action\":\"started\"},\"public\":true,\"created_at\":\"2020-08-30T07:57:59Z\"},{\"id\":\"13350424733\",\"type\":\"PushEvent\",\"actor\":{\"id\":40362510,\"login\":\"tky1117\",\"display_login\":\"tky1117\",\"gravatar_id\":\"\",\"url\":\"https://api.github.com/users/tky1117\",\"avatar_url\":\"https://avatars.githubusercontent.com/u/40362510?\"},\"repo\":{\"id\":291297151,\"name\":\"tky1117/DNN-based_source_separation\",\"url\":\"https://api.github.com/repos/tky1117/DNN-based_source_separation\"},\"payload\":{\"push_id\":5606096017,\"size\":1,\"distinct_size\":1,\"ref\":\"refs/heads/master\",\"head\":\"543890842243297fda2a85d428df3c322e2d3e5f\",\"before\":\"b2da735ee336b627c8cd93d72aa84a7cdc21823a\",\"commits\":[{\"sha\":\"543890842243297fda2a85d428df3c322e2d3e5f\",\"author\":{\"email\":\"delta9guitar97@gmail.com\",\"name\":\"tky1117\"},\"message\":\"Added PESQ\",\"distinct\":true,\"url\":\"https://api.github.com/repos/tky1117/DNN-based_source_separation/commits/543890842243297fda2a85d428df3c322e2d3e5f\"}]},\"public\":true,\"created_at\":\"2020-08-30T07:57:59Z\"},{\"id\":\"13350424734\",\"type\":\"CreateEvent\",\"actor\":{\"id\":8860513,\"login\":\"minjunli\",\"display_login\":\"minjunli\",\"gravatar_id\":\"\",\"url\":\"https://api.github.com/users/minjunli\",\"avatar_url\":\"https://avatars.githubusercontent.com/u/8860513?\"},\"repo\":{\"id\":291424102,\"name\":\"minjunli/jsonc\",\"url\":\"https://api.github.com/repos/minjunli/jsonc\"},\"payload\":{\"ref\":\"master\",\"ref_type\":\"branch\",\"master_branch\":\"master\",\"description\":\"json for config files\",\"pusher_type\":\"user\"},\"public\":true,\"created_at\":\"2020-08-30T07:57:59Z\"}]'"
      ]
     },
     "execution_count": 83,
     "metadata": {},
     "output_type": "execute_result"
    }
   ],
   "source": [
    "r.text"
   ]
  },
  {
   "cell_type": "code",
   "execution_count": 84,
   "metadata": {},
   "outputs": [
    {
     "name": "stdout",
     "output_type": "stream",
     "text": [
      "{\n",
      "  \"args\": {}, \n",
      "  \"data\": \"\", \n",
      "  \"files\": {}, \n",
      "  \"form\": {\n",
      "    \"key1\": \"value1\", \n",
      "    \"key2\": \"value2\"\n",
      "  }, \n",
      "  \"headers\": {\n",
      "    \"Accept\": \"*/*\", \n",
      "    \"Accept-Encoding\": \"gzip, deflate\", \n",
      "    \"Content-Length\": \"23\", \n",
      "    \"Content-Type\": \"application/x-www-form-urlencoded\", \n",
      "    \"Host\": \"httpbin.org\", \n",
      "    \"User-Agent\": \"python-requests/2.24.0\", \n",
      "    \"X-Amzn-Trace-Id\": \"Root=1-5f4b5d98-fbdf83d933cdc23ecf957c65\"\n",
      "  }, \n",
      "  \"json\": null, \n",
      "  \"origin\": \"202.86.223.50\", \n",
      "  \"url\": \"https://httpbin.org/post\"\n",
      "}\n",
      "\n"
     ]
    }
   ],
   "source": [
    "payload = {'key1': 'value1', 'key2': 'value2'}\n",
    "\n",
    "r = requests.post(\"https://httpbin.org/post\", data=payload)\n",
    "print(r.text)"
   ]
  },
  {
   "cell_type": "code",
   "execution_count": 85,
   "metadata": {},
   "outputs": [],
   "source": [
    "import json\n",
    "\n",
    "url = 'https://api.github.com/some/endpoint'\n",
    "payload = {'some': 'data'}\n",
    "\n",
    "r = requests.post(url, data=json.dumps(payload))"
   ]
  },
  {
   "cell_type": "code",
   "execution_count": 86,
   "metadata": {},
   "outputs": [
    {
     "name": "stdout",
     "output_type": "stream",
     "text": [
      "<Response [404]>\n"
     ]
    }
   ],
   "source": [
    "print(r)"
   ]
  },
  {
   "cell_type": "markdown",
   "metadata": {},
   "source": [
    "# Week 3\n",
    "\n",
    "## Sending Emails from Python"
   ]
  },
  {
   "cell_type": "markdown",
   "metadata": {},
   "source": [
    "### Introduction to Python Email Library"
   ]
  },
  {
   "cell_type": "markdown",
   "metadata": {},
   "source": [
    "Introduction to Python Email Library\n",
    "\n",
    "Email messages look simple in an email client. But behind the scenes the client is doing a lot of work to make that happen! Email messages -- even messages with images and attachments -- are actually complicated text structures made entirely of readable strings!\n",
    "\n",
    "The Simple Mail Transfer Protocol (SMTP) (https://tools.ietf.org/html/rfc2821.html) and Multipurpose Internet Mail Extensions (MIME) (https://tools.ietf.org/html/rfc2045) standards define how email messages are constructed. You could read the standards documentation and create email messages all on your own, but you don't need to go to all that trouble. The email built-in Python module (https://docs.python.org/3/library/email.html) lets us easily construct email messages.\n",
    "\n",
    "We'll start by using the email.message.EmailMessage class (https://docs.python.org/3/library/email.message.html#email.message.EmailMessage) to create an empty email message.\n",
    "\n",
    "https://stackoverflow.com/questions/8856117/how-to-send-email-to-multiple-recipients-using-python-smtplib"
   ]
  },
  {
   "cell_type": "code",
   "execution_count": 26,
   "metadata": {},
   "outputs": [
    {
     "name": "stdout",
     "output_type": "stream",
     "text": [
      "\n",
      "\n"
     ]
    }
   ],
   "source": [
    "from email.message import EmailMessage\n",
    "message = EmailMessage()\n",
    "print(message)"
   ]
  },
  {
   "cell_type": "markdown",
   "metadata": {},
   "source": [
    "As usual, printing the message object gives us the string representation of that object. The email library has a function that converts the complex EmailMessage object into something that is fairly human-readable. Since this is an empty message, there isn't anything to see yet. Let's try adding the sender and recipient to the message and see how that looks.\n",
    "\n",
    "We'll define a couple of variables so that we can reuse them later."
   ]
  },
  {
   "cell_type": "code",
   "execution_count": 27,
   "metadata": {},
   "outputs": [],
   "source": [
    "sender = \"me@example.com\"\n",
    "recipient = \"you@example.com\""
   ]
  },
  {
   "cell_type": "markdown",
   "metadata": {},
   "source": [
    "And now, add them to the From and To fields of the message."
   ]
  },
  {
   "cell_type": "markdown",
   "metadata": {},
   "source": [
    "message['From'] = sender\n",
    "message['To'] = recipient\n",
    "print(message)"
   ]
  },
  {
   "cell_type": "markdown",
   "metadata": {},
   "source": [
    "Cool! That's starting to look a bit more like an email message now. How about a subject?"
   ]
  },
  {
   "cell_type": "code",
   "execution_count": 29,
   "metadata": {},
   "outputs": [
    {
     "name": "stdout",
     "output_type": "stream",
     "text": [
      "From: me@example.com\n",
      "To: you@example.com\n",
      "Subject: Greetings from me@example.com to you@example.com!\n",
      "\n",
      "\n"
     ]
    }
   ],
   "source": [
    "message['Subject'] = 'Greetings from {} to {}!'.format(sender, recipient)\n",
    "print(message)"
   ]
  },
  {
   "cell_type": "markdown",
   "metadata": {},
   "source": [
    "From, To, and Subject are examples of email header fields. They’re key-value pairs of labels and instructions used by email clients and servers to route and display the email. They’re separate from the email's message body, which is the main content of the message.\n",
    "\n",
    "Let's go ahead and add a message body!"
   ]
  },
  {
   "cell_type": "code",
   "execution_count": 33,
   "metadata": {},
   "outputs": [],
   "source": [
    "body = \"\"\"Hey there!\n",
    "...\n",
    "... I'm learning to send emails using Python!\"\"\"\n",
    "message.set_content(body)"
   ]
  },
  {
   "cell_type": "markdown",
   "metadata": {},
   "source": [
    "Alright, now what does that look like?"
   ]
  },
  {
   "cell_type": "code",
   "execution_count": 34,
   "metadata": {},
   "outputs": [
    {
     "name": "stdout",
     "output_type": "stream",
     "text": [
      "From: me@example.com\n",
      "To: you@example.com\n",
      "Subject: Greetings from me@example.com to you@example.com!\n",
      "MIME-Version: 1.0\n",
      "Content-Type: text/plain; charset=\"utf-8\"\n",
      "Content-Transfer-Encoding: 7bit\n",
      "\n",
      "Hey there!\n",
      "\n",
      "I'm learning to send emails using Python!\n",
      "\n"
     ]
    }
   ],
   "source": [
    "print(message)"
   ]
  },
  {
   "cell_type": "markdown",
   "metadata": {},
   "source": [
    "The message has a body! The set_content() method also automatically added a couple of headers that the email infrastructure will use when sending this message to another machine. Remember in an earlier course, when we talked about character encodings? The Content-Type and Content-Transfer-Encoding headers tell email clients and servers how to interpret the bytes in this email message into a string. Now, what about this other header? What is MIME? We'll learn about that next!"
   ]
  },
  {
   "cell_type": "markdown",
   "metadata": {},
   "source": [
    "### Adding Attachments"
   ]
  },
  {
   "cell_type": "markdown",
   "metadata": {},
   "source": [
    "Adding Attachments\n",
    "\n",
    "Remember, email messages are made up completely of strings. When you add an attachment to an email, whatever type the attachment happens to be, it’s encoded as some form of text. The Multipurpose Internet Mail Extensions (MIME) standard is used to encode all sorts of files as text strings that can be sent via email. \n",
    "\n",
    "Let's dive in and break down how that works.\n",
    "\n",
    "In order for the recipient of your message to understand what to do with an attachment, you  need to label the attachment with a MIME type and subtype to tell them what sort of file you’re sending. The Internet Assigned Numbers Authority (IANA) (iana.org) (https://www.iana.org/) hosts a registry of valid MIME types (https://www.iana.org/assignments/media-types/media-types.xhtml). If you know the correct type and subtype of the files you’ll be sending, you can use those values directly. If you don't know, you can use the Python mimetypes module to make a good guess!"
   ]
  },
  {
   "cell_type": "code",
   "execution_count": 38,
   "metadata": {},
   "outputs": [
    {
     "name": "stdout",
     "output_type": "stream",
     "text": [
      "image/png\n"
     ]
    }
   ],
   "source": [
    "import os.path\n",
    "attachment_path = \"example.png\"\n",
    "attachment_filename = os.path.basename(attachment_path)\n",
    "import mimetypes\n",
    "mime_type, _ = mimetypes.guess_type(attachment_path)\n",
    "print(mime_type)"
   ]
  },
  {
   "cell_type": "markdown",
   "metadata": {},
   "source": [
    "Alright, that mime_type string contains the MIME type and subtype, separated by a slash. The EmailMessage type needs a MIME type and subtypes as separate strings, so let's split this up:"
   ]
  },
  {
   "cell_type": "code",
   "execution_count": 39,
   "metadata": {},
   "outputs": [
    {
     "name": "stdout",
     "output_type": "stream",
     "text": [
      "image\n",
      "png\n"
     ]
    }
   ],
   "source": [
    "mime_type, mime_subtype = mime_type.split('/', 1)\n",
    "print(mime_type)\n",
    "print(mime_subtype)"
   ]
  },
  {
   "cell_type": "markdown",
   "metadata": {},
   "source": [
    "Now, finally! Let's add the attachment to our message and see what it looks like."
   ]
  },
  {
   "cell_type": "code",
   "execution_count": 40,
   "metadata": {},
   "outputs": [
    {
     "name": "stdout",
     "output_type": "stream",
     "text": [
      "From: me@example.com\n",
      "To: you@example.com\n",
      "Subject: Greetings from me@example.com to you@example.com!\n",
      "MIME-Version: 1.0\n",
      "Content-Type: multipart/mixed; boundary=\"===============6663892711022936884==\"\n",
      "\n",
      "--===============6663892711022936884==\n",
      "Content-Type: text/plain; charset=\"utf-8\"\n",
      "Content-Transfer-Encoding: 7bit\n",
      "\n",
      "Hey there!\n",
      "\n",
      "I'm learning to send emails using Python!\n",
      "\n",
      "--===============6663892711022936884==\n",
      "Content-Type: image/png\n",
      "Content-Transfer-Encoding: base64\n",
      "Content-Disposition: attachment; filename=\"example.png\"\n",
      "MIME-Version: 1.0\n",
      "\n",
      "iVBORw0KGgoAAAANSUhEUgAABVUAAAL/CAMAAABRZNeLAAAABGdBTUEAALGPC/xhBQAAAAFzUkdC\n",
      "AK7OHOkAAAAJcEhZcwAADsMAAA7DAcdvqGQAAAERUExURf////j5/wAAALSzs/Hx8uLi4uXl5QSf\n",
      "2erq6u7u7oKHkObs9dXc79vh8sXFxfj5+I+6yzY3OtTl61KYrvH0+eDl9djY2cvLzdHR0ujo6L29\n",
      "vm5ubmzASZWVlZ+fn15eXrW7zAhrhpn//3Wtv/3VgCYlgBcNFRt+mayqrnp7fEOInlRVWFCp8NT/\n",
      "/kNFRr1sFXzO+SVUYmsVFYaGhmGhtf37qiEmIfoWE8Lj7an9/7fT4KLb7yyE1qjI2feIEQBTqg7C\n",
      "8uLvzP6qVJzB0X85mOEJD9StWFcEVOFSO/391AuJvy6dUfrLN5XSb+rLrefChQACU+N8d2jn/XyY\n",
      "q6SPVCoGVb7wgA6AC3JnGAxs/mz+PDwMz38AACAASURBVHja7J1tT+M6Fse5bVLFdxAwiAkNd9vh\n",
      "vmC2s61Ib2eFEAihaKSMyK5aXlSi3/+T7HmwEztx0/I0O909JyUksWMfh8mvfx87mb3Eb9F7WfJa\n",
      "64n9DAvFxHbCtv4nrQZR7YjFu65aB5yWJG/2QZDs9ZJqcYGqXrVsTdnXc1bsTa3kqpBV7Ndh59rF\n",
      "k+azpBcAVRNnqTYJnTYF6U6oJ22zKKSqV6USGN/BvPRV7kfsv2c1sApXxXaBtw29Gm6pVSu5iujk\n",
      "7cFY26CR9Fyt6vb83wepW2G3Xf8KdH8WWiUMILYjejVs6lU/V1GrNrRlryZIk/GetrGtVWunDYi6\n",
      "vF6rVS9Xq+VqdXn5+WtsMTV4oSmxHTX9tVVxVdSq2E5oVVevrteqSTMw0LMFaalUx0DV9VoV0Tse\n",
      "jDV712jV8b+XlznY8ks3iiqkKvz4F052jriJDdTWl2ff8NVH2WK6Omqll7nK3NGaTzPJn6mlCDuP\n",
      "2bKORVucGTkeb++rx4e1nrkO+q+rAWuFVTGxX1uvhk296g+v+rUqR1eNIK2U6gatSlkQrWu0ahiH\n",
      "fzz9Lb9c5svVsqtvrkWnc38cpBfXXkRCasdNymbTOkGzWQdtuiVCqUalsnSCOxfXSs1/3Poy8uG8\n",
      "g/mzFM8hy2tbVATknoGnKn/0FoWpHTeJ61fuIWrIpNX9nBvLW1wknjdZ0wir9Nm00YJ1V2i68Rp6\n",
      "cqD39zn5n9Ka/jATbpbdKL5ikU3VUMSq2K5o1Uqvhl7J6o+r8toIUoeqLXHVAWcEqPZ8cdUk7kfR\n",
      "H1dXX5arj6vcUDUHGAKJ1vXx4f57SO8/WBx9MFRFni6QuChZgRNe6YpauLZAjcy+BbIFb/BgHZCI\n",
      "e1B0NrOZUKdqlk6JM5M2GmEVKePXR9XSg4WTZy3UqOKuYT2sF4+36WTDWXmxJVW3pXP9chV6nc3w\n",
      "a+jiGnOCY9hS59JwIyHVwaqY2C+tWMOmXvWHVwOmalILA9C+jqsm4yDA7j+sgzatimoVOMYjWh6t\n",
      "Gh7EcfyvJ7AlhgCYqvPZNGgLqyI2F45YdbRqmZQb8irNW71ZjwpQjYYOSLI2rcrwQqqmbVQlWrng\n",
      "bRiB260meTlV0R/+wiAPEF5waLGJlXNT9ntTFcsPdE74QXedS+ijqkRWxXZJq7JetbRq6NOqX8vo\n",
      "6fj3mlaNojGvo1atClTF3IPaXCyjVc/iOIw/Pz11nj4CVVdE1RKLQEXoLoJmzbHHj91lxqSmKvZ6\n",
      "J0EAPcl7uBcfQAZhaGC64MOaqg/pP2aFlfOY8gTp30E5VcqV7mgALNz8SIFSq8KJBfXTJyr/c3Vx\n",
      "DSVMiR+ACBKakP/PGXa9CbPU+YaMmL8kZkDlYeIU4wyg0mbYHKxO50GXCuq7Qw0TlT7eUpW4KpRW\n",
      "3worurdzWm4pUxhWFhCreDct0NuA4hB0rmZtRpeCuuQEY9wf31PL0gIb8Eht5/LRqw63d8HhBXBo\n",
      "9XjLGdC3xQW26R5yzH8sTWd/zG0kqsK6JChpVbwghqr6gi2wSXgx748lsCq2K3rVx9U2rdqzoqfQ\n",
      "hy+1KtFx3OuNed1r1aqDMblAYtWjVbshaFWg6tXTVb5cfY61avqgqQi3Hf5GyoLuA0QWhqq8BSkU\n",
      "CshmR3AA7mpMw2RVUZUjCSanzpN2pno8jEhkdBogYE6UYK1Kv5ECsJ3Djc+6K2euETyAqgBLADqU\n",
      "gB3vHGE/oWBCOik1JlaIpy4QSRluciedwM1hWIAUVZZOUgwuUJWuVk25u1zmrNziyDG4xbKbo5Wa\n",
      "qni41JEYEaAWYoc8neiqEa9Y5/0xfjVQkZluKbUGiIk0xutBEVv8mgC24w5ofKbqtXEZS4GzkJrc\n",
      "eA6fMt7pO1J/qSBRTYyaLtji4oBVrH44g3pKolXFdkyrOuFVa9Sq0qrjqoM2LrUqTQYAWKKChXXY\n",
      "plUJqvQz8GrVEUA1HmME4OPlt1jPAKio+uEhnQIYJ6ZfzyoWVRdkQbF2wX3/B7jxg4CGbPD2tCIA\n",
      "dLKVU+cBBpMI1EM7xJdAK71ppVWROAseCKIsrAJx/AmlKQlb5A/SjZUerDAj6THQxSzXqLyUIaxF\n",
      "JAvLuQYMDlrdUNkZqkJTJWYykWIWfVVOxy30naqnJhDPjFalbwkKa9C5t7CbFzySV3BMFRIt+b0g\n",
      "ttIOOYcEZwZDIvlvtD2BNy1qVCX1TR7yV0pgIgAcDZlTZXNSzHp4TekLtqDdegRATOyX1qtNppbh\n",
      "VSaqAWtQUbUSsJZWRayOoecehth91717v1YdIzQHtPZq1bODOA7HV1eXg0FSPgBg4qpIxWyGFKlR\n",
      "ldYoXhealRl2cU0c1aLqcZDAyXbOnDv+JHW1yAvsuCrd5KTJiAp5p9CCk4OVKBhRZWnytFEVY4c6\n",
      "rrogbdaZEmEqquo14lmTSCUpYt5MIHC1auHktNwKdJTBicfqvj73sucz0qfItPQonZbiNWXBbaia\n",
      "pf8s24a+L0iDu1Q1IY2tqBpYcVWS50xVEwGoArpM1UKJVhXbfa1ahVe9WvV3X1yV/rkjKMmIli1a\n",
      "tXoKwKdVk8FprIZfR/GwX1I1UNRrX94SJUFs0nSAbFbYEQDuy4MqSzk8MIX+/Xw2samqDFXtnDoP\n",
      "alVlJgNwjUotCRuk3SYGB0jjwhrMobAr95W1VsXOPh1AiUh95qmiPjooQdxW+ZSJBwSC3YCG6Akx\n",
      "OhSKmIEm5hwemGDvmaoMGlrVyem4BcmTUhjmJiCxKGc1ZLMjPhdcwurtISqMCGC8mUQy63D40fMT\n",
      "HKqaMXtyCHfmpDuzWY2qtynGSC2tiuv5rCipSqHdif7C0BcMr/REtKrYjnO1MWyllasaJs1nVXuW\n",
      "VtUPTVnPq659DwAn2q8LKN8oMESq9kbduB+fds/006p812I/vaC4Kv7GYab6aFU5bfVBj1YlKY+f\n",
      "3B+D3psQjAxVdU4eouE8jB89lTXQEz4Lrb8mNEDFPfFHGqLpaLzoSa0/dE1E1b9mHRMS4NGqv2Yc\n",
      "VqAILeWjQC7mz63RqkqM6mmrqRmt4hE3lIOdwtGqTs7KraqotOB+Ps/84h529uOOxrX0ufOZmTM6\n",
      "zdmPDMVr53FJkrFQRodbzTZULSfDah1vBqa+4QXQo1W3rIj5oI6rXtAQFlWqo7yLx7uKqnzBaLQK\n",
      "/z7WaJVMWBXbca5WWnUY9tZMWC21aqU8S3queQ9Aj38acwB6TNUEoBrHnz/GiX7VifO4qnKejwo8\n",
      "E66UnjbFutM8sqpn/gccUghcgqrWBwOC+cZ5TOUcz3LmkF1m5MxsffabCN7cbG+V53EnPdE1apsf\n",
      "9YJ3M+QbLmPUnJRGD1mJVBXbZa7WHwswswWis7Oo15yqasdVyydYLbT656v2/Fo1iU7PrHdWxVef\n",
      "w6QUq74nUc2UU+9Dqqqckqq3zEzU938rQEnVqAmMaDNS3L1oU/boeZSLao+GNhJrx7adsxo1n5Bt\n",
      "Tp/dBHNzyFQaNZ5YFakqtttctSZXJeHgLG68TEjxqhuY1zc1XuEESZH/tObR8GDYi/g9AITd7pev\n",
      "Pf1u1VL7WSQ1nLT4qdNtldnY1Kc993l/3/Ps0Zpn3wkekUFCtWmerI+8Zam2Z+2rcqL6M/r19wU0\n",
      "/Yqco8raquexnr3nX9mMuvcNX/1FOw7V8nLgw7121vWx3vUIG0TVyDytaktVYarYznHVNx2Al+Rg\n",
      "NNjKhs5S2207ODrAm2evCrt++zhMEt/LVa0+e231mhcjPdt+4msA1Wsyq/drjXppdrWhKGX9kjcB\n",
      "iv2PcbVUq5FSyg1l2q+RKhNe/Lo+OBNhuterh1zLG+2VL6eWN6Lu4qtVI+et1WJiu8fVZiig9T8J\n",
      "8FttXOpZ/5lGsuei9vCE7JDsxHwqC6rjtHvCyyF9qj1YqvVJbWke4bxw6mG5nDR+8OM7fhgE+syT\n",
      "sowTp7R6/kPPfnuJJ97Szd6akw9bmmNyuYUe0p+gxdcNDpnLxJ/AqqPpk9dO1iWIiYltayd7f4iJ\n",
      "iYmJvZ3tiYmJiYm9qf0miyyyyCLLmy17vx3KIossssjyZsveiZiYmJjY25lQVUxMTOxNqfpBTExM\n",
      "TOztDKn6CTfiIdhddh6ff+JDtc8c068hKeneZOfheTNH0h0Ov5tyIUNGJVnmO+UOE+ZHsZ33k+dD\n",
      "7rED2jY6yl40mxxv9ovylP6vq0k+8pGPfJqfvX1tp+fu77odfNcb8ejGmyse3e3vd7/vtxdTs/mR\n",
      "KXGznd05uxsd3d6LpuGJ5ckvLkVMTOz/0GpUPT2H3wegOZv840Nnw9Hopj8aDY/qGfrnBMhrTPwe\n",
      "QwYo6Qzk736/CwcgBbcbKO7e0Jl9XSsWAmSmwz6qUoG62HN/kexo9wgxj25yuZYP/S38MlTVTp1i\n",
      "m+Qfi5iY2HOo2od+8xECBLm636TaAacDNYc3/XOPfCONCDjsj25AfBIpT0fXuInr6wME2HUTlXBW\n",
      "926/r2uF8+PRORO6ZiFQtV8VCDX4i2RHodDud83r/a7jwzZ+4dWgy/Ef9s6tt1GdC8OMwFHT3cD2\n",
      "pxaILexegiz5BikaVerV3Pf//5zPNkfjQ0gzc7En6yWZzmT5RDI8eb0w1FRWFT52GmoQCARUXVtN\n",
      "Q7fcZFj9FlD7xdRPVVPgf+lP3RD5NDzToNWlzcvM6/ZKgzZdduiVfOaf6U/y6c8ADA1OzVbeJkdT\n",
      "jdp/X0YLrNpdj2HPuPROrCpX704CAgQCgfxUPZ1eTkpIgUP9qN81c06jXoanKWBePZDP00nzqH5/\n",
      "mUJTAdOAsYIvp5mqQ+kXlP5UbTP2YTVqqqUf5Jfud+y1ficfX5+6+DSCqeDL1+fpyzT4NTU7NWmV\n",
      "mxpi7Kdq7eXr19DsMobAuNaNmHdjVXnYJ6sMPOABD3h4H8lEz3qmqpoZo/Zjxt9YYATMOPkeSi9S\n",
      "/0KtJu6v01DdUHWYYw/00uxMP2dYz9Xqtv1p+h16RamqkA7MfrHaV2bxNDY4Njs1aZcbBqra+jIz\n",
      "+Hk48xj847IbqQeqTpXXbwkIBAJF9JJMf1uo+vKlJsVOyUpPhj9OhDGNmVLNr7clUGvqmbNVyrT+\n",
      "O5wV+ph8YqoTle4IkGlp7lWvCjB8doeqvOopN74yH5v1NjkMtNWw/KWHadpdj2HPuEaqnsbKwz6B\n",
      "QCDQdSW3FX9TWySoVRo8v61eWaJvwVrXXwv0+HZL6M0zjrcd/W2tOQgEAgWp+jZI89I8TsNfxxeH\n",
      "P6Z/v82x4edp3oaHfu1cv5+syKrcuuH536elxDKO07rY0tny+rrVpf4y0HWLmyEEx2XvzGqE0z69\n",
      "WfsMG2ywweZub4mNn9OGSScHbhbzVgxb1VsHVoxeNWQD+2S3YnN7G1oh1unAwfmK1JuB+sZl74/1\n",
      "lXJyGgKBQCCfZq8KAoFAoN+hnVT958/0/s9/okkQCAS6garvIBAIBPp9gt8wAwKBQCAQCAQCgUAg\n",
      "EAgEAoFAIBAIBAL9GdUwgv/8AEEgECADqAoCgYwabCSSFP2J5gXGUwc+ZaRTJURHskgbiEqGUInO\n",
      "TuTQlr8BGcW5E5wUfwxaxRmdi1j394Rj++XIO8AGr9Tc1EPZOCrhkAI9vLoJekzcjNWWUqp/Elpm\n",
      "tPOCcTlefVGyQJcEeznIsYzcQKPqJO6uU5XQQb2XTXXfCdOBoH1gDFme5iHqqxg5RkdQtFxiydsA\n",
      "Ge8Lx5RyW13PU98AuzVVu5u66LGjHg4p0N+vomIsYsQWqmIHq4w1ZqsCdekIyxZXR4zp8UaqFrZL\n",
      "Co2xaCWmeigW9DKNG0Xa81WqUmmgInDn6eFVkHakdk946e1eo1+0fnLpmGRFeARPFIu+6QWmT74G\n",
      "7gvv+b6claayu5WqZeqoAqqCHl1PGn2Ylzuo6mB1NpLHPVTF/HgbVRv7eAxPPg8eq/hUVnnaSZle\n",
      "p+rz0BulHqwinhRkEEq8ZnUaJfOZ9cDQlxEUVDZ68FkjqQfqd4VL1rL1I01ZGaaq/A5Vu161u2xU\n",
      "PTugKujB9UpHMD5do+oRlegYQKKYZR113KYqplmAqhcfVcnc/GX4QW7duR8szzXQUBpg2pPO9Ane\n",
      "sIOiY5dtkwAq3EtVQocNJDwjqCQWpFR+VrpfTEi92pZEYJmHqNpq4iKKtDFvfVhukrKqY+HJ1rdX\n",
      "599tKzvrk5WWOMe3U9XesaZtW5uqmywDB6qC/n4RPUFl0m+11lRVTHXOB2GPfF61bJ+O7jEpLGQ6\n",
      "p6wyMYbllDcVDpSPbTNNOAvkMZriCUmkHWPpZ5qyeFpCyjppOGuk/S4MYa6oWAep2g04VXBtPDbW\n",
      "4BQ56d15BAXXO0X0F0YmuLMHJkx5J5pweHq33PDWjLINVcXrNtsRoKrUtFRq5DWq1mXdW1Q9TEM9\n",
      "m2/kM1AV9PdL+Rll5HI1PQ9T9RJyKorFlSVmU5UvlB2oSqNMplbt2arm+fQ34lBFO7Ck0vNziqlz\n",
      "bp/hrlOgrDbfGUu5no6T/2dZlcpJSXsH53AnqwBV1RBMoR/c3rnxvRPF8O3CX/1UPcs+QaTBjc4v\n",
      "yMO2AR1OaFow9ekEwmjKTrjhTrZ2ytND1XNZjJ9djKrjHOXoUrVja/Gu66iPqjWXQifGD0BV0N+v\n",
      "Z6zMXFJGqYrDVCVHS8T1qtP80tTnMarSgmJfx5ROjrbz5QgkCqwBGKiOeZGJlF6hqrKlDauTPkDV\n",
      "ojOG1EPV14mmqgHXq8p+omvmpypSDpeOXzgNdhZZ6HBCpRB5EgpHajtmtBAOVVlHxg8oD1N19SFu\n",
      "qcraPqe1XH2M3KFqdijlmHkGqoIeQOdGkaJQB85zlKqXAFXjGQDugDNU++J6VbFND7hrWpl5tQh5\n",
      "1VLjQOAqUQc+ilGViaaRkrYBqqpwb1xejKpJ6TmbVCZXqLrLq7atPk34Da+6pWrmUhVVO7xq7GxV\n",
      "Q1ueRqmaCyyxoFxKoCroYaShKstvedXreVWLnFuvetmC09c4Y6F1AsMp9iKUV20UqFGjjuO8YW2M\n",
      "qqXOrQpWBaiqw5LGMwBRham6K6+aFmpa/Z286g6vWrXTEocikgGoTFa9rOTNK6sOSaGRS9Un0MsK\n",
      "qAp6oNwqTpOrVL38Qa8ao2qJQlRNvfP+xZlh3BeVlMcjL9eLpiyq1iYhmCdMcp9XncJ9gKrZfVRd\n",
      "1gAkwZP89TnJSBZfA+Ctvcertv2ODICiqsFq5buqIu/7ZrWl9v+sw6tJ0/Q9Y6nAPQKqgh5Cev0P\n",
      "SaJUvUS86uWKV72sCm29qj67oU9wmCfHbgZgpurFB9DSIbV1uOsa+oJXknTVepW8RdXUrAJgaprv\n",
      "9apT2E/VM1Go4CR6PW2WE45FSg5eqq5WnApPK3eFYyf5p3CRFeWgb2UAlM+WkS/OHpfq/4DkQuiP\n",
      "WZVsgaqgh1CJY3YrngG4LD724i47vepVLUoRu/aMc1QGD2mN7TxowSmdeiVNQ8JetWGMRLyqCfup\n",
      "2kWuAJjEPIP3XVulnJwnM3tPeI9XrdPjsGqqza6crfJ/BK3EUaqqeRBtmU5bmxY6oCroUbzq83Wq\n",
      "Xu7Iq852lTtU7WZtqUrcDIDjqJtIQvjYP531AGgrUMar7ppXNdi80auORk2W8bd3uHTJT9X5Sv6s\n",
      "914ye0d4T1617fIxA1DFV1YhL1WrvjEXLY8Pl6rqE2h6lk6Otgeqgh5DpHmKUvVy7WzVJZJXvQSN\n",
      "jJmbryoS71UAqhAJXQVgjtXQFfCpRAZobaGg2NU8C3nVxtxCgAnl17jHqw5hP1WL/qpVnc6pWczb\n",
      "3LPqgA4q+tp57ej3w50okbXVLlWzc3IedOUqgGfv/4C06jhvGs5pqp6KvHYuqcfKqfNeaVz7lgNV\n",
      "QaB1BuDio+pl9xoA7FsUG7kPANkuvdowraTTNUOe+wsUZzpOOiXFHKVslQLwe1WpL7glt3lVBSKM\n",
      "r56uos43gv9ehIrR3Wu4mZvDnTuT+N61VeEcUFoJKbtOSsHUu42wsF17j1GjCggxXhNbwRoA0IPo\n",
      "qSyuUfWe9aqX1YrUW6j6o7Ghba+yPz4vGT3PbQKtJZTKbNG891N1EvOwcRUOrQHIpbmMIp5icW4E\n",
      "ELjDaxGwo98Mo9bReqid7PXp++f52V+7u4q7CoSkJE3zPE1JpZ4137wVemXVE5qkLDVQFfQYOgrc\n",
      "7vKqrlMZsmlrkW941ct37gT4bDXsJDan8HSShZbLrV1WVBXzxZbUR9UlzDk6IOq55WETXpS2Qvwm\n",
      "cV2H/WaUm3eFnb2L3FBqr1ctsmOWHY/qoX9mhdNFaV98VwJVQQ+hfWerDPtuu2exvms1t7b2Fq+a\n",
      "RO9aza2cLnFBZilldPFRCzLq6NisMOWc+27xmrEdbwTL9lFVgdF3Q9jfFN4odqP+euds5Q5wg0B/\n",
      "s6Jnq+74/Rp7tOs3rEjPb1ixV/Q4aCvOh7WSJ3L2M61IfphnCFT/Z+9cexNHsjDsgM0lLeF4wpqA\n",
      "VbYYtYDCpDqMNa2J6GjRfFs+jfj/P2br4mu5TCCQ3qV5n3Qg4JPCTpuHU6dsV7pYBNxdbKub53hx\n",
      "D2vxvMUfW8Ez9oARrTHC+w2AXw/MBnj9KwgAgDJgVQAArAqrAgAAAAAAAAAAAAAAAAAA/E8YAAAA\n",
      "uBz4WAEAAAAAAAAAAAAAAAAAAAA3DE7pBAD8irSDuE7Q/gmvDKsCAH5JqZJwUfsiUVWr7tgZux9p\n",
      "3uWkd/kPJmkRL1bX+CRW/AlXeD2Knu/3zrKqT6mPPQqAWycgi4kBUp6LJJs5+QNeDaMoGliDSDKx\n",
      "fHGxfZO0qMdCeeX/KGSnzkZwGVwSe14cuh+2ap8wMXlWH/sUALdNvBgkvMu/8Beq7x/6bX5L/dJl\n",
      "+3uBFyckiRvnjz7AvRcXVm1zq8bFbIHHzpv0c6SaThRSnhTqFKu67diLRqPIi9su9ioAbtqq7Sfq\n",
      "cas6mVWdSczN5xRWdQNGxNwnNmFBkzDGSWl+DVLp2Wu5mx2fadX251Q7B9mLDwxWJfVJRLQqxYh/\n",
      "8ohc3l3wPx4mGAHgxq2aeH5HzDms4Pc+CzqFVRd5nZM0zdPqRE0TWyeXtuqCxbpW3VH1VNzRR5LF\n",
      "JJurNTFY9b3Zu3sJ80g6ndSYeCzpYccC4HatOvG5Vcfj3rjAYcE4t6obxXZuxMgoLJ81CseuTV03\n",
      "7p9j1YVhBs+JLrzaZKxWb0BoEFAyaNCdPYqySbADo1VZXGqfxayykaIUXBqm8gOPhdizALhhqzp+\n",
      "rzqhe893+rlVx6ywWMI6hiZG0jiRnIE6aTPz/NQGtNGq9kjSPjRateCtU/tUq/ZIMcurcarZdmSc\n",
      "dblk1UTUTdNsNpq4tLKRHptUPm1cvg3YswC4Xas6dl/7svl3blWndKAT8Zx6CxOVqQauE3P5OM1W\n",
      "7Y0PWtVXSvcPWFVKtZYuT5TtWPZPt6ofp2mo8mrt4CeXZMtFyMho1Xjg2qFsIV7Y7iCuWtULKo3y\n",
      "ZBVWBeCmrWri6Fx1kXX/uVGJMGujUUIWtN1Gqx5RARDdfzq0rNNyVTtPVNWaxnquS8q/m1hGq0px\n",
      "dhLGeK4rpKlZ1WNFDiyKrLAqALdLpFt14Fet+k5dVSVwLD0oaRx7zUbhUozGZ1hVZqpDq8GqrFBn\n",
      "1aqjymL+kzZEPyjyVI+Zj1dVv5dwoTqpNHWrihxW/bkWsefBqgAgVy0IWLDolKz6zjEAYaErk1XD\n",
      "Uma4YPHgQAUgTfZ6TRUAmamaRssmmRIzd1at+pQ/n4ZVjyFwS6lsZJtLFFlA2O/n26tblX9kcF1n\n",
      "o16wKgA3bFWfxE4xXNUT3dtg3Dcer1rrPKsMkjVXAMpHVvkTP+g3WzU9x2thtqrblKm+WwFwg7JS\n",
      "RQFYT2XzDwYtFa9YVQ1UyRG5JGGaVVULjFJmWAwAuDWrJp7PbdpX3/1AlBD7fdO5VXHlzKNcamqo\n",
      "SI5WUX206p5L5snyk3veQDKyFoH7wQqAeaCqsGo5W9VGq8ZBufFAGzMjpV/Ujtl60rWpIKxm1XKJ\n",
      "obYYAHBrFYDEo8mgP0okE8oCnqqWrZpfB8BOjGIbsOLIKqodWUUYYxMuXsnCcpNwPGmwahQEcZNV\n",
      "XXmc6tCyPpCriiOdoqwEENXOJ6XNv1g7CyBNyj3KTBWArBCiLwYA3JxVufDadluZL2wPbErGvbjq\n",
      "pY7T4ToaUmO2eugsgE6nY/Nfl9j8cRRHZquK6kK/yaoHMlXL6pCk8kXqByq4/iQkJJz49TZoqazq\n",
      "Wu9UAPha3CfUC3jqXa8AsIbFAIDbsurA6fi+37N7vmRs27YTtfuxMdpNjLVNJ248mVMj5O5qyFVp\n",
      "kgRNVpXFhc/5A5C8/8/0aWdNZ6wmhiOwStI1LQYA3JpVuUdd+e2m9/aI2GarWq45W3XKV1c5dLbm\n",
      "hLImqx6sqzpk+El/gKf8kKzaeucrGBYbt6A08mJKJ4YKAG+JUBqLxThjFYCbtmrqUkn2c4NVrWFi\n",
      "1OrRuL3BYat+/9lXAkzTS1Y/aqzh6lgL/bLapZorY4yn8zFj2LMAQK7qpmp1q2cB1IsAbHyhLPGE\n",
      "XPUTccNYHBTlW+dYtVRZJhitAuCmCdqO8qlrZ/fy56DZQheSqjbDSvnQpZ/8N+jrU6sctqofagXY\n",
      "6nUQwyRkXow9C4BbpR2MDFcBcOhPmA4QswECAH5NrWKOVVgVAPArAKsCAAAAAAAAAAAAAAAAAADc\n",
      "MgMAAACXw+qmLOPvs9bHmX1fT3ddnZfNl7szrT/8bfPSBQCAayG16kMcTHz7DPl1niaRN9Ua32xW\n",
      "56/hdrX5C14FAFyVVVf3M+cS1YTAK6erL8OLreXmL/xPAXBVNHVUG3qfVxF+ZJ9aWHU1Cy5UpJ20\n",
      "5nnLXzYX/B9a3a2wmwJwPTR3VI29zysJP65PLaw6y6+u3HHOvIBp+3v2IsOX7m5e4Tyt/gv7KQBX\n",
      "k6gOT+p91sN3p4TvHk9s/bjwuWGo6KiGuFXvs0zVThiLziwFRMssheYr5a0LmHfmRx9qqwBcCe93\n",
      "VCu9z1r4lHlsenw4pSe1ftzKd9thiwAAIABJREFU7Naex4S6pif3qS3e/8+MuLjEZU1naaoqVL8u\n",
      "f5ycadXuEPsqAFfBsJIC7Zbv9D6HesY0lVfTXB8bvqR0eULr2WpN5wfDd0xdgJ6tT+5TW12WZ6eT\n",
      "S8y15DCZWcoEmk3n06n4FnfnWrW7wd4KwDV0/ytv1cdaJqn1PqvhO54cphcp3h0Rrl6A0sfjWq+a\n",
      "e3o4fL7enbztsiFrWoxUdYScy5do+vOPf14b5GlapJ6LptmqXbQCgBoAAFeSqmqJJD0cVgmXGaIX\n",
      "Jwmh2pGaw6ZO63L5uFwuj2q9hObt98JP2nhrnc9o5waB7Qb0XKtOeMKshtAaKgB7Ff3Q3T4/mFbL\n",
      "8LR8aoVkFYD/fzaaU2my66ovY2D1bb2WE7/d3xMSUDZ/N/zd1WgK3+nZ8ImtH3xda5ZP1URix7JG\n",
      "7Okoqzab1v/e7X7pHrDq774UpbtqsKoJGfmlJtu3bvfVcldc1H3jr4mAvWX/UDcAgAuwtezVM3/D\n",
      "a2+6zY+99VbtQwuplmdeXtZ7n3r/X6aqJAlJknjVbNUQ/m7ftjl8qlVuG8Ln63m20WLjttlW78XD\n",
      "rdCenz9UMbwhq5WdUdVmciImSl2TVb+1Wq0f/P4/f7RmD/xpuYg/aM1eLOvvlrxX4Xar2707ZNW9\n",
      "XI3u69vxVlWRd9qz4v+Qe3Prb/3u3tSUDPB5jLzBuwGAi1i1393+xrOU18qbTjy1f8s6quVclT4u\n",
      "1dc9peWEVfY+K+HrdICIBlEURFpptR5eHQlbVmurpvCKVquD+6XwuRj43+3EirDcva8P2+dVto3i\n",
      "T9B9XUk1rYqHMoY3ZLVSbfosTO8HBqt+kyf7/1t6lKOsqh788/p1VjzHY1vZebBzVjpadarlqtKq\n",
      "3MhcfPt++j/1LB9Khe7VZ4J8yk+tKlrlsfzfRiaeK2VKebtfFcrelgNgVQA+x6p7ma35XXUr+oPC\n",
      "ONUupRxKKiRI78sLv2g90Dl3WLAghLI4CGSBdXooXEhbWXVXftAcLsXdtFVZ+G7NxHTJTI0Heekh\n",
      "XtKnD9vUXav8Vmxx9lDF8EaUVR0asSxHTaK6Vb/OeCrK5bmSP3xLDfp1xhd/kyksD5291KwqP3Yy\n",
      "tFx1LyoAvFsuKgG8D9/9XaWu22d5L0T7+qa+81qBbHW/6Vc6+DxGfGrmT/ItLPLWrczK/fQGAHDR\n",
      "XFVkavltmsdpXcrdsjxatauY707rga5F5z8gsvPv1Y+u0sN3WU1BvYIQ+O5AeNrxbzr8NA3fcZ1O\n",
      "1/P1VL32Lj0TQGSj+7f95jmre2ytt1S2+UMVwxuRVu3HfP0jOzs0ql2z6t88TRUJ6w/5w59pBeCb\n",
      "fFYFihJAzaoNdVU1NrYSBlWd+1eRoK7+y9659qaNtGGYcgjQRgETFgjHtWgBB2IgbFCSTZTTh6pU\n",
      "SFWid///T3k9Mz4MZjzYYIiB+2qaAh3RBvDl2888Y7MsTR9ZqA3Y92NOMYCzKttRPFvWfH98LvAD\n",
      "SEwt0W/YGgAIy6rmQST1iPldbFViO+7OV22FVSfaZFLTLKt2ZVY9NzuqZuxJDX1/XWXVGasqzFwT\n",
      "Ydxwkk9Vw6zKeGGMadWkWQFImzH13dGK9TpYVk3RftcTa9bK8qtfq3pWAKR11TSbgyKWJO9Sljvq\n",
      "z9P0au4CSLsAn1VHhQdemkTFTJ4mhfcF7ZKv7DPbjwAAQsuqd3mhVQvSNfSXnFUHJP/ww2kFgMxu\n",
      "9Wnr/GSyuBDAPdw+6J+lBRUAwXBWuB3TP9wdCebw2Tg9Vg2rqvpswV/s6J78fLZqyI075/mN8EbH\n",
      "GE8U61wYuXGiK3rDbltV9FYiJ6oAdEaiCsATKQKQ22z4Scdq+pL2ANixk1j1amDuAMiMPm/VO9aA\n",
      "xUYWmZKfk2bZlBjzPWaVdKwH308f0twA1iRAvwEAwrOqeXzprgD869+qS/NJqjlbRXNqQ1+InsLp\n",
      "p3NOpOerZ6vY+gKV2Nvd4W8OV8ezcTdNv2Y6P4TNVrE0akVXuwBg3rVnq6a0k6pStRusYiR962Xr\n",
      "wD5OJ/8XZqumHX62qjNif2lVAMpTaw+xsApgLMmq6fd/r6yfnrYGWIf5z6Qf6tnMqoOC/L1+f7Bz\n",
      "OQBg63VV43j42ekoSt+x2Sp57xOfJ0WdVRwfysLUVgidVTOFYywcrpKJKjJXRb7zVrV/UpZQ39k0\n",
      "HT0Cdu5anVXOKgDnLKkGiUWr2p1VxkN//nN3Vhl/+TCMD5ZWAeiqw9gjq7Jv5NCfBlRTqWS2yvj9\n",
      "TKOqZVU/r+dzDEf6AGzbql7JhkSaW2lU5ax6y3130263NaXWbuf9DRcgGD5WvLVqDqdZlX6pi1k1\n",
      "HeDfjaktt1XLfUXXZNcFoEf+3metclas+qmrmoH1MW3VUBc6q8gBft7sbMWKVQAiYVWvNTV0FYAs\n",
      "Tl4uRVWv4W1TfR+rh58LV6wKhneVRVTB8PY4PR6r+rjrqqv6hjxRbKYseTFTLuU8hWqWAryhsfnW\n",
      "rADozi/peQCufFQ9cT0AAPaBW/HWTBYBcPIb3MqG5zWtpfQ1Lb96+Ex0dhXBcHaKAZ6uYPhYJdP/\n",
      "pBFg3F3jZ6dPFEsvh1UZZBlV/MeVPKqaewiPVQCinZ+PtidEVQD2A/HUsBFU3Y1PsuHpxbqqZLjg\n",
      "TIDC4aqbrmB4xTBq1+lXDQp9olg6PU2EeCHshOLsIboKF1UlWZWuBvC1DwAARJ/BXz5OFD1aNZy3\n",
      "qny44KzVo7X/M3/3aabV15Gq+USkBzQeolbj3B4izCusLPcWAwCiysZXWCFFgI+8z+Hns+DP7j18\n",
      "0CM9S+vMVHFXWEl3p62wkmpcDbCHCL4PAADsB95X1BsEuwBfpIZLFOW6GmA6rTrnA9zoolVKkD3E\n",
      "GvsAAMC+xNXjvnJ1ml7WoH3/bQOhnpSrraXzFqyjfH87EwAAiCgx64Y6Zk1Ta9KZjgWXeQ2ufL87\n",
      "EwAAiKhVvwIAAAiP2NcYAACAdcmlLrKEZDZJycCqAACwqVWT1KrUrLAqAABsnlWZUbPIqgAAEF4F\n",
      "AFkVAABCsWoSWRUAAJBVAQAgslY1fFpEVgUAgNCyarI4LaKzCgAAQrEqSapTpVVEBQAAAELJqoZU\n",
      "dW0yKSKrAgBAGFYt9rVmL1FNFGFVAAAIJasmiznjF7IqAACEYVW7rwpWBQCAMLIq+lUBACDMrJrF\n",
      "2ioAAEBWBQCAiGZV1FUBAAAVAAAAiKBVy72GRbPRK8OqAACwkVV7J7lcrljMZjKZk1SlB6sCAMBG\n",
      "Vm3kSPd/9iSVKlXOKg1YFQAANrNqkUg1myqVKmVYFQAANrcqkWqGSLVchVUBAABWBQCAqFk1Q616\n",
      "hgoAAAAgqwIA9kw7t3kv2uphWRVZFQCwbd7aElT1wKyKrAoA2DbnEi4PyKqoqwIAYFVkVQDAPlr1\n",
      "rSDmEK26y6z65bDL1QAAT6t6SLWQR1Zdn8MvVwNwRHzvxOPxB/POazw+WNOq96irbrKzOvTCCgDH\n",
      "ZNUfV/btm+vR9//dwao7z6qwKgCHZ9VhPP5Ebv+6HsGqO6+rHn65GoAjqwD8uDJ8evPz7vXJ0OsA\n",
      "ViVnrbo4SaUqu7PqoZerATi+rGrItTOCVZlVc0pL07RGr/T5Vr2HVQHYT6u+/rkjRVWfFYBT1++D\n",
      "s2qrmUgkqmVYFQCwtlWfYq+d0bqzVaeoAMCqAIAFq95cx8fXA3RWoQIAANgOL8dt1c+pABxyYQWA\n",
      "o2cu2/zNrX5RAKgAhJ5VT2FVAA6HujisJlEBiFIF4OUFn1QA9saqXFjNlqq9htbqK9N4/EisOulV\n",
      "q9WzStStOp/jkxpVvoQGXksPBIvtf13nr8l6pohatV6tNidaSycq5cAqgO1Z9VRUWZW9rC/1+ueH\n",
      "1Ux+NbAqrLoNqy4vtv/+Y/hkqHUQVav+jovAOasilFXn9fqnh1Xv8xfmz2PnbXrjKMvCsOqurMov\n",
      "th/S6Dp8iKpV605InSr9ltboVUtZY/PPi7f+W7pg/QDeqk86D4Dcqore77dq2qTR7JHWhFQmx6Lq\n",
      "TsKqrHr7SLV5mS/aLn0r3DLuY7HiPT07LKwKq26rAuBabD8ckdz68+5T/j98qXSJ33VGvzZp9M5K\n",
      "ycXNX3Zypcc2supWrCp4lzod9j7VONlmc9v4z0mqt2/EmgXjxr1F29brX2/mKbdhVVh1m1mVW2xP\n",
      "fXojXx4aMhcVYamU31Kneqs2MaUqjEFSq+b/wTmrwrTqqcyq8Sl7l6but3CqGMnWCLZUtmTK7SS5\n",
      "WVT1DMRWQH385iTV5esYwKqw6jatyi+2J2793tm6VHOpcqI5qfX1acdLpVNFb2mTZrVyYVfrGOKI\n",
      "cn/ZFaJ2Dam+IauGnFVJuVpaqPkd9wORra6zKkKjmSCyvfApW8/q7b13SbV9yUsVVoVVt2hVbrH9\n",
      "cBBbseR+fZKls17DUKkiU6ldKl2OJrKwWvDelA5Cqp+VVWXlaqlV6xOtVmv1dcV4tzvxgFDZCkq2\n",
      "7s/Di2dJleMt/9FuG1/Gb0MqbUeqR2xV45D0y5C80g+/SMeP8yB59M8duUdagr44N4zEZQ94glVX\n",
      "W5VbbE/nq+Jcu9V2S6XmJqSISqXL0UQSVqVSVQ0LPD6+FZBVg1tVVq6WW3XhXcplUqVyNdFrNgzZ\n",
      "tohsp9Pgru2YVQQiW/ZJWC7Zmsf6/1y6zEoej317sz4Sx23Vm2tmThKjngxhDuwHiTzNISRkOTfI\n",
      "5AsZQA9pB7CqRSZws97aE7l+S6XNRDnlbyaDi6qiiCLZ+rmt5+1ArBqN61bl5Vb10wZQvEhVzmzZ\n",
      "9nX/suWqtwslWzb3/5GLJS9Num3Bfva4rfrr538/qVWHLI0OH+wHmUmJcGlB0LkxfGAD6NjDyKrC\n",
      "bv1RsKn62+At0IG6DtcolQZgzlt1HsyqTsUNWTUosnL1Cquu37OavChVfAxbrt72rXmqL9+kBy8i\n",
      "qx7JMlvuYJ8I07nD/nw1tl56gP/6ZErXvDEcmXWDWudQKgDCbn2ayH0/xVIHn5+P7coP2kal0lC5\n",
      "9dj6uW0nv88fgU/JqvLKygqrbr1ndanV4MPHeipOqos/wJEss+WtynLnjX3QTx5MXS3I1LpB/45a\n",
      "9Yc54GCsutitTxO532dY7uDz87Gdb7VUuhurWi/A/X5/BD4lq0qkeq6utOq2NcX+Dadkmw8oVdVV\n",
      "YjqKsMoJ1AysHVOqdmalsnVVAIhbmVUHlo0PogIg6Nb3XQEQdPCFEtw2KpWGx4oNSd37oBrBuqop\n",
      "JUFtame4AnHh3A+cVLVGtZTjSkxHEVY5gdICgF1INSsAVkR1zVaxx/gBB5NVl7r1fVr1flunltio\n",
      "VLorqZ6rbMh+L7CKWg+AmfQEtandWnW+tlXNLGAcVTUSlV0ts42SVWn+ZB0/TnY17j8wfZKGKusG\n",
      "i63OgAOyqrtb369VH5dN89EOxTHZKLw496uiqsqG7PeUL7Nq5qJUMbLq7marVpWrBbWp3VrVUWFA\n",
      "q4qWQ/fKmeOwKlYBxDy69f1aVdTBZ63gc3fwOaXS3/U9eW2+rZYqi6r7blUq1RMi1ShY1bs2tWOr\n",
      "ztezaqna1Fr6dLlRa6rXJr2zE1j1SKzq6tb3Z9VioA4+vh9wT16bFVLtqmaaVf/Zb6v2TgyrZjKp\n",
      "UokUAZo7sKqfcvVybSrMj32g0/9KrepP0nyj1lRvTZrVnc8RwKp+PgSjHZwASlIPug3WwWd3ldb3\n",
      "xqqrsokxpE3Y857v3Fmv4dCsbt+qPsrVotpU6GGCsfr0vyFYta53BJ2BLa3JTWvBqju26uZdpesx\n",
      "D1JSlTabWF2lL/tj1YIce8iebw251EWWkMwmKVu3qo9ytbA2Ff4G5fP0v2FYdR7LVhKNWl9ZtmtH\n",
      "6WuNROX/7F0JT+NIFnYOEFm2k0mgk5BzEel0DibuENpKM0GIIPUKIXZaWrW0//+XbL2q8l1ll484\n",
      "ZVNPGpqxgSR2+avvfe86VKrg+dbxrD5uzxOzOU5CRl5RNUFWaVyBiU1Wa+3YGXzvFFXZN0zPNoNG\n",
      "mYmqVYyqGFkPjarnQqDq16bSdv7E2/+mgar2k1RtV4ZzDrr2h7NOioHa1gv7Ej9+SsDmnjlbXC4V\n",
      "gCRZpfFR1UFWG6ekcBTiTkbUDD5LUhiYqMq6YT+fjtbW+oOjKkXUWgZcVUCuzoqmCLb/TQVVfW5f\n",
      "wx3WcqVnQ1hLNKOQVxDLHgWzWK/JNy3xy+Rmczw55hioGolMiy6Cw6Pq4BkqR6GdiWtvjYqqmpOq\n",
      "DoJ8MIWqR1QAMuGqAnJ1Rqgq2v43FVTl56ye1EcbFrqSsFY9LKzFLoh9ZArW6/V/7W3tQQi0fGwu\n",
      "KHRYcvxnf/EfPag0+iyoFyXLKk2Equwewc1oqNoQpt+6hAoAvFX0vEG/yFv7wBBvM4dvw50JqlYz\n",
      "5KoCcnVWqCrY/jcdVA0tsLqqzzZ9VgshhK78sBazIBbx1HtecoXDWfgkBlpuNpd1mltiMs0TlhNl\n",
      "lSZDVUeXCVo4CnGnaBl8JXH6Lc8Nc7/VPdoBd6aHSA78Ke1kwwRcNYtolTRPo2j731BUTTdHp9aZ\n",
      "BYW1PB0wWAWxCEXWyNVfXy9cqY7rhZVjbmJMDDaXdUlGEjLNFZa5iyAlVK2Sjib+PZLOyHuDdKjh\n",
      "zO2IRELVzxHot4xDWOGtTr78DW/4P/+0DxQLVauZKQD5vVBLaAloPwYd5LMFOKKJc3Sq3aCwVqVb\n",
      "o1TVR1Yf/7hf428+32BspVLq+tEvaj9Ep/RZlw8nINN8YVlEr47+dq7syBOny944cOxIBFTtXwnf\n",
      "MJmcCy9X/fnkOVBArpqJApDb67RCz8XYwS266DEJcERTy9EhYa0mO6zFEheoq3tpPqxaC8sBL9tP\n",
      "EZt2sNncXp5EnRAyzReWBf72u/DtYUWenHsgoaXYxwickRcBVdFrLeuiN0xPcQJLyrrq/skrtBYI\n",
      "VatH4KoBcrWMl6nWRG+s7zzStlE1kxydxknPF9aiBbFLHNYydUSnq9sCT7G0cCGLCKrmox9MCJnm\n",
      "C8si6mfgJTiDoSQBnfRJx9JK59SlhgfPyBNH1SaJbg2rebth3lvn4COmw6e4anIXIA9yNZ5rhxfy\n",
      "LSWkmAdgVH3lOqKZ5bPYBbEkrNV1aakPjqKLmzWyi/V6cR+Kqu85ejS5ZJovLItc1nfGo9KpDOd8\n",
      "F98ReeJc1eAZeaKoumiMCK5O++183TDvrXvFj//OKaMVUFfNGFXzIVfrT9ozrOF/vFI/8xbTob8A\n",
      "VXWuI5olqromFxiMwdrXBEhxhsUlaItmKItHVaUvgBTiZlxhWeiy0pfgRp48Ln54Z4eQGXmiqIoj\n",
      "pJ0xefVVJeYNK6VssVAVdkQqTxSWq2arAORIrm4Dal3DHdfNfRVBpyRSBX5GHWEt494foUHoQmLf\n",
      "VmFV6wakgAWXVMm+bCNwM4awLHZZgyNPS+ikH6n9c8iMPEFUXaRzAY+MqgW3rPNV3bpqLuTqDgCW\n",
      "Dki6wzPraFhVJlQF5tNo9xCnajYXN/4aYE+dMMSySghUr9snp1dn1WrDR6pkp6oib5AvLItdVoPl\n",
      "4uNReQdp2iCGqimBqkLVwnJV6eVqXA7aA1Dtofc4Xe10INO38qGqg/lsFxcOtorc36+8OWFf7Q6d\n",
      "c03blKfTqQHWFGuB1AGiVjthoHIGVFUQVUWE5VobIk9OF9/MKrVp6Xx4hAFPngcVgfwqvT+nULWo\n",
      "uqr0cjWUg1aApHTIW7uFxD+zfEcmVHWO2UKoarPV80cEHIsLVubmVweqbjRt7sosEHhhjMVzB5ND\n",
      "hv7O0GgiWyFbLpfj8Qxdwf58Pt9sNrjV5GjU1rR2r9erdzrddhvIci0yXImRaRFhmeXiG6aXDhOe\n",
      "5Bni0EFvbahQVXHVUFSVW66GctAZ4EUb5+9MftPEKZK8IxWqvru46s2NOZVjizVUf/xqscCjFwwD\n",
      "sNCDqpSqvc/dYOP6GeEjc/HfmlpkuTnStBGF5XG/D6jc07Q6QeXZrDKIhqoBwjIr8hQUqD+mwTU6\n",
      "UaiqdNV8G4QX6PO203Qzs2pHk3eyQtWIBbEtiqqPD9sHdsXm/cUFBVVnL5tGtXZ1ChMheiao9GYI\n",
      "wxCSIZq5Ibg2G48R0gEPBT5qIOzbEFROhrxRjxjRUDVIWHZEnjpX1l4aVAJ1MHslwyh0TwaffQ40\n",
      "AGM3oZdboariqnm0Z5K01LziecAZoWq0gtitjaqt84bWaCFwBSPs9ebm/h6jKsLV6zTbLjYuAZWr\n",
      "mnbV7XTqyMOvVGaAyl3EMSksI9KJqOeyomlDCstgCJWHEVHVJNPsnzGiCMuMyFNwVunhjAyj2GN1\n",
      "yZHB98M+BxrAOiV3zjETF3C8hHHbffDJ/FpynMUjckt0IBEc0GNPxnUVAnHbcChdtXhUdfDW5OV0\n",
      "T8sBTDJFISNiQWzLg6qX561W6+Hh4fHxBUD1BkCVxVWPvhAvTbLc7cDQxDaFZUKW53XQZzEqL+1q\n",
      "+o1hShgeVBUWljl76VHIqmbm7rkz+OxzWp9oANbaSrD4CH6irblEcFx/QlB5ax0ksE6+AnSaZwnQ\n",
      "l2AgETkymcZHVU8hkDT9JRRXPTBVDXiwKKoymSRa7+mharSC2C0LVbcIVV9e/rBgdUFhNb+7nY9K\n",
      "NnAqQq3d/lcUYTngrx9BWYU77Mvgs89p+hTnAdioGn/xYQYKWzMmm4Rw4q/2wRLB1m/Ux8eH6BHr\n",
      "51/vVolQ1VkIpBdnEIzSVYMe3phMUoPFljJXFS2IZXHVbQ64atTdjrvjbWMKy8e376QZiieDzz43\n",
      "+fKC8wC8qBpn8dnOPsFx0/On/2JYByY6NUGVnN2DLHBb0r+ZP7fTE3JVqxDIuUUorlpMK1nTgOIw\n",
      "SdOHSw9VhQtiuVz18eWQuuoRqCqHSraOIyyn4ZRQb9+dwUcwExfIkESFE5cCEHPxuSTUKRDO7yYr\n",
      "xWj55U+EnntTAbDOElTFvwZH0Esn1VWtQiB9pxUMVY+jq7r7Vu2lmgVZGwyicFU3k8SLLWVUFW1a\n",
      "z9VVXwhXvck7Vw2zbU6FZSIr+jP4NKfkiDUAL1flLb5xRwhVS5h+TlysFB2gPHSPY1LmWXNbp0dI\n",
      "jCkBV7UpaqGGax2Tq7rkapnaIWva6SoSqnqYZKoBzahN60O56kXOddUQa+VUWNY5GXyOc5AMgL75\n",
      "305s8ZXLzVEjXAF4KqEHD2JQJddBwlWpnGqeNbd1+0gyBcAuBCqSAHBUXdUlV8s0ukM7Md6ioaqX\n",
      "SR7Rn2mF6aq2rHhp/9Yej2H7jv1J+v/OkaXis0ul5KoFEpb7oAGILT6sF8xPwhWA8i1lncS1pwd3\n",
      "NLMK/b99lm7rNktNiqpmIZCjJYjiqsm5KpWrZZoE0Z7SqsXYTPKYKtFnH6i0XVTtgsqKXx2gShf1\n",
      "xERV78hS8dml8nLVYgjLzn4AIYtvSRLOlj0uqoJdWl98dun5139GVQFIqqvupUPVztRMNM/pTfVR\n",
      "tS2Dq7rnw+K78HpX/vL37zvGyFL/7NJ8oWqBhOU6AsqRWIPZ0w1J5TWGVT6qqtqq4nFVW3KX5qmF\n",
      "JlXTugv7/anWutT+cOmFHayxueq1J5IBCgAmqhPkTPpHlrpml0puRReWQQM4FcykbcxWhLD2uwpV\n",
      "s0XVY+qqllwtTbTK0aTKKf9omtMx/vmkff+31Df2nEPVMFdFXuS04ueqVAGgyVuOkaWu2aXSk9VY\n",
      "wnJ+7BLdvaW4G9XtE8LanDUUqn4YrmrJ1XKwvxF4TG3/u/SkWmuyoyq+uQyqhsdV456xwwBU9Yws\n",
      "dc0uzdi4cTSSBsGIo8USlvOlAbxFEaeqQ9LvcDo/VaiaIaqqPgCmDQFUXWFTTsWoXs5zgV3X8MyM\n",
      "9aCqZ2Spa3Zp1qjKiaPRBjPMOFoMYVkS25fdWwT6eKavZLp25fIvI6rk3/NGrhSqFpWrSmgbcJWu\n",
      "WIzaWzGqkVGAebUrGNO5qrqe5vLt9ztIdAMe6BpZ6p5degxUZcTRaIMZdhytfRMmLN9LeVvwhjH9\n",
      "xlh/5je4fdU6eiD1ZO6KXClUPTSqqj4ApkFToGaVpVP4KkZzjqpaA9hLE1i55LPkeXE0WgjBjqOt\n",
      "EC0LEJbvt5J+WDt0S+ATrbg7+PTT8q8fE7yr4JW3jpOe0ph5Bl77obDEPqzxfl6Z4qqh1wLGAa8u\n",
      "mQvdk2qdn9gN36A76VKTfpY8L45GUJUTRzsxyuDrcoVlaU0v/yJiMXIb8FYCzgO0VtGfyK4CIsg0\n",
      "bketrjnwetbQlB0aVZWuarK3ZYNNH7yp1noeeuza7eWtfizOQtdR2ajFmSV/VFT1NJhhxdGgE3W7\n",
      "l9dliOVifbff6d/0Hak9tFIQ8ef8fvcWv/2rFbnanCrwU1z14FZdeQI4QZYPZ4i0kCe9h8nT6h4h\n",
      "0EOu4OkgX6jqaTDDiKN1pqt8MzEMpvrt/ivu/udF1cn0LVn7VytyVVfwd0BUVboqsrMmmV0X1Z6l\n",
      "f0TJ04iDO/4RAtWV9KjKi6MBqjLiaJ0pETZyaXu06cEW+Hr3+8dkbfbJAAVgTz//5PdfiWcVeCJX\n",
      "yhRXPYydGmRER2STXJUEPge9h1kKANj8Lbd1uewdru6ujMsdTzWbU+Fe0iRxzIxWme1Wy+V10lkF\n",
      "jZEncqUsfVT98Lpq28DV1TFsIDVZJSwHKwBsVH0eFAhV32m5sVUZFyIs53PrSGmwVkdFrhRXPah1\n",
      "wSOaxfrVgcxklbSQp33WmKDyfpQBTQeywXMP+Jdd8h4mLOdy60htsFZtQyJXxuZKAWHqqPrhdVXw\n",
      "Gsu94n0u2l4ekh93bFS1iM+oCJ93MHCDKkHWYGE5v1Y1kgvIFdp8ZawiV4qrpmuY4BRxWdnt5XkO\n",
      "sEV83oZxXkCyYpzBwChPPUJhmLCcY6vEdrAcZkaumqNLTVmqqPqhddUZg+AI2BDt8Hn/6A6NzujH\n",
      "kNekQ9U3wwuqYcJynm2MFu5ZcghQkSvFVdM2X5Mq8d/LPao6NLo3Z1eA3KLqwONyhAvLH10DwGZF\n",
      "rioKEdNC1Q+tq+ImVXHPm9aQAAAgAElEQVTqTGY5Tov0U1Vwno2THKMqM+wWLiwrDYDYmRW5OtOU\n",
      "Ka6azKAYvhlrIRUAVV3h5LdyObK2LA+qPjNzjcKFZaUB2BBtRq46ChZTQdUPq6v23f3wIvKEVbGU\n",
      "kOisRx5UfU8l1yh3VpumqUO1zbEBI5XCqrhq7A8/ZvZT+ZioqoH/349WXiYNqv6fvXPhTRvZ4rgx\n",
      "IUq2XQhJNiE8glBSF5oUCBSUVkQIIu2qirhb6ar3+3+UO3PGLxw/xsaP8cz5a5t1HAdiY/98/J8z\n",
      "58xTSYxX2gMAXVojV6OahjqIqqr6qg36yNNPeltuC0tV6F+431594Wq+BQ/G/lUMe7oeKxWA4pF1\n",
      "QIGcULpQYe9eYQ10HYrCNCfY+jF9qs7fUkqML6cHcJrmC9Zx5Apj1eSKVaTK5+wjT0qCUpUgdLFf\n",
      "Hd/d0pCOhwe4i82YhghQdU2/0vnqK/INTFevsALflS35Z2myJmB9ZPWl0qbqfJnSLE7lPQDQjT1y\n",
      "daqhklNVRV81aZGqclAV6uXTkRoIIs9oQfkt9DP8DVM2A6gKJWZjpAK4qfo3IHQCOK1M6DTRyr2L\n",
      "qkBWc5pTylQd6W+pzeIspweQdlhpN7zGkSuMVeMIilT1DniBa9FjVRIU2k1hzGZ6BHYwyyi4leHI\n",
      "07ebzwGgrz5ZMXQGxKpEULefEjddqo6SjziiBxAoHLk6kKoq+qrJi1RZapGoTlCqGpBPxDqP2FSF\n",
      "OqUrywoIbA9DJ0Vwj3+4Y1VKVWrYsnd/56tWKGorGVAV0jga7w9AhLH8S5oEqww8AJDT8BpHrjBW\n",
      "5UKicfDY6ZW4VDXrHFtUZZGjXVOfcSWwPwytpcdbadbHATDf0Hn6n8AoFdmCMjZ9B8AHqpHG8ruW\n",
      "rOXWMAMPgKnubXiNikFV1XzVNIpU1USmKp1VZDoAZAGG6MlXVhUvqpUhhPF8qRHvRqsWM2ao/v7u\n",
      "9VTZIFXqo1W+uXFRxvLu93epTueHTDwAkD1y1cORK4xVQ1VNo0jVMXkNcalKi8mzBKqJ/ot17GRQ\n",
      "gZ+FtzI84U4FsHxVHVhKZzI9siB1QvuB7I9UgQGRdmZVP7CBY5ixvF0aHoOg3DoxMqxJYY1cGf2W\n",
      "huKnqmq+asIiVd5TWViqHn5SUFgtOYKTkCz/yxxmAcDf6RNVRxrLta+l7zuekwfAnl6skStsG4Cx\n",
      "aoB6CYtUeXQkL1VhXJ0n+Cl4bhUd/e/7B+sHGMsl9QCWWaZB4MhVAqqq5KvOkxap8h458jryHqVb\n",
      "OgIU2XijYKqeLP1ncRxoLKMH4Kd2nJEr82mBaavrj5pSUi5WhSJVqTjvUlOV6joyFaBIqjZO6ViK\n",
      "FkTVQ4zlknoAWQ/UH/M3vHanXLA7m3JUVclX7aeXMi47VWtGZCpAgVS9HDdxVDpHD4DRYmi1DWhx\n",
      "UXVi3sckS2XDWHV/bx8OKFLlQ1WpzftTSAU4FZOqtIhDE8dOHN0YhxS14Ferw9PwmjoAkHUB8+lk\n",
      "81s4qaqIr3p5UJEqr8iJI/c8SZYKUBORqkcHFnGQUMO8+gQ7I1fHUbEqgasxVZaqasSqEHyldz8n\n",
      "VJW9G8Xo0MTeivWfVkn9k5xrqNw9AKbIkStG1e0vJ2FYOaoq4qvepHwpEqoey356xKoKkO/tsaeh\n",
      "9nSckwcAqoWPXJlUXWtbY6roaJUasWptmfKlSF5P/uS9uiFeVHiDUA28BeY3YT+04TWj6mKmP80e\n",
      "lc2sUsBXPbxIlQ9VFWigHqMqQF5QXSJUC/cAQHbDa/fI1QY/B2Vi1Wsj9Ul95OJWYWY0RypAvg+6\n",
      "qd8e0QNIfnL0rLYB9oyRHX4OqviqtLydkfLTEaGNEpXSWc9EUf6aGkJVFA+AyW54zUY1N138GBSJ\n",
      "VauxKtzzU7Wuxkky1w1RHGSA6hCv2wCNc/YA2Gdijlw16cjVDqmqiK86TKeeirJU1W7Jjh5VRfko\n",
      "sfmnQB4Ao4g9clXvIlXViFV78VrcxYgLFCqR3hiLkQpwi1CN8gAKudebI1dvSFVNCV+VFqlq3qT/\n",
      "umOloqa5AKkALTryf4wXbZQHcFnIO5/MlzptIR68xVmQ7gYYq5ZLndSKVClN1dNx4akALQMTqkT1\n",
      "AECVqtU9/F24/HoXosFASqpK7Kv2M+tr/KDWsAmrClBghi5NjjNONJSgHoBGEwBMLb0Nry9C9EVS\n",
      "qkobq6ZapEptqjITwChsgI7O8jLqGorHAyjIqtlZVH3zzrlSj6ry+qpHYz27Gul95fImhwVWBQCo\n",
      "XmuoSNUK8wDsUJUEqzDnquqi6uu5vzBWLZlOM60X11dv3mRxVQHaqXRwRA8gn1DVwqq+nJ9aVA2A\n",
      "6vmZtFSV01eFCePZMaCj4Gz0WkFVARCqJfAAXKFqt7ux51xdh1P1B8aqpSNAhtxTkaoFpQLA3Lgr\n",
      "DcXvARRQ0tsdqnZ3robXtw0FqSqnr3plZGwCdpQsnAypADlnlA0Lzj4onXq6GPP+jnrmnKsRxqpS\n",
      "KIMiVR6NFC1HP897t4fZzI1DDyAP1VnbABWpKp+v2s4+D2ekauckapT18ksFqCJU43sAArX1upkv\n",
      "Lap+9PzDWLVUyqRI1buYTd1+dMMc4/Sjpr7EaaoJPABh8tAaw7F/rPoRfdUS6TYPI25e3NTAwtXM\n",
      "LRWAvMlR/0ZDldYDAKGvKsWNOvtnxp7CVIVUgGYOqQA9DFPL7wEoSlW5fNWsilSVgKqV1BR13uRT\n",
      "FYB8lEsMVMvvATCqmnbqvrOKsWopBEWqjrIkDtNtdpNhxadqPlUB5jlFxLK6NOJ4AJivWu4dgiJV\n",
      "l5kSB6lKlX1VgFHA/RHFoyuRPAD0VUu9P8FFqtKm6lCgHnlFUJWlBGeYCjDKrIgjegBI1eypKo2v\n",
      "CkWqOlkTB6nKlG1VgE7QQweK3wNoCuIBqJdZJU+sehJWpCptqlbJRa82Vc1UgGzCSYBqQ0NJ4QGo\n",
      "V7NKGl/1OLRIVdpUbSNVwcWOQN+WjmpNF5++3n/6an7/qGk/Z1Nt8c93WGBrPOpnV25cLQ9AjEpf\n",
      "Fxdn/lB9hvqqkh13mWLVKwrV2xyIY1O1KSZVCa4qEzqWtPo50/W1s5KuZd9SkrkWCNs8G/C+45z2\n",
      "n28EwBQW1vTrvUXVxWx6//s7/X4x+/Wd/mDD1vBDNe9bB3oAaVA1rBfAy52MVJXCV21FFKnah8tj\n",
      "xZ84k/2VLu6cWdtPVrC+LipVKa7o/wmrJmvyhz/aKwnL2LeMbc6CCTlnA37gNKi/+v5exmBqLZBj\n",
      "/enf3zN9rcE7TLXJ6uc//6Ox6mRlrvGGwMGGLVI1lgcwF56qZ9/QVxVU0IKjykWcLVzHvsRxsGKx\n",
      "yeaOtf29wah6LShVAVdAfxaNwk2ArTTvBxW2s1NnwYScs0Ec4Bwtfew7h6rkwoZA9d6YkhsVXT95\n",
      "1CYEo+AATKbmGreuQxvjIFX5NRfGA/jx5bOvBp8JVF/RVxVS7cik9MoeXBg/3hHHxo3NJps75vY/\n",
      "Z2OGnpauL8V1AOAPd4fcYAt0DBZub9cmdM2FydSzQRzgQCqA93EdYOp1AKiJCgwFoNIvDmf3VA1L\n",
      "BUaqltADOD8LlHRQlSZWHUa34HCIA7Hqyp8494Yx3XMAXNxh263MgO5KcKqyP3Mxc+3OhIDWDVNr\n",
      "AX5hb4NYwIF8tuZJiAPgUNVhK1B1a3sCzilJ7YSWhlSVyQMIgerFYHB+/vzy8nqOvqpY4ilStWeh\n",
      "GjTg9CHO1nYA9qnKuEO2JwwoB1XNgNW6R7B9fDRh63EA6D7ubxAPOI3Ou+MfRFVmqEBsSqlKFhb7\n",
      "o1WNcVQ2EFK1fB5AiK3qyqt6lYqqZY9VoUjVMT9xmOnoRxyKlO3avaXDHdieja3TH9TEpioYAGxI\n",
      "ygnSrRDVM1rF1rk3qCS4do12kK+qPy5mn/5lMSkd/GOxKXlDWNjLrIK4t41UTe8KF8IDCKWq472i\n",
      "ryqORu8fQMMdgDXFjS9xtjRiXbmpanPH3t78+Y2ZOiQoVeHewO4BTuw6oXcE2Fua2GAtsLDV2SAJ\n",
      "cGidcHdaG8A05mtsoES1zherBqaPOfe91NLH0AM4XM8Bg1UuqJ6hryqOOnzzxb2ZVb7EYVecvdLN\n",
      "HftqNal6KixVbV3mGMZBVYCRCcdk2jGoznl2Mjh9rGKF6Cmmj5XeAyi+l2IgVa2n/x/yHPHy+6oN\n",
      "3lk4ac8COIofjOVN1Vwfju1UgF3Sv77b4oFqVPqYvTLV9DH0AA7QWbgGUgWqMsSqjTFvhY+0qdpA\n",
      "qu4LLNEHbdNNTNUueYFenIcOv/Qxe2Wq6WNlVqtgDyACqhcDtok8E6zK7quGFanKmKoaUtV7MnVo\n",
      "6bndAVRdckA1Kn3MtmjSTR9DDyCpfkSFqgO2iTwTrEoeq540+cvyZEFV0cp/FD083huSUPUAqr7d\n",
      "cu9kYPqYHbimnD5Wdg+gqDf/EA1VFqrKRtWy+qpg5fVyJ45DVdFqKguQdLQ7hKrdDfdOBqaPWQZA\n",
      "+ulj6AFk8Pz/eWBGs4NvGKuKoIgiVVlT1dB10XoqFU9VEqomoiqBMdWOeyeD08fsoDT19DH0ABLo\n",
      "Ilw0Qr2jkqjCSpl91agiVTlQVcT+nxXz394KnzWedSkpBh29MAZt8vwg1aFqgR7AebisTf6S6WiX\n",
      "N1alRaoiZuEEEqcSAqHALb0ikXJNQ/nTMeYkyZ31exw4Rqom9AB6eH7mSdUy+qrVHDonh2spQnK1\n",
      "YLLp+Bbn0FyNu13+YBWpmkQjHU9XjFUjxFGkCqlaXKja7S75HyNaxpvze9HBKlK1ZB6AklQto6/a\n",
      "4yhSlQNVW3gG+YeqJFjlHke8NpbdboxgFamaSNcFewD3tKz8lLaFMIvpwIoe9fHoeoxVC9ecp0hV\n",
      "1mqK025dvFCVZvTzJRLXDf3N/XuRwSpStZQeAO1btv20ma1o7UdnxVdtspLTASibrwpFqgrPaiJU\n",
      "rWso/1CVBqtc5RmgM06suxNSNeG1viy0KzCF6D2tB6lp//norJCXquWKVRucRapyoGpbQwUI5hJH\n",
      "mwDtZP74XopGJXgNShgPgIWmf689K2Slasl81caDIK3ix0jVUHU4CjS0ix90VMwDKCwZkPmq27Vn\n",
      "hYaxqgh/MXeRqhyoWsUrNURV8ikNQ288kB6HiRRKeAA0NLW+arSMsbmIvmrxOm1yF6nKWg9xZnYp\n",
      "qnqoC1AVIJMDPYBcqfoTRqtWzgqMVYvXTVOMfhFIVT65aop9eH5xamq8PH9gOcdLnJ6WswdgFHTE\n",
      "TYguZrq+0uSnaol81VhFqrJWP0ZpF1V1TLH6cP7qX6/ojyZCVSEPQJ2jXKpYNV6RKqSqADoaP/gC\n",
      "9cvTE1s4x2OUp+pYDyAvqpbEV4WGc+IMEPXx/IzWi29Ljaen/zqFN3/gUVLDA8BYVUC1DU/P+YLV\n",
      "QapG6fns7FtQ+zdXOeM/8UihByAZVcX3VTd0bjhk4Yg0RbQjzLiZwIHqE3nUfxp8uXND9emLpu07\n",
      "rS94rHL1ANC5wlhV2+3MAWOhsnBGSNUoqH57goWbO2CraaU+vbxvu4EuQK7RAHoAOVBVcF910+1u\n",
      "euJl4SBVI2TmUF2a355r52AHvD7/+X/2zoWlkWQNw22pw4gy5uJxZjQqTTTReInGGGIwiAZWRNwV\n",
      "DrOc//9LTld1bp1LX5JOuqrzvKyz0vTC8G3lyVtvVX01HgpQraVpL7kMwNu3Sh4FwKsmZlUL6qb4\n",
      "rGb3mdyHvt51NTV8uWZb3aCxW/EsWUHVVcsAPH2r1NW3V2mlqu656ovbVy6r29V7UDU8VTN3raFr\n",
      "4Yt3jvJ3d5U6VE0qA0ikj6anb1X6dv+b5FVVf7mPG91uiZadsw/5hE5XbnyeX7RdkKpNqnty02pv\n",
      "KYtyrUIG4OlbVT0spToB0DpXfQl9+SZU1UrN+vjW/2Llzl3zd37c/VS5oowCKpRrFTIAT9+qquwC\n",
      "mNoEQHOv+jnjDfPLoOoJH1Afr+rdT5XJ2PZILOCuZa05ULUp1ypkAN6+VVdp7AHQo6reueqvgq5U\n",
      "PYaq/l61kh9yq/bdXXliKuCobEPV5WojmQzA07dKWla8aiLaLOhM1Us+n35eNV8fuNXtdsayKvlJ\n",
      "LQHK5TJUXbIOEskAvH2rqr3uVemkqr656mZWX6qeQ9VAr1osZrqnqJqSs8Xx9auKgipUTSID+E0Z\n",
      "VtGr7ndviteyduscqA72qg5V261ma3IrwGI+X5FUtfGqiWQAmILFUVXfXLV/UzxUNdirOlTNbe9a\n",
      "uzkHrkouUYv1el5StYxXXaEMAK+a+P/3/k3xug5LqBrOqyqq7m3ncg5ZW+12R0LVwaqiaoVclQwg\n",
      "jVTVM1cdaVIl97r10+1XdZA4capmGUHhvaqkqgNVl6rKq9a7XtXGq5IB4FWXoeORJlW9a26k5Cni\n",
      "P48J/wV/QNXZvGrH61XLeNXkMgBuXlsQVfXMVceaVA3deWupxgy3Cf8Nf0LVyF41N9GrkqsmoxMy\n",
      "gPR51d1mZpqK9liTKpkAnF07PH14e9RiA/EvB/uMoBm8ajdXrfdzVfYAkAGkj6pJ5Kqdoo9s26Fq\n",
      "1ttPpetVHbi6J4kTp+o+VPXXtFy1g1fVROtkAOnyqnkfVSRVb/asCVR9/XrstWZMOgHYhKoBZnWc\n",
      "qvsT9gBIqu5RrcQygO+UYQFUTSZXDaLq5a41karP1mvpVovVKoeqJUaQn7bHvWpzYq4KVMkA8Kqx\n",
      "ULWTmyyXqmP/gUvVh5q4q11psbPqO1QN1MTVqtE9AHnqRAaQPqomkavm81OgmstMpqp22oKqwVrr\n",
      "BO0BqFMkMgC86qKp2jKEqnvO1zwjKEQO4LMHoN6kPglnACUaWi6CqknlqqZTdReqhq/VhLNVXFdN\n",
      "BoBXhaojgqrRRftELTOALcoQO1X1ylVNououQyiyM6IljV7aIgPAq+ojZzRuMISiiWO+emYA65Qh\n",
      "XqommavujPyYRlVWTyOKA2lkAHjVJXvVHcOo+o0hFErvNdkUR7bGYTuaARmAdl03TaQquepMarBY\n",
      "FVbVZwesV/KgMUt8Gup8JAPQrusmXhWqoolkfYKquurSmwFo13XTPKommKvuTEpWoWoq9fD26Mws\n",
      "Sw2XqhPmmPKzK19Cy9d3bwagXddNvOrKeNUsVI0AVYeZr47tKXWpOj7HlB/i2hdU1SAD0K7rpolU\n",
      "JVeFqgvWaelWZgCyaGLKHLP69P72L141uQygseGlqkZdN/GqUBWNQVWtdzhe1RpKAEbmmNVbiwRA\n",
      "jwxAu66b5lFVtz4ApvSssm6galipLVVP8l9fHq86NMdUQIWqiWYABx6qatR1E68alqqZyVBtqv6q\n",
      "JhTvZtq6CxrR2uDXi2GqDs8xJVuhauIZwAuFiImqyeSqfncBtIvmUJW9fVF05KHq0BxTrYhA1eT0\n",
      "27EHh9YnhTDaq/pQNVM3waxeTlt3QdN1PEzVoTmmWzeomnAGcF6gDrFQNZlc1bJa6sqicdllB6od\n",
      "c6jK3r4oWqcPgM4ZwAdUNdmrWrnMVJkBVetkyroLw8pHP8QHRdBU30qNAlSNi6pJ5Kq+ULVzuWa7\n",
      "3cmZQ1X29oXUfoPPrbY6/oCqRntVn1h1aF+V1p71cMq6C8OqJ7U/4nn4ydpDic+ttnopQNWYqJrU\n",
      "flUfqvbf0vpqo8PJ6y6MqgFVndo8eM37X3hVffVZUGIfgKle1bKaUxarhqCa0bp4h6y7hKCqOjYl\n",
      "d/SqeCRTY7VKa6uqxKbVGKiaRK7qQ9Xe7F/3OzgvWHcJ51VP//RD52IBr6q7VcWsGupVM/6y9Teq\n",
      "kqrwIYiq7rkzd2uEouqHQ9X/qeOrkrjOT/WJMulmVTGr81M1gVw1AKp5231F8wNWJPshvKrqANij\n",
      "6oNL1Yb82EqqdtsDIL2sKmbVRK/aCrKqtvuK3gesXqBqmATAmf53EwDnl5KkasH5U123Il/Bq2po\n",
      "VTGrMVB1ybnqdjBUXauqN1U/oWoYqlpVZ5qvtkZUxVfjo1BSEUDjBarqa1Uxq+Z51QColu2um7Xr\n",
      "un+1M4CYY6ZPx0KIH5RhPqouPVfN+0s61KKUbQIhoANzzLTpxplL7FIGs7xqzl/9V8wgBHRgjpky\n",
      "baqegGg+qiazXzUlhIAO0bQuxA1VIAPAqyKfySxmNZJ+CJGlCmQAKadqUv1V0zKZxaxG0i/BmVUj\n",
      "MoALymCiV5Unb0q31nut15JEPTiS53Hkc0OsKmY1mr45/3Opgu46IgOYl6oJ5apyx+Lr2UvtqdfX\n",
      "yH1wbcAeRtZdZh9yQnA3LRkAXnWBVD09+0fuBv97Z/Dg2pSd4SSEM8mh6gZV0D4DEGQA81A1sVzV\n",
      "taZ/PY88MIaqP6HqLGoIsUkVjMgAflIG87yqylVfn0ceGHOK8RdUnUVZPq1mZACXU48/Fm3KE0jV\n",
      "BHNVz83P3V9Noeo+q9kzfVqFOKAKmqtT9NFwY3mkm1dVEH1Xq1VPgwdQNd26FOKcKmguvyPlFaga\n",
      "TNVEc1VLXfnU7bFpGFU3oeosOhHiiCpAVbwqmiB2Xs6kCyHuqYL2VO1MadMBVUNSlT4AM+k7VJ1F\n",
      "97TuMIGq05ofZaAqXnWB2oCqs+hIiBOqYCxVW1A1DFXpAzBr8TglNIvOhbikClAVr4omCarOogO2\n",
      "+ULVFaAquerMVOWodGTRtAqq4lUXqpG+VQ9vj2ZRdY8xFFWbxNFQNfVUTTRX9fateqh9mURV5xth\n",
      "izEUVRsEJ6ZQdWfkB6oa4lWH+1a9v/37ZhhVfzOGsPgr41V3oGp4qiaYq470rXowjarfGEOzlI2m\n",
      "VSQAeNXFUdXbt8oAqu42aeUznxokAFA17VRNPFcdNADQnqq08olBWahqBlV3JiWrUNUAr+rtW6U7\n",
      "VWk6EYMuoSpeNf1UTThXtQZ9q6DqCugEqkJVvCoaDDZa+cytQ6gKVdNOVfoAxDHYaOUTWvdQlYGO\n",
      "V0V8hceoI6hqwEDPTB7nTTUpo0DBVKUPAFRdos5dqspNdaJ368OrOrH8Ls/XGbVlOb0D3W8BoV2k\n",
      "QnhVqKqTDrpU7W2ns+Rq5e3pn0f5yLBDyytJ1UydgR5EVXJVqLpU/fRQVV6uK3+XPrX6ZNqh5fSq\n",
      "VSlPlF12oNqhPnhVqKqTNgcJwNm1tKdvj/JwXfXKqt5aJAB6KDf1BCFQDUdVctVoVKWVz1za8nhV\n",
      "B67ukeXqlQIqVNUeqnYu12y3OznKhFddnFellU80DVP19etRhqoqAVDtIKCqHgN9qoaGOZ51KlXJ\n",
      "VUkAlqvSMFWfrdfSrbtaVTWvcflKUrX/VotC4VWhqh5qDFH1oSbualdqZ5Vcr4Kquqg5ZbFqaJBn\n",
      "qJIPVclVI1GVVj5zKsu9VQZTtTf7x6jiVfGq+ujmgxporYy/bIxqIFXJVaHqcnVSoAYGQzVvu69w\n",
      "wAqvClW1UQGq6qxWkFW13VcY7b5UJVedn6q08gmtF6iqs7aDoWpxnxBeNU6q0spnbn1CVYPn/2W7\n",
      "62btOrWaTlVy1ShUpZVPDFYVqho6xuV2VecV95o2SoVXXTxVaeUT1qpKfVIJPZXzV/8VKuVPVXLV\n",
      "8KKVTwxWVemFWiC8KqKVT2xWFbOK0kxVctWYoEornyhWFbOK8KrIopVPjFYVs6q5ZP/b0q31XlOX\n",
      "3/QeHMl7ceRzFEBVctVYqNp/ixPSYawqZlVzqp5dW69nL7Unef/N4MG1VX2iOHjVWEUrn7isKmZV\n",
      "f6qenv0jO4v9vTN4AFVDUZVcNRaq9mb/GNVgZYX4QRWM8Kp/PY88gKp41VhFK5+YdCPEOlXQnaoq\n",
      "V319HnlgQdVwVCVXjQOqtPIJrUshjqmCAV7VcxNu76pxqIpXjU208olNh0IcUQUjqPquVqueBg+g\n",
      "aiiqkquGEq184tOFEBdUwQiqyitwxJMFVfGqCcz/aeUTQUdCHFIFlGqqkquGEK184tOxECdUAeFV\n",
      "V1208olP60LcUAWUYqqSq6Il64cQWaqA8KoIxaV9Ibi8GqWbquSqaKn6LUSJKiC8KnJFK58Yhp1T\n",
      "K6pg3GCvCvH1SFFCUZVcNdpAo5XP/HI+rFtUwbDB/l7DNOBVFzfQaOUzpxpC7FMFwwb76R+MagSq\n",
      "kqtG/vqmlc9cygrxkyoYNthfGyXxTE3wqosYaLTymV83QhxQBdMG+6ZjHa4oSiiqkqtG/vqmlc+c\n",
      "uhTinCoYNtgZ5HjVxQ40WvnMpROaVpk32KVlxauGpiq5auSBRiufuXQhxD1VMG2wV3tDHuFVkXa6\n",
      "p2mVeVqjBOGpSq6Kli2aViG8KkJx6pymVSjlVCVXRcvR90ywqBLCqyIUUk2fuxStfDHDtV8oJVQl\n",
      "V0XLUVths5LZ67O0k2u6alnWXkvd+gVVEV51FeVp5SP/5CBfCHUkNeVdCa2ein28/qeTca9ShKoo\n",
      "HVQlV41K1eFWPtVnB6xsjg5Sz6C2B5fVdkZjAAlVqIrwqqtKVU/fKk4ABKk1PVItVoahClVRCqhK\n",
      "rjqjVx30rXp4o0eav9qjKO1k/lssOv84P5a19n/2zoU3bWQNw8aBiLRR7ifNxUkUhdBcaKCkoE1E\n",
      "hUKlU0UR20pH7f//Kcfj8ZibjQ2YeMY8z26zKSXdriHPvn49/uZqIFWsCmTVlbTq6NyqFuN8Y/DP\n",
      "9b/djZlVPG59lL/67RKrQn6sSq86R1YdDACosLHKdGSleve/bat45/P5ajy8KqliVSCrrq5V/VE+\n",
      "jEiPQa1S/V74GF2uBlLFqpADq9KrzmlVf5RPXewDyNWqSL4nuJ9qSKpYFciqqw6TfKazM6NUsSrk\n",
      "wqr0qrAs9vaTgFSBrAqwHKtO/AZivUVQsPS8felfm4269wmAplalVwVtrLo9adXBpkliCZu4NlgR\n",
      "S4VZIwxkVcCqsVYNKamH9l0Un7s5Vd7JhlVBa6vSq4IWVt0L+Q1EA3D9xfWpq1F/P7p6Q1iWBgDI\n",
      "qoBVp1v1Oew38LOqK1d5N1u95qdUtvsEfa1KrwpaWHV3Ldqqvd9PolT1GgD/TmEm2gBZFbDqNKu2\n",
      "bbt9E2nVrtWrNo+7PvsAACAASURBVOTVKjeksjU96G5VelVIk5eX4NO1+6RW/SpuUbPb59uhVm01\n",
      "7a/NmreySlyvYmt6IKvCKtHv+++us7bdTmjVfat0Kr16Fnj1JfLfwA1toLdV6VUh3ajqOMKHx7di\n",
      "/X5Cq95ZwVfY1ceib2eOJZBVAVwZOk7fOrrwkqd9m8iqd/6XbjxKr96WPTtzLMFYq9KrQqpR1XHu\n",
      "5dn848asX12UXrVv1107czCBrAogoqrjvLli3L3Znus9edb2vHrqYFUw1ar0qpAiR45H+35r/nfl\n",
      "ufDqG1YFsirA4YUrw6Q2fG2Km/stsaC/Is/7PcSGNTe7bQergsFWpVeFVDh5sIUMk9qw3nXFWhN3\n",
      "o3Ysda9UcMeU47PFYQWyKqzoe+l8V563z5QxXYu+Nh8mrfqirNp+OOHYgmlWpVeFxSnLa/deVJ3B\n",
      "qmJSSr1Tn7RqX1n1zbbDBwQAkFUhvxzK+6Ls0/5sVm01G+KW1EmrBlHVDavecgKOMZhlVXpVWIST\n",
      "B3mV6bHsyzDJmb83hVpcmFJ71I5YtT+wqhMxIACArAr5fAt5daobJ4X2+kmt6t3IL3ZLsQKVDlt1\n",
      "KKo6ztbEgAAAza1Krwpz499iak9eUgrdxW9HraVSeVU+ZcKqw1HV6U8MCAAgq0I+CerUw8lfC93F\n",
      "T62lGuTVpPZWXt3gqIMRVqVXhTk4uVd1ativRu3iN+8M/6IavHLMkQeyKuTxnePXqZFXkSJ28Vtg\n",
      "b9RgQECJww+aW5VeFWZl47EdUaeOZ9XxXfzEWqoFVC7/tReHvARAVoUcoerUi6MpTwrfxc9bS7XI\n",
      "G/ZGRuT7I14G0Nqq9KqQnC2/To0pOEN38QvWUi3Amu/VT7wUQFaFHLxhbnYTLsoP3cUvWEtVaKkl\n",
      "AmqtwAx9q3/XAQMCQFur0qtCQoqqTl38xvzKmFVbzd8zxNgt6VUGBABZFUymdFqNr1OT0hQLBKr2\n",
      "76fKn6bdtV5//p1tbcCR7CEYEACaWpVeFeLjYbI6NSm/rr+I5QD1bqXakIsDZl1xdXjBgAAgq4Kx\n",
      "7xNVp6Z2L/5fby2rbABE4zrPOtYSAwJAU6vSq8J0imep1anDWXVhq1rWuvRq9YwBAUBWBWNItU4d\n",
      "bwB6178WsSoDAkBXq9KrQhSfVJ26nu7v+9JUV6sWs+rQgIAyrxaQVUF3gjo19TPsNKvQAzUgYJ1X\n",
      "DPSwKr0qhIfAJdSpy3ofMyAAyKqgO6Vbv0415M5QvApaWZVeFcb4dLGcOnWZ3DAgAMiqoClrS6tT\n",
      "l8uJ/HM/bPESQrZWpVeFYVSdauTNoAwIALIqaMa6X6caex79iQEBoINV6VXBV5KqU03exIQBAUBW\n",
      "BU1YezCzTp2ghFchW6vSq4I1WEqfj1PndTV45YBXFsiqkAXHqk7NzeXzshoQwOAVyMKq9KorzpFf\n",
      "p+ZrT+gNBgQAWRUyITd16gTFsyoDAiALq9KrrvQ7IKhTt/P8n5evFA5kVdCW/NWpk29xBgRAFlal\n",
      "V11Ngjo158JRAwKOeMmBrApL5MSvU1dhiv5aogEBFRHcO/5PerZd400Cc1qVXnUVX/jzXNepkf8P\n",
      "eTiZZlVvIy1Jq9mo/HnijQJkVUhE+TH3deokakDAWpxV67bdDTYpBJjPqvSqK4V/n7x9umrXb46k\n",
      "V9s3UxoAb+vX1s+nXtfVKxUAkFUh8anwam5KOn3wip9VXblWG1gVFrEqvWrueXlRr/e5vGyzu7Jz\n",
      "R0pqQMB2lFV7v59EqUoDAGRViKbf9/6h6tSpl2xyz3HkgADfql2rV21wtQoWsyq9as6jquO4YfXw\n",
      "dEXr1AmCAQEbYVZtNe2vzRorq4CsClOiquP0gzqVUSMuRT+13x6r//FwTCBNq9Kr5j+qOk57tevU\n",
      "yXf+6ICAPkcEyKowS1R1nLdVr1Mn3/tDAwJeHI4HpGtVelWzKPyzE8XV5fiTD08dD+rUSYIBAX2s\n",
      "CmTV1eXH1RQuL8esenJvv7lK5bBFIAcEtDlCkK5V6VWNYn8Kd6NW9Vanth2sOg1xGe+NIwRkVawa\n",
      "b9WNR683fMOqMWxdcIQgdavSqxpl1R974YxYNVid6mDVOPqyeX4L2V52pgobgKxqqFUjpLq3M7Dq\n",
      "lpwjUr097mPVOF4cn/bYgIDZKmyAgVXpVXNi1Wffqtv+pW2hCN8YHLb4qOqtPhsZEDBDhQ1AVs2v\n",
      "VYuyTrUf1oaMwWFLEFX9WyUGAwKwKsxvVXrVHFlV3op5MblHE/uHxERVx+mrwSsb/qFOVGEDkFXz\n",
      "bVVZp4Z8IfuHxEVVx3kpqsErx1bCChsgxKr0qgZadXPsx5BVQ0eHWuwfEh9V3bA6MiAgvsIGIKvm\n",
      "NqtuBt/qkdsysX9I0m8KNSAAq8L8VqVXzVEDEPmF7B+SnBvPq1gVyKpYNd6q7B+SDDEgAKvCvFal\n",
      "VzXPqpthzWoyq7J/SEJOHuIqbI4RkFXJquwfsvih3sSqkMCq9KqrYFXgUANZFfhW51CDiValV+W0\n",
      "NAUKKaPLod6crLGxKpBVVyRA7WBVsiroYlV6VaOsuhP+nf6Pd3N6Zn8urApAVjXVqtMGKX2/wqpY\n",
      "FTK3Kr1qfqy6840GYNlWZWUVkFVzx/Pd51AuP7tS/YFV3yGrMrMK4qxKr2oSe5E7KWUp1XxaVc8K\n",
      "G8iq8F5S3b+8dL/jv3//sZeZVVs/nwqFum3XCq9N2+6OPthVHwv+cwQ975PX5o56fr2jj1X1rLBB\n",
      "f6vSqxrFlO/0oZPS98+s0p/N30+Fnje6pd51VVkLHvTmudTkR+HSrnRtQU4kcH9ZPb9SNcOqGVbY\n",
      "QFaF97Nq8KznTKz6+vOvq0oRNmXg9D4OHixItzaGEqx6JHj+a/NBG6vqWmGDCValVzWKfyK+04ek\n",
      "upNlA+Bl1U7gTfnP+mlVnOBXqlVfqnXZAPRELVAr1BvqeR19GgBdK2wgq8J7WVWd/T9n8acaqVCr\n",
      "InC2hlNp/fqLa8+eagA8r9YCq3pfJp7vRld9rKprhQ36W5Ve1SB2pnOZUVAdtao0ZkWlUmnVWsHP\n",
      "ob2usmonaAB6XoxteBexbLujf6+aaYUNZFV4N6nuX8qnZHF1eqgB6BYqf57ENajCyIMyq0qZ+if+\n",
      "6mqVkLB6vhFrADKtsMEEq9KrGsJzXFS9lE/J4ur0+MoqmTrlqb3/YMdfWeVlV/FTT7fuk73rVSql\n",
      "atSralphA1kV0uJjvFRlVM3OqoKD4MMEBxOfRD6gt1XV2T9BFUKtSq+ak/P/z5d+mr38lqlVc3Jv\n",
      "lb4VNpBVIS32pyO+z68EmSxPz5tVNa6wwQSr0quawd501FP+k8kfLmdW1bnCBrIqrAT5sqrWFTbo\n",
      "b1V6VcCqs53/Z1thA1kVsKpxVtW6wgYTrEqvahaVqm1XG5aYtVcbPHBWFSs+3cczNGv4I4XI5xZ0\n",
      "PcRaV9hAVoXUrXr9xepdvzQ7VqvZGDzwxap3ODgAGliVXtVEq1auf7kfrX83Bw9gVQCyKiyQVf/b\n",
      "HXsAqwJoY1V6VcOs6vWqve7YAxZWXdKh1rDCBrIqpJ1V1UdLzCvxP8WqSzotoMKGGa1Kr2qmVV+9\n",
      "b/XO4AGsupxDTYUNZNUVsaqrVNvuWFh1+VmVChtmtiq9KkC4VamwgawKkPppARU2zGhVelWAqVal\n",
      "woZZs2rxQLBNAwAQalUqbJjVqge77XZ79+LxAKsCAKSSVe8vbs9PDsiqAABpWNXV6u3NpwMaAKNO\n",
      "TUdu+qmrW38AQAOrCpsWbzypYlVzrDp800+va7V+PnFQALSwalla1btWhVXNsurwTT9YFUAXq0qp\n",
      "KrCqWVk1uOmnTgMAoItViyqqen9jVWOsOn7TTx2tLvVQD+ZWsagK4q26HXh1G6ualFUHqyf5Xl/6\n",
      "aUEwt6pS5UhDnFWlT72/yKqGWdW/6UdEVrLqMg/1oMJ+bT5gVZhu1fIo1odtAAjnoMAxgDi8UtWb\n",
      "AeAPA7A+lA5H/zoslbbOz8A4zrdKAPDuqLkqgVhdq46yXlpfP18vgnG4LxssjRI/+DH0w+PYW6da\n",
      "Lg4GVsmpVdaH4xHcp5bLZwdqPSsYw8bGWRnS5JhDAJFs/J+9s29OFNnCuFFQSe6NYhw0pKJD3Egc\n",
      "kcgkYzTGLWeytyqXP+bFqdravd//g9x+hW6ESBLMGuY8EmzNSSMEfzx9ugH8wFCtVYOmv8YSAYyq\n",
      "1WN8hUBaQl/PZj7B02yyKY9QrWodDZStqrAJQAkiRoYO+lcCnAYZAMRR/NCUoUIKmKr4DxiMczOh\n",
      "TaB3yXSl5O7Ljx7H1Y6Wq3/YTuw0sAlgit8zFJ1eolqpHYspVfLgXlVTJgMl8KoYqvmT0u2Q6ULJ\n",
      "Y4ukXO2IBgvmWc1hE8A8Zq5MhgyrVamvSgm9KopxO4JXRdYnf1IGJTKZSg5Xrlw+7tDWhcaeYJ7V\n",
      "HDYBzCNzTNXuoElOp6qKWVXBq1aViT64CL1qVTVyKHVQKuPJLOdw5dptowO5wG2kVWGDgmL2jOZk\n",
      "cEGv/FcVk6piXlVTulel0Kseq+hbmjshqpLJVHO4cu2W0dG4s+Ip8SqUX1KWMmmwUaAclnFetUOv\n",
      "Uc3GAAhDAIS86pUZetXjPEK1bZyaKp4O1XYLUSg3Dzy1W63Qq1ajSUEoP7msBViFjQLl6M6Bnmtd\n",
      "k1/4T5G6quQxAIJXLRvoW5o7GRd0ahs5XLnWYTvIq4qeFcrPK1fjuQobCMqst+qKX/6vKthU2l0V\n",
      "P15VbR/mUG3DYFMe185sd8CqZlMOX4NVhXLMzkF6q2oKHbX62HjVKiEqniOqGocm0vsMfjboheHP\n",
      "/yTvczcRqlYlrlaF3QHK6csCUIVOX9hAUJa4yqAqnVvF86pVTXpUUfxFK48JgLzrkI1XVcik8bkG\n",
      "5SeW5ZcKbJR/4B+gZb0TJ9X8zJ1D4VCtCeNVhTEAMaditS86oLcnlj1nyR0+V6D8xLL8UoON8g/8\n",
      "A5Ssd+Kkml9Sj5xXFcYBIK8KF5XIz/VAQCDQlrV+0qZ0bhW5ZhUIBAKBslOhAgKBQDunD8NJv5iJ\n",
      "+hPP8tfqH88P9rK8z0qzMR+zqoGqIBBo51QfnpiGkg3vjttmV7ciC5jPnYw/suPMp+NXomrSIUFA\n",
      "+wvCQSBQ7uTs99WMb9nX1UW7Om5u54PPp69C1eRDQoj254eDQKD8QbV/kv2dUM2iHSzgYL61j77n\n",
      "bJ2qkUOC78WiPfURJBIOAoFyqP4VxqBiDoauOxyYGSUCzEkA1S3aM+fdtqkaOSRYuh6L9vRHECkc\n",
      "BALlUPvEqZpdnalrZpQE+MDMW8AZC8nPunU+3i5V5UOC76ENZNn+OtqfcAQRwkEgUC7b/4iAtVNX\n",
      "D+Se1jLBap8uIGgR+7jyrKmKqt8mVcdrTpXI86Nojw1PPhKAQKD8ysUdVae6pNNMqKq6BCF0Mbbf\n",
      "G+CqB72sV2C+TapGk6Q2PjDYyLFasWFCuM8iPH9zrSAQKEeycPvfpE7VZT+6S5MAnz7SEah3Mcj8\n",
      "9PH7TC7E5ACswL3ZusvcsPvzDVE16lR9nAOgmQArJnAu8de1CVXXRpmt1QsCgfIkDwFU6TKmmibP\n",
      "rSoiVeOwSmF66TxGVdND/KBdM16AbV0XsLrEYXX0PKrHfjrpfSc+zFmn6ogsfty4i62zUFjg5xnv\n",
      "NFoalcqKvYkLNYfNIw16Wyfd/zZbIXutUT+eR1ytRdfc9SEHAAL9OuobiH685a+qHH0mJWd/jJ4u\n",
      "i+ejWKr+92PReSwFYEwqlQO6mGsxbxskAZYYXUvGs1iFGE0Cb/wYAEzKBM3qyxFa7Kzm8IqNylK5\n",
      "q6xI/eK8Ig889cSksK9LI6yceTTcJqvq0+NJ1K46YFZBoNyqiFzpgLNUNTj5rgSq/tYnthR5VszQ\n",
      "L/ik1DGhKray559R4Uvx/K/i99kljeCRBaVYqezRxezrLpeu7/OFnxGerpS7pE+3fAlVlw2nMSv8\n",
      "a1UwsD/VmDtdNghAVw5+hX9Wc4OGG+glAW6FzoNDAsekJacDJLN6sB5OxPq3PFv+fAew54FAuaUq\n",
      "ot9Q8qqEsMOoV71kqYDfyNUCvs8iVOUSIpGKAfJO9HqP6afe5Z5uZYTIXI7GyBEbyxFuixOEkjfr\n",
      "FfwOfd8gb68IIWn4YgNVSQ2YroikzBEv0R+TMssALI0l86oGcc8jVDudB4cEjlGpIe/LkC1Ew225\n",
      "AzBiV+HaBSBQrqka9FVhr8peSHlVB8EU8ZKnUDFtgwzAJ0JV/NMfY1crRgZUdYZ6kEns6cMgo4lI\n",
      "GVIVkW1ZwLOaI1J1tqjwt/DPClMRgW9EIzd41bslnkj61oilKv49zavOaQCqdcHne3ICgNLUY736\n",
      "cgpg72lU3YM9DwTKOVUpS9Vjnv4UqYqzqsyNYu+K312j6vkIE/VT6FuJy5Wo6jDVQ6rS7iqNARTT\n",
      "k87qtLlPn+8qgm2t01QshuyCZwVSUFUTftNgKVRG1QC43MyynCyeN5wYqvIxtxJVnUYlEs4zAG7c\n",
      "AFcSDgKB8p8BOC20GFbDDMAlASRv4ztiBiBC1fORQFWSWRUzAF2uYZgBoJopdxykokcNn8lAAU5V\n",
      "nISVwlNQ1cEel0OT9VZJYwCWGsulYv4uF3Qe6X7inVW2zegqUTW+t0qH3ioQ6JdT/5j2VlG72qkd\n",
      "0tIgzKteIoayHiuSZL0rcFuKXqxTNYgsFMr9YMD7vtgY3o8QkGY/mT0NPGqQASjURa8qUrWSkqp3\n",
      "Qm+VNLKK9l8FI6tmZEwVfYkNa2SolF1JfJk8sspdM6oVGFkFAuVZkzYZWcVTq6cdCj5hZBVypEEf\n",
      "1PnokrXvGVWDMQABVYPIQqE1CVrFvbiRVaxbX6BqjFelGA29KhneGmZeY8erZiYRk5GxVNI4q8pU\n",
      "mHOqPnIWAFy3CgTKr8KzAALoCWcBsJFVuEf/kqESPd8hj0oAilr73/+MUjWIDM4C8H2/8jNcwE/y\n",
      "BtYKI5L2PclUrcyIYawzjC5HBdJrJfVWvQZVJfcpjaWSx1kx7ymGP3bGKlhVECjHsrrsjFVXBGs2\n",
      "l63iZ6zi/KJ3xc6HdQcWbhwzt8r6iqIZADKcajEjb65wVhUhdVXQSMwZ799i4Vu9DsBUSJX6wvlU\n",
      "ttSsd6Yx4clywKqCQDmWrxfCq6twuGZzdZUCaSNPGVXdwVV3OOwOBq4XUjUT8G117GdBxKrLWIr4\n",
      "Kp2FuhcbnigYVgUC5d+skisBuhlfCbBrsVYxoSr6+TA4+WDj84yypOp8vFWqOu/mklvVPSS5A8rZ\n",
      "G8eHJ9S4B+1/ECjfmpS2c9Xqks5bxYhDvue5vuV5tu16FnrhZUa96aveYQWtA0KqdO1tuMMKCASK\n",
      "qFjaxh1W8GDVtVaxLz1loT24GyAIBNo12ZNu9ncDLBWtJ7SKn+1UcWsa7lwNAoF2TRa+HmDGd65+\n",
      "Sqv42Sbyde5cDQKBQE+V73m924NsgFpumd21ke/JreJn29SgNQ1UBYFAu2hXvX4xG/UnXsydVJNa\n",
      "xc+V0Jou5E/7IBAI9FpSiDQ0abSo5JGqBRAIBHol3iCgRh6vuvyJ94gmQFUQCPRWqSpgVQ6o1Zq1\n",
      "tGcxNG8X7FFPm1T2zhJ1P/eypWq1fZiklipEQ9zbjAOBdoWqGKkcq4rsVQ+mi/s6Vu+20dxc17s6\n",
      "17X1YqouHi7OsqVqq9QyktQ2S8HRBOLeZhwItIMZAAZW/ivl/rpHGHl0f4vmtxsd6/0Rl/1Sqs5/\n",
      "3HTOsqVqy1TLZTXhUS63S2z9IO5txoFAO+VVNUXMAfCmP3Koi3qvV+/dLwhcFxupSmxtFlQ9vbn5\n",
      "cZZM1RrWE6mqlPB3MEHqN7N8SMcYPxqH9YvEGT/UN7UeINCOedXQrIZUPSAovV0gv3p0fXSEnppp\n",
      "qHodoWotSclUvfgPhWoSVWu2Zdt20sCydr1Xv12nqnqY/MX8+vADYYReryExrjGdzqflzXFErXRx\n",
      "hpGyvs9p4sx2OdXnu3XUTXHGD/QvYMWN9alfy+Us1wM70JRx4fYDgXbNq2qCZWW/adDm/zWG1OL2\n",
      "9r53tMl/xmUA2lZs775lXydR9f7h5ubm4SxK1bDyow8WFi7J9Gzc1xcKzQPfr1HVaCV+Mx9usC9j\n",
      "387YOHW+Wi2RVuXH47iu+hdp4lq6q6aq79vvXzfGtYbFk3KKz3fr/P33+PE4FTE1StXE+o5RsJpu\n",
      "u/z7z/99TrW+nb/MVHEXf7wHqoJ20qsKTBUyAI0jgtUG74E6shtNrvDvm8jCMS3iqHpr6XHykqg6\n",
      "J19oClWJqhSlEUlUfX/dQ8JMxSqnpCp2ZQ+P02NKiJqequpJseimiCtNisVSmvq+/f77lw1x/2fv\n",
      "7HvTRrYwTqGDkrSXFzs1EAQUvIqJs0KLsBzWuaBmiSL+6BJRR1Xb7/9Bds6MX2bGM55J76riSj5J\n",
      "qNI8GTyW+OXxOccHNKnX61093YCp3/8blekSpjrNgQFV0TOID2bn5euPH3+b6F6+fXsx0Y0fHy8q\n",
      "qlZxwtWq7CGn6i4CVu46QgSd7NfdIAt/KqOq43mYh543nfr4gX5NPfxvLKXq056BakrVGAfzRDQI\n",
      "VVn3bAFUO9RgY7AGl0ZUBYLsAUYDxasYUaZ++XJvWc0SHcPp23r91tFTYXxdx5ZWr0N/YaiWe1rU\n",
      "RN16OEKa40PvganfN6X7JZjcO5kVLX3eA7mwOBidF/Q3hqqBN3cAqgbnD108PsaoomoVp5kBkPar\n",
      "AlXXl+0P62hH3V8awTSnahClsfOAqgF8BvgaPaOq79s+H5irk+WSvpUXT9XGdnu3xa/Se56qnSBw\n",
      "Y/rcpHpGHjCnp16bufp3A+YQ4eH8bVtHVQoFVOLJrC8EqRiog6bZFXG/W68PkVaHVvV6eGWwnoOh\n",
      "+lvpes5N2Gs2Vkh3fAxTlboUk4N8dfXxcWLdPh5+/PjxFRns9xuGqonukUC1omoVp1ytEvOqhKqX\n",
      "A0zVDFgBTWsyXtVKI/LkXtX3gKSjEaWr7S/D0PPgbRIGIlV32yRSqKZUbQQxNqc5V8kDZAT8/Orf\n",
      "xgqX4Td8H9idt2VU7e8ZWyb3Wmtg6j2XRtS82q/wZf1Kr4MsQbdvoHvAJ+S5TIdW13WaUS0/PsrU\n",
      "P1CJDhWZWnJ8uU9tmuwDoGpw/noYqmMDXR9Ddc7oqqjilLwq1wCQe9U3HULVd0BV1yY8DdxXU9Wy\n",
      "MVZt//YWoDrEuFt2u/hhseie8VTdPKVQ3cwEqraAqUGKduJV3Q5Q1U0PIyJQdQP8JOQI8RdJGdhB\n",
      "W0lV50igetcv8WT3AFWhs6f81T7Hl/Vjvc5ZkCyBfr0DPiGHEh0+uEX9etjXHd/7PzimSnU8JjX7\n",
      "pX+SDsjwvABUWwa6KwzVhoHuI4bqR1ZXRRWn6FULd6xaUepVXR9D6qeo6mC9Z/vDoU/ADIBd+iQD\n",
      "yuVV7ylTP+OvxkykqmMnZjVOr/Ahb4qpmlb62wGxpkmxKq1XEaxGCqpCBQjSDfu+2muhGYbqWix5\n",
      "l77aR8llvU7XD0mWQKcbPGdQlerQqttrXrFMVegIU3+3ynTOPq07GezXoRUtZHhePnzFUH0wyNPO\n",
      "MVRbBjqAao/TVVHFaeVVuWIVewdgu/3mnQVYpVR1f4Kq+PcwVlcrf7hcLjFUL3z8iR/mHFXnewJV\n",
      "HNvtk0jVM7xiDGB1CVdpYhWouk6epGlTL02SugleKVTtjpSqCCwggeqhxGthp/rFKtrMkmrQDb6s\n",
      "7xnosCcbmXg8DNXPD0odGoXstb9aR5n6vlSXYhIZ7Ddj6sDwvABUnSbS6l4wVPsG680xVB1eV0UV\n",
      "J+VVheaqomj9817V8m9u8Pe3t34YdrtL/zaJyQVHVWJWP1OqbvcNnqq1Czu2bZoGyJOrmKrpH4A+\n",
      "/imTUrVp8lVN1V6abNge1F4LnKoEqmoPhaC7aeHodeNu38jjJcV/lQ4yuPWwpTs+9B6Y+j3S6WhL\n",
      "2wFp94sKPlXnLWnxX79fWvzX6+LHxwtRV0UVJ5YBOJf0qzJhKb1qkFF14/nyDABgDltNu9sNu0sb\n",
      "gIo/biejmlCt2jwlXhWbyOM9R9UYVrBjnqve1MuOjzYf0J/HFLoBperHIlWdYwbV5xKvtZZCtcRD\n",
      "Qa50YpBnxIb21mQ9DqoSHZp3oS+2p8370jqVxqti30l6qgq4VFDVNP+adVTpz98LLf5rdbSjqll5\n",
      "1SpO26vmBSvRq75pt9trNVWzwD+Ve1WSTb1IqOrDNy5QsiNSdTZ7olCFC/MGR9WxfQFYBa7GQZx4\n",
      "VW9qp0dxbucX/mlWlTa42k6Bqr39XZ5tUHtVaKlay1Kdqld7C1vHG6TTDRwwtCZe9YGnvlTXWDRQ\n",
      "N1w55ceHkj7V3yPNPmgPAM/Vom4woL727hkZnJes+K/bbx+K/0ivg46qeVFXRRWnllfNMwCCV7V2\n",
      "u84uIRXUgXyeqlbene93Ora7CQqdVTdJw2qIY+n76aV6kapZE8B+LmQAdlDlwlgNSHKV9lh1/LwF\n",
      "oObSHgA7aY6FJoDEq1pFr3o4ZlDdbo+Owhvdf/r0p7xPUv5qb1zX6yO9rg+G1jFYDzK/vxnorkga\n",
      "AJn1ALBclVa1mglXnVLd4KxZ5K/i+ASoKnUtDNW5ga6XFf8rr1rF6XvVdMIqW61ad3bRZgdkxRHt\n",
      "OtggslRtd/Kb8/3LnWt1poSwLFWhqWoCPAXcTW4CYldt3xWpmkF1LFarai0AZUy5mvVY2dN8iNZZ\n",
      "UOxXdZWdVVCrSnO42/2z1BtZ9PZUY68KN0o19DrB0KrXO3BJ31KPPKmHzmLYK9chhHiuqtYbHPi0\n",
      "qVyHlxP4K9cxxf/y521gqF4Z6D6KUK28ahUnm1fNHliv2oYRgOkNq/CvN+Wpaln5zJPo3c7aTG1i\n",
      "aL1M4RCI+otlQrsbUk7yi1R9wRf+PFNzqjoJVP0YwEqTAJiqVn6kZ9itullnVZoBsN2zmqxaBX1V\n",
      "aQpXMUUEX/9bTWOvSm6Uaul10M06MvG+bPFfWxPvNebYsN72dflNtCN1q0257iB0WKmfl+eqVEeh\n",
      "irT7GDPFXfxSWgAAIABJREFU/zIdFP/luiqqOD2vWphZVatd7lKmYqO6iQhUCVXTjqYP7HQAf7Ne\n",
      "ewGBWu4i31jJ9b/tJx7V95fE2gpUJQZpu3+6n0mo2oZWrKTDnxStoHk1mHIjVps5Vt0Eq7HyjlXo\n",
      "VqVQ3aZVb94bKa2qPG+Z3iily1su6mHDxPvydSptjX2wqCdTAMpr58ktq2U62rX6jJqoMZo7urkC\n",
      "VKzeL0DVYB9c8b9MN2Y6qiqvWsUJ51VFrqY/+g8m6iaCS/+Em+TWe0yrdXb9z04HCCLLDoC/WJfP\n",
      "PnV8f+L5Q2/oTfzhlNxdRfgoUPUFmHrHM5WZWeWTJlfbv6A1K3CrgevzO3EAq/SIYnpA+d8HkarP\n",
      "eRdA1qHJvYrvlVZV4qGYG6U0Xqu/6BmshyRQVXtGtBo2G9c3jtZbUqbuUIkub+4fh4vhbbgqux9f\n",
      "uBNAsg+++K8+f3zxX70eX/yvvGoVp+tVxZur0qt7UlanlSgXPj1x9l7bYiLaWTuvs8ERTFmqevwI\n",
      "QM+X5VXp6/NeHLWaUTVm3C5tXYUDErZyvnPdnbOJNpftDabqhrGyAlWPDFPl3uiLyqpKPFQvGaei\n",
      "6xsdtprFHnuJ7uEv7sA0XnUc1utXTUerE8YAyHQMJudhq1Groe5KSVWxa7W4D5SMU9HtIx2notVh\n",
      "ozpW6qqo4kS9Kj+zSghPHGjKxpvNJvLsHYZqh516Uou85XSJP+nHcur7ngdreSxVyTi+TfFNATKq\n",
      "zuM4voi5cOPNK3bJUeFIjPF2y99JxL6KrU+f7puGXjUdp6LRYUMbOibrFYr/pTV7uEd20td6Wosy\n",
      "1Wqq+0HZG6ZQt3cWoloThX35etkMVvXzFor/Cl2LjFMZaHW9ZJxK5VWr+H/Kq/L3Vq0lVN0p14k6\n",
      "WABQ3fhT7x3nZxF8ph8O/sD/4VjNnKowN3one/sqZmr1//aWbxxVE6geHaU3Qn+qEwCChxokU1J1\n",
      "ulZXLP4rPFmh+F/iQcfdEbXAunxkcQyAqOOt51W3VhtNhuH5ZCylapGphfUexOK/4vga2TiVcl2h\n",
      "+F951SpOmarnivmqQkynHeUy70jhnZaq2Nq8NpYAVTlT/933WOXvzMxH3Uu9kToBIHiobEqqRgdj\n",
      "/0cm3hfKaAezfK6DQR0ivU4+BoDTidZzPqnV3oY3b2urlWQ9Ote6X/q8kuK/VDfOxqmU6wCqUZmu\n",
      "iipOjKqyftWiV3XVy0TMm0pFtVdR9bhvzGa/jqqUH/1yb1RCVU5Hiv89vU5laAvrwXupPBjlc/sw\n",
      "/n/R0OrQRspUVle8nAevSi4Pil4VHe4KM1iL+6DjVPT7eCl2VEnXmxeL/5VXreKE86r8Lau5V3WF\n",
      "6NSMqNp51fMvx/PZ7BdSlaRwezpvZOhV4b1UFo5WJ+tmla4nL/7LvNvV4tppXjX0XjpjakmN/Uhn\n",
      "dzMK1G2RH6JQfKcTyVxryT6kxX+JTlr8l+hgnIpGV0UVp5gBEHoAXhWXeTPA635xOZv9SqoeJWNB\n",
      "JN6opFjF6OC9VCZIrxsVu1mlOqcMqtzx9a+VCQUuP/w+uZ0KleoOxXMyD3vws0IPgHSutbjeg7T4\n",
      "L9lvGVRZ3aOso6ryqlWcMlWFz1/6/OGyJMJ/m6pHggSk9UaqGQC8blyvr5CB7h/2zoU5TW0Nw25d\n",
      "MNC0GA1FpQMak2ZI0u42MdHWxOzZtSfHznSSZtK9J///l5x1AWRxMfZ4Kcr7QAnRpYCNj68fC7Bq\n",
      "p5Y6R7u79J3/aRm03XfnybQvY6dUycrcyejp8f6qjpKwasaHUrTd32znv/L8dlSk06lkt+tIp1NB\n",
      "VgWbklWT/VW3aiuFFR6oEubKgp+v6vPUVXtutgSj7Sxlvnb3d/O1m/WMcrvRcL52KcdNVRwvcS3W\n",
      "1l3mCxit0/7773zb4Vbma+d1nm8HQJ7qqtL5VdadVddmVdVWK/dKdoRSm6KUqNrqbDar3aslP5+i\n",
      "zNHu9ev1by8A+aurppwHYKusWq3MSoxUF7boQUvbqWi3ee0AyFNWlU8FKLKqYntbgq0Iq5aUmW9P\n",
      "xQ4iD9ptZjsA8pVVpa5V7OZXW5NYdwKrltSKbWRhV5rhI9BuM9sBkKu6qnRFQP6XvD1bWA+sWipp\n",
      "ShaqdEQs2m1mOwByVVeNhNUts6oytargj5RJGmg3o2Ge1w+AnFQA5LrqFln1ZdyqAACwYqvGtLrt\n",
      "WRUAAFZqVemM1S79ld38anu2sA6rAgB+RwWATew37QLUVQEAYOVW5VJtHrepVQnqqgAAsJhV+dhy\n",
      "qFOZVVFXBQCARazKv/5rHnfqNmZV1FUBAOuvAJCIVZFVAQBgoawqyqqqE82qW9QHAHVVAMC6s6rv\n",
      "VX9vFbIqAAAsWgHw91jZqKsCAMDSsioddAf9VQEAYDGrRo9W5WyZVVFXBQCsOavGLrGKrAoAAItl\n",
      "Vfmk1aIPwNactVrnVq0CAMB68LNq9IIAzEVk57W2FUPrtcmsqihWbDBcBxQH11AAWBPhtQDCngBb\n",
      "eY3V5EnkXZWA4qC4KgCrpqUxg2rSOaumWXXbrNqSoJuvOSapQjZFQdcdDYBVorOB7/HXXhD58ip+\n",
      "XXUrraq1WnQrxZxOrVo8qiYx+Vg0qWq6qwOwSviHN3+XaS+kDgDh3qpSqX82g/7GWVXjg05OCbcr\n",
      "tSp/r/kfMEX5f6+1+dgjBfpj5//FLc1lcxgxrmqk7y7id07VMq5bVSqddTMZX51tZlbVSf+YMKmy\n",
      "rErNUrTvKKTt8tEjBdvwFreq7n+AYorpCqakfyq+EAZWlWqrz1h1NPG6ZxuZVel2/+lOs6qutQoG\n",
      "Oa7w0SbF2m5NVVsiq/pfTTDFdNlT3ey3j81pVk2tAGRY9eph4Ha7m5lVSb927IVZVVOsoqEcV1Q2\n",
      "2mrBNrzZtFBXBassM7Gseux5ZlhX1aVjVmdmVWcweOhupFU1VgBo9yphVm0p9M1WLKhV+WgrRdvy\n",
      "BrVqWEUPJ5jH/HLmGdWa2wizaiyqzsqq3n+EVGWr7tRlcloB4HXVnh1m1RaXasMfCzEojs1HQynO\n",
      "RvOx0YhkVW1aD8M85pcyz+RK2nayrhom1iyrjieDwWDSTVh1uCuT0wqAqKxOs6pqsXdbobA8MTat\n",
      "om250XQje2uDShjmMb+UeZFVe5E+AHIXgMy66tXDIJSqbNXRhcRBfrOq6K/qZ1WlaRSNpmX5Y9G2\n",
      "3G66CFSYX2VY1Ykp9Vedp2fV7SQi1ZhV9/YuomOOs6oWHA1ArWoZtm13pqM/2dofbIwy3e4ibLnI\n",
      "qsEeW8xjfpnzYV4leqSuKtUAUqxaubkZ3FCpXnWfz6q5tKqmS4Om6V6jcAWAImO4OvH/7iNHRWAe\n",
      "8wvPk+hMtK4qnbUqYdXxjU8g1YRVd+v1IfXpp/qng3xaNXmYUdNzQYGwg4NXoweyYh7zC8/r8cPC\n",
      "p3XVyFmrYlYd3QZSHXWzrDoqlXZERTWnVsW5H0ALgNUcZRLnRezkqvE+AFfCqd/pv0o3y6p73Kp7\n",
      "ObYqAACsCz1RApCs6k24VCk3N7eZWfVgPN692LsY747zWVctAwDAuoh0qUo9DwALq9+FVW8mlYw+\n",
      "AGzfP/13kdc+AGVcSgcAsC7fEOlKgGk9q0a3fla9uRk8XCWtOt67oDq9uPC1CqsCAIptVV2OqmnH\n",
      "Vt0KqQ5uBn5aRVYFAIDMrBq7wEqyv2rYCWDipVUAxnt7Y9OsU5+apnkAqwIAkFVJyhVWzpJSdTP2\n",
      "VlGrlko7IqUe7O3BqgCAomdVfdYRqz/pF3/ZqcmsOoJVQW75dl4uv3u21Zcya3X59v30pkP/F/FT\n",
      "3HV4xPbxHjnRdjEOZ9wHipJVY2FVtio/qcrN5PaqO8OqrGcVtSrvXwWrgpxJ9bp0ef7xmVaH/3ym\n",
      "xvyYakRxY3jXh+vZ5oRVYVVp/38iq/5kTh3ITk1aVQJWBXmCS+7uZelDuXxN5Xle/sufsnjK5398\n",
      "DlRIY+3be3bDB37X2/dfyj+e3vHm7K73U6sGz8ObXrOm36i5p83xuhc8q+oks78qT6oPV/FTrcKq\n",
      "YGP48lcQRmlipXH02/k7f0ot+YHNC1eWfbmyG+iPy/9+Pnz79/nHS96c/xbNquIm1lQ8L7fqZaQ5\n",
      "XvjCVwCildWIVZlUJ6PkRQFgVbBpVmU/PgiTXospq6SWr6ff1y9p8GRWZTccHpVZOeBeiJcrM14B\n",
      "8G8Kn9f/PZjHC4+sStLOBEilOhmnXb5Ksip53YoOO7AqyF0FINWqf0Xu9n3pW/XLDxFAY1bldYEs\n",
      "q17CqiCwaqy3asSqDxlO3byrAcKqBUbsrbpOqQCEdQAmXfr9X/zmq/ILy6p+BWBWVvWf9x9WDriM\n",
      "NMcLX/SsKtVWA6s+TCrdLqwKNp3Lc7Y/ie2tepe2tyrYB8XKAbQtz6f0IWdcj2L3k180je6tmoqW\n",
      "Py8ry4Z7q2BVZFU9dnSVb1XX63ZhVbCN5YBf6fv0i4KET0F0b1XWsVWwKiiqVf2Y+4upGCCryrur\n",
      "Aqv2z2bQh1UBAOC5rCofW7VdW4n/aADAGq2a2rMKVgUAgIUqANO9VWTrwCUfAADru8IKIbJYSan9\n",
      "/3NaO5qD/lE/Qa29KHMuO2XhtYUfvfI1Ty631q5RTn/vmgMA0olcNt1xnBlZ1TSfCYXHjjkrGVfF\n",
      "kALx3EUD6WLLzuuaZy2YLpZOLef3rjkAIB3XYjStJqXRKFWS2IbxeLK/f3a2v3/yaBh2JYOaRTRd\n",
      "00NYANafWbpo1jpe9KrcNb2agVmlnwepnwjTZac+mrCHsoE9urrONSdiQtJWO1gs+9mbseZsQp7b\n",
      "bgBygqqqCsMSOuIyahgMm1PJ1E4uca3IWqdY1TYeqU13h8NPn4bDXWrXxyyv9nWNE/GquNxgSJVE\n",
      "9ORblzdb3E0ZTmVarIrlVrOXXUv1ki8401/rda25GYjVjK+23/2NL5ZNndTtJtXMJ1jumgOwbKta\n",
      "wqu+VblWbeHVykZ5lVtVzHqekbCq4e2fjOqv6tbLpmW9tF7VRyf7npFuVUJfnaRYU+Oqrwf/Pb50\n",
      "N/V6ldhgBUueOLyELC27lrCaHxa5mOSg+gtrbjUa4s/DmnPNzSCmOu2e27Raespy/cWmWdX0Pw3E\n",
      "R4m56tccgKVaVc3OqpUNC6uOFTo1xarGyf6wbg2HnVFnRMfOcGjVh/snTKteLNNSq6pq6NWIWcWu\n",
      "sLQ3OAlaLPoOV2uBEMXYK+kNeehVxJIb5+fnJL7s2vTBwbdvPpi64To/fzquEX46zL3mSqOpV4mm\n",
      "qhqp6s2GMmvNw/UOlNgul4/6tT/bdMlWbLlCjJJVI2seOvXuYcJOjzt5uFvVaw7ACioASlCPlLPq\n",
      "hlUAHCt0qufZpdi3//3HOjPqOBw6nVGj/rifVgVgVuVeZWLVY5FVjl1BZgru7S0hq5Lpd1+zV6rE\n",
      "hp7Ltap7b9pOYtmRRwdzVKlm05mEOI2go8R8a96wqlblq0+H/tJ8bs3JtF5hnvZrR08/n55q/SNq\n",
      "1/Ybp9JoapHlkt7UqvKa82fS+QnHAx5aSacu4zUHYPkVgIy66sZl1UCprufGrGqcjZud8a63y8cD\n",
      "OuxSxp3m+MxIsyp9WQKxtrTW3f3t/W3IXVgL0KcFwmW9w2niM8m0jEqzaow/eiXPpXax3BdvlOii\n",
      "fauGjyaB3kwl4lTuVWX+NVcadEnMpx4fv351LWIos9c8Op4+3T4dPX3/Tl837laGJ600/cwibvqa\n",
      "k7tBjDv/kyy+3QDkMasyrTZCrRp+AWCTtOo0PV+qrhOzqrE/7jCbPlJe0H8HdHj0HqlYO+N9I92q\n",
      "/2PvXJgSR7YAHCVhg7MDMrpJDAKmRCcJlMhGIoXKXVSyOGAYixQ4//+P7DndHfLG3a25V29VTkJ4\n",
      "hm5S+PH16e4YcNVd9GezGYVav+86aVD6ia4adM0AES3uSywsnSs1inzDMvRk2dG9ae+U/DKNh/x3\n",
      "ay6UK/pjLE4q6VmAeNnkTvt13vJs23Pm7DfJO9+1olQt+VRN1PzlOhEvpf/CMc8jj/9VXvXdmCpx\n",
      "XAWLViscJxRUYJlCWvEcuaVyPHnVEX00TlUyXLVRL3CRnOryZJ8Q1fC63W4NwYpoXS4b+yenZhyr\n",
      "qs1LghCAdeECVddQuBsyVuCD40HIb/6FP5ySuPKD/AOXq9M7IYNNPO9jBezN2gzVxBsYFgmv64Gq\n",
      "plA1vDdBk4oYjYO1EB44ls2mosw3HhPR4MvFjJpHi4a1/dq6nzvV81f/oIGrWumuGvncGVAFrIo5\n",
      "VfP4f8gAJMYA+Fh9F64qPi4lpSBwKi8WRAZZBW+plYpCGRujqiVTqNYRrGGqqrp5Qjha604m3Sks\n",
      "BuUqiRNTVxOuCsdD2IB10W/1Idz+wgUgUWd1XaeFsfBKCCh/TfsLP30YDO9uhjcDf8G42r863c+g\n",
      "amUzdqvCo6tKwSoxYT3sjrpOuOCAqj6dmPLJ09QoR3YWM9hU5uuPacGXs2seGGfpSCha7eNjx5l7\n",
      "5zYz1apTtSLFblw1UnNYU6FKbFV885jnkcd7ZwDirrrprHoXWQWMBkCsSEBUlXC0DFu4pVbICwQK\n",
      "1yhV2cwqWMJUlTWE6t6BUZtMu1OGVfPgYHmwZ+7tLU8SOYAqUFXYgHXhLEheFTYtStVx2FclIkxi\n",
      "pjd9Or0bDB+GwweSyb27GwxuIK4GB4OrTFcNxsNaXGUHJHWHC7Y402gMVB37pYqlDRer8fFTgpdi\n",
      "qhiSWArvn8ommddTofqo80qmZW+KLyqSUNTXGHCYqvYrmuqrM69uc9Ug3OuMcCP1zl01j4/rqpEx\n",
      "AO+aAqiI2PAXiJ8qh2VCVYG5KqEqAe2hlKRqQ6dIjbqqujSXSxODIXU0NYxjo2bC0mzW9uDp2Oes\n",
      "lvBnRsAVqer60VrQcPqXnT84bmeH67cWjugPFBAzXBWoejdces5oNHK85cMQVBWoepVO1Yvo5CeW\n",
      "V5XlaHIV3svxSy2xDZZ9EZ86ZXXTXXVqidH9U2ouKNJjRkiK8FbNy0qxVKmo1fXu7nrX9pzX8wvs\n",
      "t3LAVcVNBFSN11y8zozi5iNnHvM88viYedXCO2UAKiI2/AlVAacquSuEMwAKLxDcxqla3pwGoNHQ\n",
      "uVBXlb4HBDXMJhCmi2gb1azn42Nj1pzNZk1zT4/LKqUqw6q0iAQq66L/xy/fiDO2+i1P3N4apa5a\n",
      "h3LvYRmNGvvDf0RVDMO2DTIZnq5UVXFSLSmUbWJUJbeUWdPH6Av8Oixeut3pCNapM5IJmDb7p9Rc\n",
      "5ln3VKSviuUA5O01L6mSWCkVhfqaUHV37d179u4rHD1w1cgBS1KVWCtr/08iPJ2w1KqYZwDy+OgZ\n",
      "gMy5VQmo6smtNb2e1qOvMtpGBjHjzyTfD6iqMDktFHge06wcf6j4vVUkHaAcqrygZlO1EaGqai4B\n",
      "qqap1ZCpjjOaO83nZ+cYYtaetc3a0ky4Kpi7xMgKrkr+1p+gsfmEy3jhYpq1D0TF8FCa/DXdVb8M\n",
      "LWTqBqv/iKqfQE1tWbYTqkp4KAabNFfdm81eWSKV/zwYfOZdx5nTaFCq+vun1FyRCUBVviI/1rEn\n",
      "sP4o8xU6dlVRtte8oND0SX3th3fv4EiAObpqKXTA0l21RCkq8u6GqxOXF+kdMah2xjHPI4/3zgBk\n",
      "u2qIq3oqJqfsKx/haptrY9QsPc5UfMZ4y1WBqgSjBZFn/Veb3ip6pR4WD9UEVY10qqrQ/G+aPfPM\n",
      "BL6ApwJQvNoKseodv86aPeDtMpoCUKsiHgzGVWlReuqHA7AaGQqwYVOmq35pAFG5p3viq6NR/WEL\n",
      "VduVyCkHLJJIRaqyUzfhSlU1XK5fNuxdCs+dQhknOQDp02Xn9rZz+dt4Pr+HZT53jsTtNZeKtP//\n",
      "hMfRozx/iPNeeZ7KaqMopdXcL1xS6RcLqWrba/t8va4Cz8mBwwxAqFhG1aDmpOIuEdMJ9gtOfKjC\n",
      "nQl52H2j5nnk8TFcVQmPV/W7q95MAASNMy9KVSSA0ogBtM0ZsNhtFhl4BdGhGQCaWkWOkv4r1uTH\n",
      "K4ETC0mqqqlULYOq9jRT+9qDlu+ImFrTWi2en5/BVWdtrdeEF0RTABeUqgyrCx5ISpY+w+sTifHT\n",
      "uD/uu56f4ytl5VWHv4JbIhMWIxIvp8PBFqpGpsdaHI7uQqoWi0aRXorwdp4ohsolF0pVNu2I7q3O\n",
      "EKsAVfdT57bT6fy47fzWZ646L4fyqmnGV+b9rily+sSNhWalAGjNyRB9sYHfqrEErmqzDIB97rGf\n",
      "IeKqQbEbqvo7kx+VF9Len3AUq7AQqCJV4c5L+HPnVM3jQ+ZVhX87XjWc87JiVMX5hm2jkaSq4U8T\n",
      "aqe/KQ5TVbC3inR3F+Eissd9Vy2ovPr3qaotTa15BpfptOt53dHc6T2vVisiqzXkbW2pxakqM6wq\n",
      "jKqhoM1/v/3f6nsB10Qx1VWHOijqAj9M6Z5gtb6PIwCyqRqaYWBxErAbqToe23gLLgtQVY81/YOy\n",
      "mauWQjNR+eXs6wxzAC/8JUD1B3D19pJvMarqYug9UtgkHz0+/kldNRzoqvBwUU6vOSla0EkfKHVV\n",
      "DBvWNmHqPe2tCooNUTU0N2G6cVVqqxSqzFWn4hvHPI88PkYGIDIGoMxMdTtXrUhXQsJVgaoqNPqb\n",
      "VpSqPkyzqPpvA6iqN3AlVwFVe2bN1DTtrNfuaXhy1Vevt3JRVr3jY3gIUwDRaavqxZFMT9KkMFeN\n",
      "qioBar9Fudr34v3wSVd1fKoyXX3Zzx5Z1axEhrhbnAy/AEhV2T63DbgUVphVtdJdNbb3HrrqrDZd\n",
      "fO6gq94iWH8FqrZYYjXUl55CVYFZKR8+X1eJGawkb6m5pAsC7e0L8qqYAsBpq7at+3loUiyjaqzm\n",
      "11RQ2eBgZqpIVVyuNxUv5XnVPD5yBiA8XjXVVet7jaSqchwZQshFUquBq6JuHjZDVDWAqkwnfzZV\n",
      "LZXylCzByCoZ/0n1We9M077edi4vb041zXTd1cpBrPYAtmfwvBzNVCBVfa4qzFWfmKm2yAWJuiKr\n",
      "F25Ip7sqjqliVOV41NVsqooJqpZXLUJVYOuKXjCravlgirpqbO+DGZHV390BAvUHkvXHgKYAWnNH\n",
      "3J67kCVw0j8fCyW/Wc4yEzqRVUXeUnMFqTpGV7Xs9a69Pt9d27tAVe/Ctg21KG5+EqirllKoSrEK\n",
      "XyOXzLnATYW56uQ6NLAqzwDk8SGpmnTVtGkAdQtPlxSJCVKVQ6jCZjJNcVWkasEIHse4qGNY1k+n\n",
      "asFHaoSq5d7Zdzz7/9m3b7ed/bubwUDTZiQF8Hw8A1UFqn6PZQDaxTKhKuUqzatSqj5RVe0TnrbY\n",
      "GIBQQzrtrHSnw1GIqhx3v42qR7UwXUTR4grMVVcrYzVfWas5qipniQlZxbJjexvEVWdNpCpBauf2\n",
      "duAnVqMDXpM1l+lo1ZP4BFGZ5AUSVA2XrTRI818aM6rau+v1bhU0tV0o+pLpF8tcNVbzie+qvK+p\n",
      "7gSpio9PrsWQrIr5mQDz+IAZgE1eFXuryrFBAAFUd3Z2YliFLz52Sbucjp7qxah6SKlabOrBGADb\n",
      "uLho4jx2Iq0/h6b+2xsFnUIVr0JUBXB+10BVCVUfbgYPWuGrpjVr6LDafzTtO3A1QdXyxlZl5qo8\n",
      "hSph6oq2/letv9g7H6e0lS2OY5Pggrchrb6EJITIBAwoWjuowwXR+hDqBX88Rt51Xv//P+Sds5uE\n",
      "hGwIVlu9M/mGQowNu1D49JuzZ8/e/l2fk5A43/CtZarO0qnqpZESRtVbpOoePLANrOpdrkNi8qi6\n",
      "yOQk+iOj6rT5MbCq7Y/1UGrVqp4DVRsAUG153j0LrKo8qvptq5aX6yt1FhGAo08tTYp3Gu+s5Z4T\n",
      "ylSkaold/W/cjxhVEaqjlJ5nyvROvGokXzVWttrqbKGiWMWPfQk++c0OrsbXDFO1Yx4c2NZBqWSY\n",
      "oWEsYa915jGVQ9XmS71qkxE1GgEAqlKoXk4mm21H6fe3zdNTobhvmvNxC8Ottf/Uol7VsCVZ9twq\n",
      "6KFAR/1LfwVQDek2StVSix9XDVEVrOrNSqouIoaUqmir96hXZUKruoKqYSNILBYBmE690ar/eaNV\n",
      "dX+0alXPNQng2bjeDfrCnhio2oBN4lA1aDvf0by4KnjVPfCqT3ar1ckTPdbp0oKqkZ7fjPwIwIhi\n",
      "FaC68Ko3JO09z5TpXYxWRXIA5GWrWvSSN4txqo6qHbslGrYdpqrVxAkCZsuMZgGc5Y4oUTuwBVRt\n",
      "vlYEIIBqM+RVjX3mVd2JZ1bdOY2KAlcu9j2vupRZxagKXEW0yg+A08LA6Ts7juO0cTtps+pTdwDV\n",
      "dbxqiKr3wNSVo1WtHT/FnfhURa8KOL39QTesq5JIVTg7dLpOM6uQqwbLrAKs/uvez6wyUhyfrFOv\n",
      "ank89dPuSZGGW3VtVc8FS2WBVYwA7D0dtYRyyyCE12mPqks9n41GgVcdjWb0R0ZV/DHzqpn+GaNV\n",
      "nDoAYa9q2gfgPk1riaolMhoJdku27Vx4rN8DJl6KC3GqJnjVl1N1oRBVH+miquhVway2lXbtoc6g\n",
      "ejtHqDbAqy4VAqBU9aAKXhWo2js83Ng47P4Z2Q771frtQ5SqJs+rqoDSf3uZVTdAWGE1VcMCqjLd\n",
      "/rj7G7cvFxfzOz5VTf9sH8lEn/rqerMAtspjf7BKJ6t7rkpF5kojf68g0YNFSV3Vc71DI6uFgnA0\n",
      "PWpVNVW1qnkuVc0QVUM9v49QlUn0veo9SXvPM2V6Q6rmeV7V8L1qaGaVnwcauWRnn3bBFm3bNG07\n",
      "RtX4mtCeV/3lVA1VrTZqXxu1hotUnUza7W237lH1onXpXtKFrKNQZREAJs+r9re2chsbGzs7W1uH\n",
      "WMivT3WoxCIAJs+rfp4xr/oATIXtRllFVXFxGUypWrn7MYaN3Y9/YFT1rsKjKrYNZy/OhQtullpF\n",
      "3ar48Y8/PorK3W0QVtVTeq7tUldaxOUQ8MnogjM6s6q7Gq/ni8bLLQGu/4mowaVKGT5hVkfiQRWa\n",
      "9akocA1yAAAH5klEQVQa7XmefbSIKC2oKomE7eRJSs8zZXoXXpVTXzV9FkDLo2ouZwNZzXSqni3m\n",
      "APBmAai5HC2kIkiiRHdxJoDBDng1rEusFkDkl6upKgM4a1+BqtStnrutOosr3l7sI1QbX2vL1VVM\n",
      "VTZkLwigaeO/Tq+6hzvAVAZTvP+zfwxbVxkvUZXrVQefVYBp7uoCr/7hZji9ZKp2xCWvWqncwebd\n",
      "KuMvF3N4SPKq0bN1Ik8XUoyBMp0yowrSolTl9FzTqS1tXIfm/Jev6RFOAADbXmCRSB2rDFzVNAzb\n",
      "a5bFhyprFqm69LrJbJSoGcm8aqZ3T9XktQDSuDr3qWqIll1Np+oRna+ayyXMWNUEnKwqYB0AtktE\n",
      "VgwADrAa1uxAeD+Ur9oUgi3sVR+BqrVJrQbO1J1sun55kYuxO3FxesByAACoaiy8ahmoenrc7W5t\n",
      "dYfHx4py7BwrsCFf/wSq3qZRFesA9GSKU7YBVJ9D1WlloR+V+QOWhZmuoGohgtXiNKpxglXl9VzS\n",
      "5EbjOx2yqjZ3Qc3qdeM7xlobMmeRlSWiS4LV1OgnS8P1xPRVVO3Eek6kZKpKGVUzvf/RqsQ6AOlZ\n",
      "TRgEmAuYAmC3hHSqtvRPqfNVodWyyHblksRKq/gHVP9AZN+nanhRlUjV6suvyFSMAABIGVJvLy7m\n",
      "SNXLr5c1TYhTdWFWkaoOWNRhtzsc9IeDwRCkOG3mVccRqu7wvWpvqI09rN7IyqDX/0mqVirz8TyJ\n",
      "qjtm3PHp6hJVfaiOVT1+dsysShYYU4pRwCm94QBW43s1ngEQb5tImiGXyyq8idbZmcXH6k6IqlE9\n",
      "JEH1gaT3PFOmt42rrqivaqybMNqxzeo6lQA7ZTultgp1n0Riu16hav8AK6rKCgCE9zlU1SIrrNS8\n",
      "0arJ5ubEnXtQvWhNJpf4m9gKKwFVA6/q9JW+M+wqwbpTjuI4TjfmVUt27F0m7d7n3mDQM2bIVLgK\n",
      "74H620hVNV78maRQ9RO951IV245RdUuOW9U6La2ix8+OfUBkCVH6vcEsKgUqPlxLnBVWSIyLGB7F\n",
      "JWp0Ip99+GTw46rQLOFSNT9b6/qf3/NMmd6DV02dW/U7ZJToUn8Grf8Pu4a3vIrh2VPJPxDZ99MU\n",
      "/MwFlBZdDfCSWtXzTdRkfz4ef5mb+2hdgbbx1QCBqgyqzKtendbbmFk1PPFTVR/q2wOn7QxOYl6V\n",
      "8w13hsjRQQ/XAIDH/gBujKqGFl8EOkbVpwhVKxSyT1yvyqEqsLMZgmplkVWlc86Of0IMFb0qM6ks\n",
      "xgoPpspdu5pD1UDC3ocjgetV7SSvSvI3PKje6Gv1PFOm9xlXfZP1VTCuKhFvV/PsKDsgikJgXsP7\n",
      "wQorBstewP8UytGVq12X5qsiVL99A7D6uqy5bnzlaqRqyKte1esOUnVwwpCKaUlAVac93F7Dq+qK\n",
      "Ar5WUYbDAVMf/2z3thVFy6c6PqDqFLanCt5wj92v61WX3Kp/+S/H8/H5jg/carHBvCq61O+N/143\n",
      "ipLBgypZRdW8+eHMlp/lVfludaaTzKtm+idQlbsWgLDKqzZfG6bNhV0tezWrMXQKe+WSwQ5gbMBg\n",
      "ByL7i5Wr5YXUCFUNozZxKVS/+dqkbHUntThUl+OqV6dX4FWHQNX7YE4V86rb63hVuAxW1d5gQJcD\n",
      "VIYKpeu2ciLp+XXiqk8Mq8Efer+2V0W3qhajVrWqciY5JTg+SVZ36fV/YFZ3Je661au9KlEPPpyZ\n",
      "xrO86mIuQPjyf+2eZ8r0hnHVpLUAftf1f5TQUskoi8EuG+anB1gNa3YgvB+iqrZQlKqAVTq1ioPV\n",
      "uCM3BLMc8qqaMB6PTwaO4gy354Em4FWd4QR31/mGE3y3Jemz2usNFGpeE/5NOF6Vp2dQFTkkFwOr\n",
      "Oq7KhIOmZDZpmrRbRLAiW4u7kqat1/MlaWd7Ry31WVTVCwUpwtWZlBhEyJTpHXrV8nJ91deNq65n\n",
      "bkt0ZSocmjJK3iJVuVLoQE6iB8L7IaqyaoZMUm4JlfK+G2Yqpeqmuy/zXiFQNeRV4dl67S5cuHfb\n",
      "KhbmB+n6eRcMZ/c8H54PtNbVKPV58YlJyV61JNItJKxo8wyqUojmDatojatVLMOnJw0b6Ql2VYZP\n",
      "CLwVmM0vc0Oq6V6VkOre2YFV5jaLc06Tep6/n9H46s3sPv/cnmfK9D4iAKGwqpG4cN8rw3QJgKKR\n",
      "coAvC1+DSkuiwvc/t/xruelOwlT9tjlxmzL3maJeFbGqtM/b5+cKvluMqso5SomlX770Gx7zqkl6\n",
      "DlW9WVH6Yp+TOJrcc6KrQWAFXfdPeVWSb50dmU2J0yxJpiqmEeRZm/l8whOLGVUzvTuqqvGaVXJa\n",
      "XPVXk/VnZHnDblR6Lk5r+dF1A65OXPdRTnh5Ma/KVgXAbAmfqr/sG84ZbyLrSbRT/WLK2a/d8zWb\n",
      "XUnV39HzTJleO66auG5VClSbwvuSpUuMe5gqRnI8Fywbj/uuW6u57v6jISe+OhNwGvWqwTLWPlUT\n",
      "DB95aUY66USnGD0DLtj2y87+/T3HZkmh0HrTnmfK9Npe1UtXjcytkp8xWtWMErb5ZjbWIhL9TwLv\n",
      "8oVcQnjBoBVT5FVpY0bHMryVABGlEnOoDKRYDJ+qJIql2JavWi/9R2kKUkFcqRK/cdp26tn+yTu8\n",
      "s39pz7ndhmZFsVDuvG3PM2X69V7VeObkKg4j38DIViMV6/8/AFlxHgUqOM/nAAAAAElFTkSuQmCC\n",
      "\n",
      "--===============6663892711022936884==--\n",
      "\n"
     ]
    }
   ],
   "source": [
    "with open(attachment_path, 'rb') as ap:\n",
    "...     message.add_attachment(ap.read(),\n",
    "...                            maintype=mime_type,\n",
    "...                            subtype=mime_subtype,\n",
    "...                            filename=os.path.basename(attachment_path))\n",
    "... \n",
    "print(message)"
   ]
  },
  {
   "cell_type": "markdown",
   "metadata": {},
   "source": [
    "The entire message can still be serialized as a text string, including the image that we attached! The email message as a whole has the MIME type \"multipart/mixed\". Each part of the message has its own MIME type. The message body is still there as a \"text/plain\" part, and the image attachment is a \"image/png\" part. Cool!\n",
    "\n",
    "Now, how do we send this email message? That's coming up!"
   ]
  },
  {
   "cell_type": "markdown",
   "metadata": {},
   "source": [
    "### Sending the Email Through an SMTP Server"
   ]
  },
  {
   "cell_type": "markdown",
   "metadata": {},
   "source": [
    "Sending the Email Through an SMTP Server\n",
    "\n",
    "As we called out, to send emails, our computers use the Simple Mail Transfer Protocol (SMTP) (https://tools.ietf.org/html/rfc2821.html). This protocol specifies how computers can deliver email to each other. There are certain steps that need to be followed to do this correctly. But, as usual, we won't do this manually; we’ll send the message using the built-in smtplib Python module (https://docs.python.org/3/library/smtplib.html). Let's start by importing the module."
   ]
  },
  {
   "cell_type": "code",
   "execution_count": 4,
   "metadata": {},
   "outputs": [],
   "source": [
    "import smtplib"
   ]
  },
  {
   "cell_type": "markdown",
   "metadata": {},
   "source": [
    "With smtplib, we'll create an object that will represent our mail server, and handle sending messages to that server. If you’re using a Linux computer, you might already have a configured SMTP server like postfix or sendmail. But maybe not. Let's create a smtplib.SMTP object and try to connect to the local machine."
   ]
  },
  {
   "cell_type": "code",
   "execution_count": 5,
   "metadata": {},
   "outputs": [
    {
     "ename": "ConnectionRefusedError",
     "evalue": "[WinError 10061] No connection could be made because the target machine actively refused it",
     "output_type": "error",
     "traceback": [
      "\u001b[1;31m---------------------------------------------------------------------------\u001b[0m",
      "\u001b[1;31mConnectionRefusedError\u001b[0m                    Traceback (most recent call last)",
      "\u001b[1;32m<ipython-input-5-7ec9e1ace0e4>\u001b[0m in \u001b[0;36m<module>\u001b[1;34m\u001b[0m\n\u001b[1;32m----> 1\u001b[1;33m \u001b[0mmail_server\u001b[0m \u001b[1;33m=\u001b[0m \u001b[0msmtplib\u001b[0m\u001b[1;33m.\u001b[0m\u001b[0mSMTP\u001b[0m\u001b[1;33m(\u001b[0m\u001b[1;34m'localhost'\u001b[0m\u001b[1;33m)\u001b[0m\u001b[1;33m\u001b[0m\u001b[1;33m\u001b[0m\u001b[0m\n\u001b[0m",
      "\u001b[1;32mD:\\Anacona\\envs\\tensorflow\\lib\\smtplib.py\u001b[0m in \u001b[0;36m__init__\u001b[1;34m(self, host, port, local_hostname, timeout, source_address)\u001b[0m\n\u001b[0;32m    249\u001b[0m \u001b[1;33m\u001b[0m\u001b[0m\n\u001b[0;32m    250\u001b[0m         \u001b[1;32mif\u001b[0m \u001b[0mhost\u001b[0m\u001b[1;33m:\u001b[0m\u001b[1;33m\u001b[0m\u001b[1;33m\u001b[0m\u001b[0m\n\u001b[1;32m--> 251\u001b[1;33m             \u001b[1;33m(\u001b[0m\u001b[0mcode\u001b[0m\u001b[1;33m,\u001b[0m \u001b[0mmsg\u001b[0m\u001b[1;33m)\u001b[0m \u001b[1;33m=\u001b[0m \u001b[0mself\u001b[0m\u001b[1;33m.\u001b[0m\u001b[0mconnect\u001b[0m\u001b[1;33m(\u001b[0m\u001b[0mhost\u001b[0m\u001b[1;33m,\u001b[0m \u001b[0mport\u001b[0m\u001b[1;33m)\u001b[0m\u001b[1;33m\u001b[0m\u001b[1;33m\u001b[0m\u001b[0m\n\u001b[0m\u001b[0;32m    252\u001b[0m             \u001b[1;32mif\u001b[0m \u001b[0mcode\u001b[0m \u001b[1;33m!=\u001b[0m \u001b[1;36m220\u001b[0m\u001b[1;33m:\u001b[0m\u001b[1;33m\u001b[0m\u001b[1;33m\u001b[0m\u001b[0m\n\u001b[0;32m    253\u001b[0m                 \u001b[0mself\u001b[0m\u001b[1;33m.\u001b[0m\u001b[0mclose\u001b[0m\u001b[1;33m(\u001b[0m\u001b[1;33m)\u001b[0m\u001b[1;33m\u001b[0m\u001b[1;33m\u001b[0m\u001b[0m\n",
      "\u001b[1;32mD:\\Anacona\\envs\\tensorflow\\lib\\smtplib.py\u001b[0m in \u001b[0;36mconnect\u001b[1;34m(self, host, port, source_address)\u001b[0m\n\u001b[0;32m    334\u001b[0m         \u001b[1;32mif\u001b[0m \u001b[0mself\u001b[0m\u001b[1;33m.\u001b[0m\u001b[0mdebuglevel\u001b[0m \u001b[1;33m>\u001b[0m \u001b[1;36m0\u001b[0m\u001b[1;33m:\u001b[0m\u001b[1;33m\u001b[0m\u001b[1;33m\u001b[0m\u001b[0m\n\u001b[0;32m    335\u001b[0m             \u001b[0mself\u001b[0m\u001b[1;33m.\u001b[0m\u001b[0m_print_debug\u001b[0m\u001b[1;33m(\u001b[0m\u001b[1;34m'connect:'\u001b[0m\u001b[1;33m,\u001b[0m \u001b[1;33m(\u001b[0m\u001b[0mhost\u001b[0m\u001b[1;33m,\u001b[0m \u001b[0mport\u001b[0m\u001b[1;33m)\u001b[0m\u001b[1;33m)\u001b[0m\u001b[1;33m\u001b[0m\u001b[1;33m\u001b[0m\u001b[0m\n\u001b[1;32m--> 336\u001b[1;33m         \u001b[0mself\u001b[0m\u001b[1;33m.\u001b[0m\u001b[0msock\u001b[0m \u001b[1;33m=\u001b[0m \u001b[0mself\u001b[0m\u001b[1;33m.\u001b[0m\u001b[0m_get_socket\u001b[0m\u001b[1;33m(\u001b[0m\u001b[0mhost\u001b[0m\u001b[1;33m,\u001b[0m \u001b[0mport\u001b[0m\u001b[1;33m,\u001b[0m \u001b[0mself\u001b[0m\u001b[1;33m.\u001b[0m\u001b[0mtimeout\u001b[0m\u001b[1;33m)\u001b[0m\u001b[1;33m\u001b[0m\u001b[1;33m\u001b[0m\u001b[0m\n\u001b[0m\u001b[0;32m    337\u001b[0m         \u001b[0mself\u001b[0m\u001b[1;33m.\u001b[0m\u001b[0mfile\u001b[0m \u001b[1;33m=\u001b[0m \u001b[1;32mNone\u001b[0m\u001b[1;33m\u001b[0m\u001b[1;33m\u001b[0m\u001b[0m\n\u001b[0;32m    338\u001b[0m         \u001b[1;33m(\u001b[0m\u001b[0mcode\u001b[0m\u001b[1;33m,\u001b[0m \u001b[0mmsg\u001b[0m\u001b[1;33m)\u001b[0m \u001b[1;33m=\u001b[0m \u001b[0mself\u001b[0m\u001b[1;33m.\u001b[0m\u001b[0mgetreply\u001b[0m\u001b[1;33m(\u001b[0m\u001b[1;33m)\u001b[0m\u001b[1;33m\u001b[0m\u001b[1;33m\u001b[0m\u001b[0m\n",
      "\u001b[1;32mD:\\Anacona\\envs\\tensorflow\\lib\\smtplib.py\u001b[0m in \u001b[0;36m_get_socket\u001b[1;34m(self, host, port, timeout)\u001b[0m\n\u001b[0;32m    305\u001b[0m             \u001b[0mself\u001b[0m\u001b[1;33m.\u001b[0m\u001b[0m_print_debug\u001b[0m\u001b[1;33m(\u001b[0m\u001b[1;34m'connect: to'\u001b[0m\u001b[1;33m,\u001b[0m \u001b[1;33m(\u001b[0m\u001b[0mhost\u001b[0m\u001b[1;33m,\u001b[0m \u001b[0mport\u001b[0m\u001b[1;33m)\u001b[0m\u001b[1;33m,\u001b[0m \u001b[0mself\u001b[0m\u001b[1;33m.\u001b[0m\u001b[0msource_address\u001b[0m\u001b[1;33m)\u001b[0m\u001b[1;33m\u001b[0m\u001b[1;33m\u001b[0m\u001b[0m\n\u001b[0;32m    306\u001b[0m         return socket.create_connection((host, port), timeout,\n\u001b[1;32m--> 307\u001b[1;33m                                         self.source_address)\n\u001b[0m\u001b[0;32m    308\u001b[0m \u001b[1;33m\u001b[0m\u001b[0m\n\u001b[0;32m    309\u001b[0m     \u001b[1;32mdef\u001b[0m \u001b[0mconnect\u001b[0m\u001b[1;33m(\u001b[0m\u001b[0mself\u001b[0m\u001b[1;33m,\u001b[0m \u001b[0mhost\u001b[0m\u001b[1;33m=\u001b[0m\u001b[1;34m'localhost'\u001b[0m\u001b[1;33m,\u001b[0m \u001b[0mport\u001b[0m\u001b[1;33m=\u001b[0m\u001b[1;36m0\u001b[0m\u001b[1;33m,\u001b[0m \u001b[0msource_address\u001b[0m\u001b[1;33m=\u001b[0m\u001b[1;32mNone\u001b[0m\u001b[1;33m)\u001b[0m\u001b[1;33m:\u001b[0m\u001b[1;33m\u001b[0m\u001b[1;33m\u001b[0m\u001b[0m\n",
      "\u001b[1;32mD:\\Anacona\\envs\\tensorflow\\lib\\socket.py\u001b[0m in \u001b[0;36mcreate_connection\u001b[1;34m(address, timeout, source_address)\u001b[0m\n\u001b[0;32m    726\u001b[0m     \u001b[1;32mif\u001b[0m \u001b[0merr\u001b[0m \u001b[1;32mis\u001b[0m \u001b[1;32mnot\u001b[0m \u001b[1;32mNone\u001b[0m\u001b[1;33m:\u001b[0m\u001b[1;33m\u001b[0m\u001b[1;33m\u001b[0m\u001b[0m\n\u001b[0;32m    727\u001b[0m         \u001b[1;32mtry\u001b[0m\u001b[1;33m:\u001b[0m\u001b[1;33m\u001b[0m\u001b[1;33m\u001b[0m\u001b[0m\n\u001b[1;32m--> 728\u001b[1;33m             \u001b[1;32mraise\u001b[0m \u001b[0merr\u001b[0m\u001b[1;33m\u001b[0m\u001b[1;33m\u001b[0m\u001b[0m\n\u001b[0m\u001b[0;32m    729\u001b[0m         \u001b[1;32mfinally\u001b[0m\u001b[1;33m:\u001b[0m\u001b[1;33m\u001b[0m\u001b[1;33m\u001b[0m\u001b[0m\n\u001b[0;32m    730\u001b[0m             \u001b[1;31m# Break explicitly a reference cycle\u001b[0m\u001b[1;33m\u001b[0m\u001b[1;33m\u001b[0m\u001b[1;33m\u001b[0m\u001b[0m\n",
      "\u001b[1;32mD:\\Anacona\\envs\\tensorflow\\lib\\socket.py\u001b[0m in \u001b[0;36mcreate_connection\u001b[1;34m(address, timeout, source_address)\u001b[0m\n\u001b[0;32m    714\u001b[0m             \u001b[1;32mif\u001b[0m \u001b[0msource_address\u001b[0m\u001b[1;33m:\u001b[0m\u001b[1;33m\u001b[0m\u001b[1;33m\u001b[0m\u001b[0m\n\u001b[0;32m    715\u001b[0m                 \u001b[0msock\u001b[0m\u001b[1;33m.\u001b[0m\u001b[0mbind\u001b[0m\u001b[1;33m(\u001b[0m\u001b[0msource_address\u001b[0m\u001b[1;33m)\u001b[0m\u001b[1;33m\u001b[0m\u001b[1;33m\u001b[0m\u001b[0m\n\u001b[1;32m--> 716\u001b[1;33m             \u001b[0msock\u001b[0m\u001b[1;33m.\u001b[0m\u001b[0mconnect\u001b[0m\u001b[1;33m(\u001b[0m\u001b[0msa\u001b[0m\u001b[1;33m)\u001b[0m\u001b[1;33m\u001b[0m\u001b[1;33m\u001b[0m\u001b[0m\n\u001b[0m\u001b[0;32m    717\u001b[0m             \u001b[1;31m# Break explicitly a reference cycle\u001b[0m\u001b[1;33m\u001b[0m\u001b[1;33m\u001b[0m\u001b[1;33m\u001b[0m\u001b[0m\n\u001b[0;32m    718\u001b[0m             \u001b[0merr\u001b[0m \u001b[1;33m=\u001b[0m \u001b[1;32mNone\u001b[0m\u001b[1;33m\u001b[0m\u001b[1;33m\u001b[0m\u001b[0m\n",
      "\u001b[1;31mConnectionRefusedError\u001b[0m: [WinError 10061] No connection could be made because the target machine actively refused it"
     ]
    }
   ],
   "source": [
    "mail_server = smtplib.SMTP('localhost')"
   ]
  },
  {
   "cell_type": "markdown",
   "metadata": {},
   "source": [
    "Oops! This error means that there's no local SMTP server configured. But don't panic! You can still connect to the SMTP server for your personal email address. Most personal email services have instructions for sending email through SMTP; just search for the name of your email service and \"SMTP connection settings\".\n",
    "\n",
    "When setting this up, there are a couple of things that you'll probably need to do: Use a secure transport layer and authenticate to the service using a username and password. Let's see what this means in practice.\n",
    "\n",
    "You can connect to a remote SMTP server using Transport Layer Security (TLS). An earlier version of the TLS protocol was called Secure Sockets Layer (SSL), and you’ll sometimes see TLS and SSL used interchangeably. This SSL/TLS is the same protocol that's used to add a secure transmission layer to HTTP, making it HTTPS. Within the smtplib, there are two classes for making connections to an SMTP server: The SMTP class (https://docs.python.org/3/library/smtplib.html#smtplib.SMTP) will make a direct SMTP connection, and the SMTP_SSL class (https://docs.python.org/3/library/smtplib.html#smtplib.SMTP_SSL) will make a SMTP connection over SSL/TLS. Like this:"
   ]
  },
  {
   "cell_type": "code",
   "execution_count": null,
   "metadata": {},
   "outputs": [],
   "source": []
  },
  {
   "cell_type": "code",
   "execution_count": 31,
   "metadata": {},
   "outputs": [],
   "source": [
    "mail_server = smtplib.SMTP('smtp.gmail.com', 587)"
   ]
  },
  {
   "cell_type": "markdown",
   "metadata": {},
   "source": [
    "If you want to see the SMTP messages that are being sent back and forth by the smtplib module behind the scenes, you can set the debug level on the SMTP or SMTP_SSL object. The examples in this lesson won’t show the debug output, but you might find it interesting!"
   ]
  },
  {
   "cell_type": "code",
   "execution_count": 32,
   "metadata": {},
   "outputs": [],
   "source": [
    "mail_server.set_debuglevel(1)"
   ]
  },
  {
   "cell_type": "markdown",
   "metadata": {},
   "source": [
    "Now that we’ve made a connection to the SMTP server, the next thing we need to do is authenticate to the SMTP server. Typically, email providers wants us to provide a username and password to connect. Let's put the password into a variable so it's not visible on the screen."
   ]
  },
  {
   "cell_type": "code",
   "execution_count": 38,
   "metadata": {},
   "outputs": [
    {
     "name": "stdout",
     "output_type": "stream",
     "text": [
      "Password? ········\n"
     ]
    }
   ],
   "source": [
    "import getpass\n",
    "mail_pass = getpass.getpass('Password? ')"
   ]
  },
  {
   "cell_type": "markdown",
   "metadata": {},
   "source": [
    "The example above uses the getpass module (https://docs.python.org/3/library/getpass.html) so that passers-by won't see the password on the screen. Watch out, though; the mail_pass variable is still just an ordinary string!"
   ]
  },
  {
   "cell_type": "code",
   "execution_count": 41,
   "metadata": {},
   "outputs": [
    {
     "name": "stdout",
     "output_type": "stream",
     "text": [
      "xb\n"
     ]
    }
   ],
   "source": [
    "print(mail_pass)"
   ]
  },
  {
   "cell_type": "markdown",
   "metadata": {},
   "source": [
    "Now that we have the email user and password configured, we can authenticate to the email server using the SMTP object's login method (https://docs.python.org/3/library/smtplib.html#smtplib.SMTP.login)."
   ]
  },
  {
   "cell_type": "code",
   "execution_count": 44,
   "metadata": {},
   "outputs": [],
   "source": [
    "#mail_server.login(sender, mail_pass)"
   ]
  },
  {
   "cell_type": "markdown",
   "metadata": {},
   "source": [
    "If the login attempt succeeds, the login method will return a tuple of the SMTP status code (https://tools.ietf.org/html/rfc4954#section-6) and a message explaining the reason for the status. If the login attempt fails, the module will raise a SMTPAuthenticationError (https://docs.python.org/3.8/library/smtplib.html#smtplib.SMTPAuthenticationError) exception.\n",
    "\n",
    "If you wrote a script to send an email message, how would you handle this exception?\n",
    "\n",
    "Sending your message\n",
    "Alright! We're connected and authenticated to the SMTP server. Now, how do we send the message?"
   ]
  },
  {
   "cell_type": "code",
   "execution_count": 46,
   "metadata": {},
   "outputs": [],
   "source": [
    "#mail_server.sendmail(message)\n"
   ]
  },
  {
   "cell_type": "markdown",
   "metadata": {},
   "source": [
    "Okay, well that last bit was pretty easy! We did the hard part first! The send_message method (https://docs.python.org/3/library/smtplib.html#smtplib.SMTP.send_message) returns a dictionary of any recipients that weren’t able to receive the message. Our message was delivered successfully, so send_message returned an empty dictionary. Finally, now that the email is sent, let's close the connection to the mail server."
   ]
  },
  {
   "cell_type": "code",
   "execution_count": 48,
   "metadata": {},
   "outputs": [],
   "source": [
    "#mail_server.quit()"
   ]
  },
  {
   "cell_type": "markdown",
   "metadata": {},
   "source": [
    "And there you have it! We covered a lot in this lesson, so let's recap! First, we constructed an email message by using the built-in email module's (https://docs.python.org/3/library/email.html) EmailMessage class (https://docs.python.org/3/library/email.message.html). Next, we added an attachment to our message with the help of the built-in mimetypes module (https://docs.python.org/3/library/mimetypes.html). Finally, we connected to a SMTP server and sent the email using the smtplib module's 's SMTP_SSL class (https://docs.python.org/3/library/smtplib.html#smtplib.SMTP_SSL).\n"
   ]
  },
  {
   "cell_type": "code",
   "execution_count": null,
   "metadata": {},
   "outputs": [],
   "source": []
  },
  {
   "cell_type": "code",
   "execution_count": 39,
   "metadata": {},
   "outputs": [
    {
     "name": "stdout",
     "output_type": "stream",
     "text": [
      "Password? ········\n",
      "Login success\n",
      "Email has been sent to  mdbadiuzzamanbiplob@gmail.com\n"
     ]
    }
   ],
   "source": [
    "#https://www.youtube.com/watch?v=Tx88yFSa5vo\n",
    "#send email using python\n",
    "#less secure app\n",
    "\n",
    "import smtplib\n",
    "import getpass\n",
    "\n",
    "sender_email = \"sender_email\"\n",
    "rec_email = \"rec_email\"\n",
    "password = getpass.getpass('Password? ')\n",
    "message = message\n",
    "\n",
    "server = smtplib.SMTP('smtp.gmail.com', 587)\n",
    "server.starttls()\n",
    "server.login(sender_email, password)\n",
    "print(\"Login success\")\n",
    "server.sendmail(sender_email, rec_email, message)\n",
    "print(\"Email has been sent to \", rec_email)"
   ]
  },
  {
   "cell_type": "code",
   "execution_count": 40,
   "metadata": {},
   "outputs": [
    {
     "name": "stdout",
     "output_type": "stream",
     "text": [
      "Password? ········\n",
      "Login success\n",
      "Email has been sent to  mdbadiuzzamanbiplob@gmail.com\n"
     ]
    },
    {
     "data": {
      "text/plain": [
       "(221, b'2.0.0 closing connection o192sm3912217pfg.14 - gsmtp')"
      ]
     },
     "execution_count": 40,
     "metadata": {},
     "output_type": "execute_result"
    }
   ],
   "source": [
    "#Sending Fancy Emails\n",
    "#Including HTML Content\n",
    "\n",
    "\n",
    "#https://realpython.com/python-send-email/\n",
    "#https://blog.mailtrap.io/sending-emails-in-python-tutorial-with-code-examples/\n",
    "#! /usr/bin/python\n",
    "\n",
    "import smtplib\n",
    "import getpass\n",
    "\n",
    "from email.mime.multipart import MIMEMultipart\n",
    "from email.mime.text import MIMEText\n",
    "\n",
    "# me == my email address\n",
    "# you == recipient's email address\n",
    "me = \"sender_email\"\n",
    "you = \"rec_email\"\n",
    "\n",
    "password = getpass.getpass('Password? ')\n",
    "\n",
    "# Create message container - the correct MIME type is multipart/alternative.\n",
    "msg = MIMEMultipart('alternative')\n",
    "msg['Subject'] = \"Link\"\n",
    "msg['From'] = me\n",
    "msg['To'] = you\n",
    "\n",
    "# Create the body of the message (a plain-text and an HTML version).\n",
    "text = \"Hi!\\nHow are you?\\nHere is the link you wanted:\\nhttp://www.python.org\"\n",
    "html = \"\"\"\\\n",
    "<html>\n",
    "  <head></head>\n",
    "  <body>\n",
    "    <p>Hi!<br>\n",
    "       How are you?<br>\n",
    "       Here is the <a href=\"http://www.python.org\">link</a> you wanted.\n",
    "    </p>\n",
    "  </body>\n",
    "</html>\n",
    "\"\"\"\n",
    "\n",
    "# Record the MIME types of both parts - text/plain and text/html.\n",
    "part1 = MIMEText(text, 'plain')\n",
    "part2 = MIMEText(html, 'html')\n",
    "\n",
    "# Attach parts into message container.\n",
    "# According to RFC 2046, the last part of a multipart message, in this case\n",
    "# the HTML message, is best and preferred.\n",
    "msg.attach(part1)\n",
    "msg.attach(part2)\n",
    "\n",
    "# Send the message via local SMTP server.\n",
    "s = smtplib.SMTP('smtp.gmail.com', 587)\n",
    "\n",
    "s.starttls()\n",
    "s.login(me, password)\n",
    "print(\"Login success\")\n",
    "\n",
    "\n",
    "\n",
    "# sendmail function takes 3 arguments: sender's address, recipient's address\n",
    "# and message to send - here it is sent as one string.\n",
    "s.sendmail(me, you, msg.as_string())\n",
    "print(\"Email has been sent to \", you)\n",
    "s.quit()"
   ]
  },
  {
   "cell_type": "code",
   "execution_count": null,
   "metadata": {},
   "outputs": [],
   "source": []
  },
  {
   "cell_type": "markdown",
   "metadata": {},
   "source": [
    "#### Adding Attachments Using the email Package"
   ]
  },
  {
   "cell_type": "code",
   "execution_count": 49,
   "metadata": {},
   "outputs": [
    {
     "name": "stdout",
     "output_type": "stream",
     "text": [
      "Password? ········\n"
     ]
    }
   ],
   "source": [
    "import email, smtplib, ssl\n",
    "import getpass\n",
    "\n",
    "from email import encoders\n",
    "from email.mime.base import MIMEBase\n",
    "from email.mime.multipart import MIMEMultipart\n",
    "from email.mime.text import MIMEText\n",
    "\n",
    "subject = \"An email with attachment from Python\"\n",
    "body = \"This is an email with attachment sent from Python\"\n",
    "sender_email = \"sender_email\"\n",
    "receiver_email = \"receiver_email\"\n",
    "password = getpass.getpass('Password? ')\n",
    "\n",
    "# Create a multipart message and set headers\n",
    "message = MIMEMultipart()\n",
    "message[\"From\"] = sender_email\n",
    "message[\"To\"] = receiver_email\n",
    "message[\"Subject\"] = subject\n",
    "message[\"Bcc\"] = receiver_email  # Recommended for mass emails\n",
    "\n",
    "# Add body to email\n",
    "message.attach(MIMEText(body, \"plain\"))\n",
    "\n",
    "filename = \"Installation of Virtual Platform and Create Virtual Machine.pdf\"  # In same directory as script\n",
    "\n",
    "# Open PDF file in binary mode\n",
    "with open(filename, \"rb\") as attachment:\n",
    "    # Add file as application/octet-stream\n",
    "    # Email client can usually download this automatically as attachment\n",
    "    part = MIMEBase(\"application\", \"octet-stream\")\n",
    "    part.set_payload(attachment.read())\n",
    "\n",
    "# Encode file in ASCII characters to send by email    \n",
    "encoders.encode_base64(part)\n",
    "\n",
    "# Add header as key/value pair to attachment part\n",
    "part.add_header(\n",
    "    \"Content-Disposition\",\n",
    "    f\"attachment; filename= {filename}\",\n",
    ")\n",
    "\n",
    "# Add attachment to message and convert message to string\n",
    "message.attach(part)\n",
    "text = message.as_string()\n",
    "\n",
    "# Log in to server using secure context and send email\n",
    "context = ssl.create_default_context()\n",
    "with smtplib.SMTP_SSL(\"smtp.gmail.com\", 465, context=context) as server:\n",
    "    server.login(sender_email, password)\n",
    "    server.sendmail(sender_email, receiver_email, text)\n"
   ]
  },
  {
   "cell_type": "markdown",
   "metadata": {},
   "source": [
    "## Generating PDFs from Python"
   ]
  },
  {
   "cell_type": "markdown",
   "metadata": {},
   "source": [
    "Introduction to Generating PDFs\n",
    "\n",
    "Depending on what your automation does, you might want to generate a PDF report at the end, which lets you decide exactly how you want your information to look like.\n",
    "\n",
    "There's a few tools in Python that let you generate PDFs with the content that you want. Here, we'll learn about one of them: ReportLab. ReportLab (https://bitbucket.org/rptlab/reportlab/src/default/) has a lot of different features for creating PDF documents. We'll cover just the basics here, and give you pointers for more information at the end.\n",
    "\n",
    "For our examples, we'll be mostly using the high-level classes and methods in the Page Layout and Typography Using Scripts (PLATYPUS) part of the ReportLab module.\n",
    "\n",
    "Let's say that I have an awesome collection of fruit, and I want to create a PDF report of all the different kinds of fruit I have! I can easily represent the different kinds of fruit and how much of each I have with a Python dictionary. It might look something like this:"
   ]
  },
  {
   "cell_type": "code",
   "execution_count": 50,
   "metadata": {},
   "outputs": [],
   "source": [
    "fruit = {\n",
    "  \"elderberries\": 1,\n",
    "  \"figs\": 1,\n",
    "  \"apples\": 2,\n",
    "  \"durians\": 3,\n",
    "  \"bananas\": 5,\n",
    "  \"cherries\": 8,\n",
    "  \"grapes\": 13\n",
    "}\n"
   ]
  },
  {
   "cell_type": "markdown",
   "metadata": {},
   "source": [
    "Now let's take this information and turn it into a report that we can show off! We're going to use the SimpleDocTemplate class to build our PDF."
   ]
  },
  {
   "cell_type": "code",
   "execution_count": 52,
   "metadata": {},
   "outputs": [
    {
     "name": "stdout",
     "output_type": "stream",
     "text": [
      "Note: you may need to restart the kernel to use updated packages.Collecting reportlab\n",
      "\n",
      "  Downloading reportlab-3.5.49-cp37-cp37m-win_amd64.whl (2.3 MB)\n",
      "Requirement already satisfied: pillow>=4.0.0 in d:\\anacona\\envs\\tensorflow\\lib\\site-packages (from reportlab) (7.2.0)\n",
      "Installing collected packages: reportlab\n",
      "Successfully installed reportlab-3.5.49\n"
     ]
    }
   ],
   "source": [
    "pip install reportlab"
   ]
  },
  {
   "cell_type": "code",
   "execution_count": 54,
   "metadata": {},
   "outputs": [],
   "source": [
    "from reportlab.platypus import SimpleDocTemplate\n",
    "report = SimpleDocTemplate(\"report.pdf\")"
   ]
  },
  {
   "cell_type": "code",
   "execution_count": 55,
   "metadata": {},
   "outputs": [
    {
     "name": "stdout",
     "output_type": "stream",
     "text": [
      "<reportlab.platypus.doctemplate.SimpleDocTemplate object at 0x000000000577F408>\n"
     ]
    }
   ],
   "source": [
    "print(report)"
   ]
  },
  {
   "cell_type": "markdown",
   "metadata": {},
   "source": [
    "The report object that we just created will end up generating a PDF using the filename report.pdf. Now, let's add some content to it! We'll create a title, some text in paragraphs, and some charts and images. For that, we're going to use what reportlab calls Flowables. Flowables are sort of like chunks of a document that reportlab can arrange to make a complete report. Let's import some Flowable classes."
   ]
  },
  {
   "cell_type": "code",
   "execution_count": 56,
   "metadata": {},
   "outputs": [],
   "source": [
    "from reportlab.platypus import Paragraph, Spacer, Table, Image"
   ]
  },
  {
   "cell_type": "markdown",
   "metadata": {},
   "source": [
    "Each of these items (Paragraph, Spacer, Table, and Image) are classes that build individual elements in the final document. We have to tell reportlab what style we want each part of the document to have, so let's import some more things from the module to describe style."
   ]
  },
  {
   "cell_type": "code",
   "execution_count": 57,
   "metadata": {},
   "outputs": [],
   "source": [
    "from reportlab.lib.styles import getSampleStyleSheet\n",
    "styles = getSampleStyleSheet()"
   ]
  },
  {
   "cell_type": "markdown",
   "metadata": {},
   "source": [
    "You can make a style all of your own, but we’ll use the default provided by the module for these examples. The styles object now contains a default \"sample\" style. It’s like a dictionary of different style settings. If you've ever written HTML, the style settings will look familiar. For example h1 represents the style for the first level of headers. Alright, we're finally ready to give this report a title!"
   ]
  },
  {
   "cell_type": "code",
   "execution_count": 58,
   "metadata": {},
   "outputs": [],
   "source": [
    "report_title = Paragraph(\"A Complete Inventory of My Fruit\", styles[\"h1\"])"
   ]
  },
  {
   "cell_type": "markdown",
   "metadata": {},
   "source": [
    "Let's take a look at what this will look like. We can build the PDF now by using the build() method of our report. It takes a list of Flowable elements, and generates a PDF with them."
   ]
  },
  {
   "cell_type": "code",
   "execution_count": 59,
   "metadata": {},
   "outputs": [],
   "source": [
    "report.build([report_title])"
   ]
  },
  {
   "cell_type": "markdown",
   "metadata": {},
   "source": [
    "Adding Tables to our PDFs\n",
    "\n",
    "\n",
    "Up to now, we've generated an extra simple PDF file, that just includes a title.\n",
    "\n",
    "Let's spice this up by adding a Table. To make a Table object, we need our data to be in a list-of-lists, sometimes called a two-dimensional array. We have our inventory of fruit in a dictionary. How can we convert a dictionary into a list-of-lists?"
   ]
  },
  {
   "cell_type": "code",
   "execution_count": 61,
   "metadata": {},
   "outputs": [
    {
     "name": "stdout",
     "output_type": "stream",
     "text": [
      "[['elderberries', 1], ['figs', 1], ['apples', 2], ['durians', 3], ['bananas', 5], ['cherries', 8], ['grapes', 13]]\n"
     ]
    }
   ],
   "source": [
    "table_data = []\n",
    "for k, v in fruit.items():\n",
    "    table_data.append([k, v])\n",
    "print(table_data)"
   ]
  },
  {
   "cell_type": "markdown",
   "metadata": {},
   "source": [
    "Great, we have the list of lists. We can now add it to our report and then generate the PDF file once again by calling the build method."
   ]
  },
  {
   "cell_type": "code",
   "execution_count": 63,
   "metadata": {},
   "outputs": [],
   "source": [
    "report_table = Table(data=table_data)\n",
    "report.build([report_title, report_table])"
   ]
  },
  {
   "cell_type": "markdown",
   "metadata": {},
   "source": [
    "Okay, it worked! It's not very easy to read, though. Maybe we should add some style to report_table. For our example, we'll add a border around all of the cells in our table, and move the table over to the left. TableStyle definitions can get pretty complicated, so feel free to take a look at the documentation for a more complete idea of what’s possible."
   ]
  },
  {
   "cell_type": "code",
   "execution_count": 69,
   "metadata": {},
   "outputs": [],
   "source": [
    "from reportlab.lib import colors\n",
    "table_style = [('GRID', (0,0), (-1,-1), 1, colors.blue)]\n",
    "report_table = Table(data=table_data, style=table_style, hAlign=\"LEFT\")\n",
    "report.build([report_title, report_table])"
   ]
  },
  {
   "cell_type": "markdown",
   "metadata": {},
   "source": [
    "Adding Graphics to our PDFs\n",
    "\n",
    "\n",
    "Up to now, we've generated a report with a title and a table of data. Next let's add something a little more graphical. What could be better than a fruit pie (graph)?! We’re going to need to use the Drawing Flowable class to create a Pie chart."
   ]
  },
  {
   "cell_type": "code",
   "execution_count": 89,
   "metadata": {},
   "outputs": [],
   "source": [
    "from reportlab.graphics.shapes import Drawing\n",
    "from reportlab.graphics.charts.piecharts import Pie\n",
    "report_pie = Pie(width=3*inch, height=3*inch)"
   ]
  },
  {
   "cell_type": "markdown",
   "metadata": {},
   "source": [
    "To add data to our Pie chart, we need two separate lists: One for data, and one for labels. Once more, we’re going to have to transform our fruit dictionary into a different shape. For an added twist, let's sort the fruit in alphabetical order:"
   ]
  },
  {
   "cell_type": "code",
   "execution_count": 90,
   "metadata": {},
   "outputs": [
    {
     "name": "stdout",
     "output_type": "stream",
     "text": [
      "[2, 5, 8, 3, 1, 1, 13]\n",
      "['apples', 'bananas', 'cherries', 'durians', 'elderberries', 'figs', 'grapes']\n"
     ]
    }
   ],
   "source": [
    "report_pie.data = []\n",
    "report_pie.labels = []\n",
    "for fruit_name in sorted(fruit):\n",
    "    report_pie.data.append(fruit[fruit_name])\n",
    "    report_pie.labels.append(fruit_name)\n",
    "print(report_pie.data)\n",
    "print(report_pie.labels)"
   ]
  },
  {
   "cell_type": "markdown",
   "metadata": {},
   "source": [
    "The Pie object isn’t Flowable, but it can be placed inside of a Flowable Drawing."
   ]
  },
  {
   "cell_type": "code",
   "execution_count": 91,
   "metadata": {},
   "outputs": [],
   "source": [
    "report_chart = Drawing()\n",
    "report_chart.add(report_pie)"
   ]
  },
  {
   "cell_type": "markdown",
   "metadata": {},
   "source": [
    "Now, we'll add the new Drawing to the report, and see what it looks like."
   ]
  },
  {
   "cell_type": "code",
   "execution_count": 92,
   "metadata": {},
   "outputs": [],
   "source": [
    "report.build([report_title, report_table, report_chart])"
   ]
  },
  {
   "cell_type": "markdown",
   "metadata": {},
   "source": [
    "Alright, and with that, you've seen a few examples of what we can do with the ReportLab library.  There's a ton more things that can be done that we won't cover here. You'll want to refer to the ReportLab User Guide for more details on the features we've seen, and to see what else you can create with it.\n",
    "\n",
    "By the way, the ReportLab User Guide is a PDF that is generated using reportlab! Cool, right?"
   ]
  },
  {
   "cell_type": "code",
   "execution_count": null,
   "metadata": {},
   "outputs": [],
   "source": []
  }
 ],
 "metadata": {
  "kernelspec": {
   "display_name": "Python 3",
   "language": "python",
   "name": "python3"
  },
  "language_info": {
   "codemirror_mode": {
    "name": "ipython",
    "version": 3
   },
   "file_extension": ".py",
   "mimetype": "text/x-python",
   "name": "python",
   "nbconvert_exporter": "python",
   "pygments_lexer": "ipython3",
   "version": "3.7.7"
  }
 },
 "nbformat": 4,
 "nbformat_minor": 4
}
