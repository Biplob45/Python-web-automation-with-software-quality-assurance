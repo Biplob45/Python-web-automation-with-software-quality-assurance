{
 "cells": [
  {
   "cell_type": "code",
   "execution_count": 1,
   "metadata": {},
   "outputs": [
    {
     "name": "stdout",
     "output_type": "stream",
     "text": [
      "Requirement already satisfied: selenium in d:\\anacona\\lib\\site-packages (3.141.0)\n",
      "Requirement already satisfied: urllib3 in d:\\anacona\\lib\\site-packages (from selenium) (1.24.2)\n",
      "Note: you may need to restart the kernel to use updated packages.\n"
     ]
    }
   ],
   "source": [
    "pip install selenium"
   ]
  },
  {
   "cell_type": "code",
   "execution_count": 1,
   "metadata": {},
   "outputs": [
    {
     "name": "stdout",
     "output_type": "stream",
     "text": [
      "sample test case started\n"
     ]
    }
   ],
   "source": [
    "#Automate Google Search using Selenium | Python | Web Automation\n",
    "from selenium import webdriver  \n",
    "import time  \n",
    "from selenium.webdriver.common.keys import Keys  \n",
    "print(\"sample test case started\")  \n",
    "driver = webdriver.Chrome(r\"C:\\Users\\Biplob\\Desktop\\chromedriver.exe\")  \n",
    " \n",
    "#maximize the window size  \n",
    "driver.maximize_window()  \n",
    "#navigate to the url  \n",
    "driver.get(\"https://www.google.com/\")  \n",
    "#identify the Google search text box and enter the value  \n",
    "driver.find_element_by_name(\"q\").send_keys(\"Falcon\")  \n",
    "time.sleep(3)  \n",
    "#click on the Google search button  \n",
    "driver.find_element_by_name(\"btnK\").click()  \n",
    "time.sleep(3)  \n",
    "#close the browser  \n",
    "driver.close()  \n"
   ]
  },
  {
   "cell_type": "code",
   "execution_count": 2,
   "metadata": {},
   "outputs": [],
   "source": [
    "#Automate Facebook Login using selenium with python\n",
    "\n",
    "#pip install selenium if you don't have it installed\n",
    "from time import sleep\n",
    "from selenium import webdriver\n",
    "\n",
    "#https://www.youtube.com/watch?v=mHtlBq5cP2Y\n",
    "#chrome://version/\n",
    "#https://sites.google.com/a/chromium.org/chromedriver/downloads\n",
    "#insert path to the chromedriver\n",
    "driver = webdriver.Chrome(r\"C:\\Users\\Biplob\\Desktop\\chromedriver.exe\")\n",
    "\n",
    "#open up stackoverflow.com\n",
    "driver.get(\"https://stackoverflow.com\")\n",
    "\n",
    "#look for the login button\n",
    "login_button = driver.find_element_by_xpath('/html/body/header/div/ol[2]/li[2]/a[1]')\n",
    "#click on the login button\n",
    "login_button.click()\n",
    "\n",
    "#allow some time for the page to load before moving on\n",
    "sleep(2)\n",
    "\n",
    "#look for the username field\n",
    "username = driver.find_element_by_xpath('//*[@id=\"email\"]')\n",
    "#type in your email\n",
    "username.send_keys(\"example@gmail.com\")\n",
    "\n",
    "#look for the password field\n",
    "password = driver.find_element_by_xpath('//*[@id=\"password\"]')\n",
    "#type in your email\n",
    "password.send_keys(\"password\")\n",
    "\n",
    "#click on submit button\n",
    "driver.find_element_by_xpath('//*[@id=\"submit-button\"]').click()"
   ]
  },
  {
   "cell_type": "code",
   "execution_count": null,
   "metadata": {},
   "outputs": [],
   "source": []
  },
  {
   "cell_type": "code",
   "execution_count": null,
   "metadata": {},
   "outputs": [],
   "source": []
  },
  {
   "cell_type": "code",
   "execution_count": 3,
   "metadata": {},
   "outputs": [
    {
     "name": "stdout",
     "output_type": "stream",
     "text": [
      "Requirement already satisfied: pyautogui in d:\\anacona\\envs\\tensorflow\\lib\\site-packages (0.9.50)Note: you may need to restart the kernel to use updated packages.\n",
      "\n",
      "Requirement already satisfied: pymsgbox in d:\\anacona\\envs\\tensorflow\\lib\\site-packages (from pyautogui) (1.0.8)\n",
      "Requirement already satisfied: pyscreeze>=0.1.21 in d:\\anacona\\envs\\tensorflow\\lib\\site-packages (from pyautogui) (0.1.26)\n",
      "Requirement already satisfied: PyTweening>=1.0.1 in d:\\anacona\\envs\\tensorflow\\lib\\site-packages (from pyautogui) (1.0.3)\n",
      "Requirement already satisfied: pygetwindow>=0.0.5 in d:\\anacona\\envs\\tensorflow\\lib\\site-packages (from pyautogui) (0.0.8)\n",
      "Requirement already satisfied: mouseinfo in d:\\anacona\\envs\\tensorflow\\lib\\site-packages (from pyautogui) (0.1.3)\n",
      "Requirement already satisfied: Pillow>=5.2.0; python_version == \"3.7\" in d:\\anacona\\envs\\tensorflow\\lib\\site-packages (from pyscreeze>=0.1.21->pyautogui) (7.2.0)\n",
      "Requirement already satisfied: pyrect in d:\\anacona\\envs\\tensorflow\\lib\\site-packages (from pygetwindow>=0.0.5->pyautogui) (0.1.4)\n",
      "Requirement already satisfied: pyperclip in d:\\anacona\\envs\\tensorflow\\lib\\site-packages (from mouseinfo->pyautogui) (1.8.0)\n"
     ]
    }
   ],
   "source": [
    "pip install pyautogui"
   ]
  },
  {
   "cell_type": "code",
   "execution_count": null,
   "metadata": {},
   "outputs": [],
   "source": [
    "import pyautogui\n",
    "import time\n",
    "while True:\n",
    "    time.sleep(4)\n",
    "    pyautogui.typewrite('I want to marry you')\n",
    "    time.sleep(2)\n",
    "    \n",
    "    pyautogui.press('enter')"
   ]
  },
  {
   "cell_type": "code",
   "execution_count": null,
   "metadata": {},
   "outputs": [],
   "source": []
  },
  {
   "cell_type": "markdown",
   "metadata": {},
   "source": [
    "# Advanced Python Programming: Browser Automation with Selenium\n",
    "\n",
    "https://www.youtube.com/watch?v=GJjMjB3rkJM"
   ]
  },
  {
   "cell_type": "code",
   "execution_count": 58,
   "metadata": {},
   "outputs": [],
   "source": [
    "from selenium import webdriver"
   ]
  },
  {
   "cell_type": "code",
   "execution_count": 59,
   "metadata": {},
   "outputs": [],
   "source": [
    "driver = webdriver.Chrome(r\"C:\\Users\\Biplob\\Desktop\\chromedriver.exe\")\n"
   ]
  },
  {
   "cell_type": "code",
   "execution_count": 60,
   "metadata": {},
   "outputs": [],
   "source": [
    "driver.get('https://www.selenium.dev/')"
   ]
  },
  {
   "cell_type": "code",
   "execution_count": 61,
   "metadata": {},
   "outputs": [
    {
     "data": {
      "text/plain": [
       "<selenium.webdriver.remote.webelement.WebElement (session=\"82ce611e298784f50a1625b111059c4f\", element=\"a0c33551-642a-4bc3-8a0e-3acbe63f3a44\")>"
      ]
     },
     "execution_count": 61,
     "metadata": {},
     "output_type": "execute_result"
    }
   ],
   "source": [
    "#driver.find_element_by_id('dropdownButton')\n",
    "driver.find_element_by_link_text('Downloads')"
   ]
  },
  {
   "cell_type": "code",
   "execution_count": 62,
   "metadata": {},
   "outputs": [],
   "source": [
    "#elem = driver.find_element_by_id('dropdownButton') \n",
    "elem = driver.find_element_by_link_text('Downloads')"
   ]
  },
  {
   "cell_type": "code",
   "execution_count": 63,
   "metadata": {},
   "outputs": [
    {
     "data": {
      "text/plain": [
       "'Downloads'"
      ]
     },
     "execution_count": 63,
     "metadata": {},
     "output_type": "execute_result"
    }
   ],
   "source": [
    "elem.text"
   ]
  },
  {
   "cell_type": "code",
   "execution_count": 64,
   "metadata": {},
   "outputs": [
    {
     "data": {
      "text/plain": [
       "'https://www.selenium.dev/downloads'"
      ]
     },
     "execution_count": 64,
     "metadata": {},
     "output_type": "execute_result"
    }
   ],
   "source": [
    "elem.get_attribute('href')"
   ]
  },
  {
   "cell_type": "code",
   "execution_count": 65,
   "metadata": {},
   "outputs": [],
   "source": [
    "elem.click()"
   ]
  },
  {
   "cell_type": "code",
   "execution_count": 66,
   "metadata": {},
   "outputs": [],
   "source": [
    "elem = driver.find_element_by_link_text('Projects')"
   ]
  },
  {
   "cell_type": "code",
   "execution_count": 67,
   "metadata": {},
   "outputs": [
    {
     "data": {
      "text/plain": [
       "'https://www.selenium.dev/projects'"
      ]
     },
     "execution_count": 67,
     "metadata": {},
     "output_type": "execute_result"
    }
   ],
   "source": [
    "elem.get_attribute('href')"
   ]
  },
  {
   "cell_type": "code",
   "execution_count": 68,
   "metadata": {},
   "outputs": [],
   "source": [
    "elem.click()"
   ]
  },
  {
   "cell_type": "code",
   "execution_count": 69,
   "metadata": {},
   "outputs": [],
   "source": [
    "searchBar = driver.find_element_by_id('gsc-i-id1')"
   ]
  },
  {
   "cell_type": "code",
   "execution_count": 71,
   "metadata": {},
   "outputs": [],
   "source": [
    "searchBar.send_keys('Downloads')"
   ]
  },
  {
   "cell_type": "code",
   "execution_count": 72,
   "metadata": {},
   "outputs": [],
   "source": [
    "from selenium.webdriver.common.keys import Keys"
   ]
  },
  {
   "cell_type": "code",
   "execution_count": 74,
   "metadata": {},
   "outputs": [],
   "source": [
    "searchBar.send_keys(Keys.ENTER)"
   ]
  },
  {
   "cell_type": "code",
   "execution_count": null,
   "metadata": {},
   "outputs": [],
   "source": []
  }
 ],
 "metadata": {
  "kernelspec": {
   "display_name": "Python 3",
   "language": "python",
   "name": "python3"
  },
  "language_info": {
   "codemirror_mode": {
    "name": "ipython",
    "version": 3
   },
   "file_extension": ".py",
   "mimetype": "text/x-python",
   "name": "python",
   "nbconvert_exporter": "python",
   "pygments_lexer": "ipython3",
   "version": "3.7.7"
  }
 },
 "nbformat": 4,
 "nbformat_minor": 4
}
